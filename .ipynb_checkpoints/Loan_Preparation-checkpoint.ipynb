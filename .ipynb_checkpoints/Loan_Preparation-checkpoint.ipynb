{
 "cells": [
  {
   "cell_type": "markdown",
   "metadata": {},
   "source": [
    "#                                         Lending Club Loan Data"
   ]
  },
  {
   "cell_type": "markdown",
   "metadata": {},
   "source": [
    "## Import Data"
   ]
  },
  {
   "cell_type": "code",
   "execution_count": 1,
   "metadata": {},
   "outputs": [
    {
     "name": "stderr",
     "output_type": "stream",
     "text": [
      "In C:\\Users\\16473\\miniconda3\\envs\\sm-202011\\lib\\site-packages\\matplotlib\\mpl-data\\stylelib\\_classic_test.mplstyle: \n",
      "The text.latex.preview rcparam was deprecated in Matplotlib 3.3 and will be removed two minor releases later.\n",
      "In C:\\Users\\16473\\miniconda3\\envs\\sm-202011\\lib\\site-packages\\matplotlib\\mpl-data\\stylelib\\_classic_test.mplstyle: \n",
      "The mathtext.fallback_to_cm rcparam was deprecated in Matplotlib 3.3 and will be removed two minor releases later.\n",
      "In C:\\Users\\16473\\miniconda3\\envs\\sm-202011\\lib\\site-packages\\matplotlib\\mpl-data\\stylelib\\_classic_test.mplstyle: Support for setting the 'mathtext.fallback_to_cm' rcParam is deprecated since 3.3 and will be removed two minor releases later; use 'mathtext.fallback : 'cm' instead.\n",
      "In C:\\Users\\16473\\miniconda3\\envs\\sm-202011\\lib\\site-packages\\matplotlib\\mpl-data\\stylelib\\_classic_test.mplstyle: \n",
      "The validate_bool_maybe_none function was deprecated in Matplotlib 3.3 and will be removed two minor releases later.\n",
      "In C:\\Users\\16473\\miniconda3\\envs\\sm-202011\\lib\\site-packages\\matplotlib\\mpl-data\\stylelib\\_classic_test.mplstyle: \n",
      "The savefig.jpeg_quality rcparam was deprecated in Matplotlib 3.3 and will be removed two minor releases later.\n",
      "In C:\\Users\\16473\\miniconda3\\envs\\sm-202011\\lib\\site-packages\\matplotlib\\mpl-data\\stylelib\\_classic_test.mplstyle: \n",
      "The keymap.all_axes rcparam was deprecated in Matplotlib 3.3 and will be removed two minor releases later.\n",
      "In C:\\Users\\16473\\miniconda3\\envs\\sm-202011\\lib\\site-packages\\matplotlib\\mpl-data\\stylelib\\_classic_test.mplstyle: \n",
      "The animation.avconv_path rcparam was deprecated in Matplotlib 3.3 and will be removed two minor releases later.\n",
      "In C:\\Users\\16473\\miniconda3\\envs\\sm-202011\\lib\\site-packages\\matplotlib\\mpl-data\\stylelib\\_classic_test.mplstyle: \n",
      "The animation.avconv_args rcparam was deprecated in Matplotlib 3.3 and will be removed two minor releases later.\n"
     ]
    }
   ],
   "source": [
    "import numpy as np\n",
    "import scipy as sp\n",
    "import pandas as pd\n",
    "import matplotlib as mpl\n",
    "import matplotlib.pyplot as plt\n",
    "import seaborn as sns\n",
    "\n",
    "\n",
    "# Pandas options\n",
    "pd.set_option('display.max_colwidth', 1000, 'display.max_rows', None, 'display.max_columns', None)\n",
    "\n",
    "# Plotting options\n",
    "%matplotlib inline\n",
    "mpl.style.use('ggplot')\n",
    "sns.set(style='whitegrid')"
   ]
  },
  {
   "cell_type": "code",
   "execution_count": 2,
   "metadata": {},
   "outputs": [],
   "source": [
    "SAMPLE = True"
   ]
  },
  {
   "cell_type": "code",
   "execution_count": 3,
   "metadata": {},
   "outputs": [
    {
     "name": "stderr",
     "output_type": "stream",
     "text": [
      "C:\\Users\\16473\\miniconda3\\envs\\sm-202011\\lib\\site-packages\\IPython\\core\\interactiveshell.py:3147: DtypeWarning: Columns (0,19,49,59,118,129,130,131,134,135,136,139,145,146,147) have mixed types. Specify dtype option on import or set low_memory=False.\n",
      "  interactivity=interactivity, compiler=compiler, result=result)\n"
     ]
    }
   ],
   "source": [
    "loans = pd.read_csv('../project_1/accepted_2007_to_2018Q4.csv.gz', compression='gzip', low_memory=True) #Load data into pandas\n",
    "\n",
    "if SAMPLE:\n",
    "    loans = loans.sample(frac=0.01)"
   ]
  },
  {
   "cell_type": "code",
   "execution_count": 4,
   "metadata": {},
   "outputs": [
    {
     "name": "stdout",
     "output_type": "stream",
     "text": [
      "<class 'pandas.core.frame.DataFrame'>\n",
      "Int64Index: 22607 entries, 677200 to 67314\n",
      "Columns: 151 entries, id to settlement_term\n",
      "dtypes: float64(113), object(38)\n",
      "memory usage: 26.2+ MB\n"
     ]
    }
   ],
   "source": [
    "loans.info()"
   ]
  },
  {
   "cell_type": "code",
   "execution_count": 5,
   "metadata": {},
   "outputs": [],
   "source": [
    "pd.options.display.float_format = '{:,.2f}'.format "
   ]
  },
  {
   "cell_type": "code",
   "execution_count": 6,
   "metadata": {},
   "outputs": [
    {
     "data": {
      "text/html": [
       "<div>\n",
       "<style scoped>\n",
       "    .dataframe tbody tr th:only-of-type {\n",
       "        vertical-align: middle;\n",
       "    }\n",
       "\n",
       "    .dataframe tbody tr th {\n",
       "        vertical-align: top;\n",
       "    }\n",
       "\n",
       "    .dataframe thead th {\n",
       "        text-align: right;\n",
       "    }\n",
       "</style>\n",
       "<table border=\"1\" class=\"dataframe\">\n",
       "  <thead>\n",
       "    <tr style=\"text-align: right;\">\n",
       "      <th></th>\n",
       "      <th>id</th>\n",
       "      <th>member_id</th>\n",
       "      <th>loan_amnt</th>\n",
       "      <th>funded_amnt</th>\n",
       "      <th>funded_amnt_inv</th>\n",
       "      <th>term</th>\n",
       "      <th>int_rate</th>\n",
       "      <th>installment</th>\n",
       "      <th>grade</th>\n",
       "      <th>sub_grade</th>\n",
       "      <th>emp_title</th>\n",
       "      <th>emp_length</th>\n",
       "      <th>home_ownership</th>\n",
       "      <th>annual_inc</th>\n",
       "      <th>verification_status</th>\n",
       "      <th>issue_d</th>\n",
       "      <th>loan_status</th>\n",
       "      <th>pymnt_plan</th>\n",
       "      <th>url</th>\n",
       "      <th>desc</th>\n",
       "      <th>purpose</th>\n",
       "      <th>title</th>\n",
       "      <th>zip_code</th>\n",
       "      <th>addr_state</th>\n",
       "      <th>dti</th>\n",
       "      <th>delinq_2yrs</th>\n",
       "      <th>earliest_cr_line</th>\n",
       "      <th>fico_range_low</th>\n",
       "      <th>fico_range_high</th>\n",
       "      <th>inq_last_6mths</th>\n",
       "      <th>mths_since_last_delinq</th>\n",
       "      <th>mths_since_last_record</th>\n",
       "      <th>open_acc</th>\n",
       "      <th>pub_rec</th>\n",
       "      <th>revol_bal</th>\n",
       "      <th>revol_util</th>\n",
       "      <th>total_acc</th>\n",
       "      <th>initial_list_status</th>\n",
       "      <th>out_prncp</th>\n",
       "      <th>out_prncp_inv</th>\n",
       "      <th>total_pymnt</th>\n",
       "      <th>total_pymnt_inv</th>\n",
       "      <th>total_rec_prncp</th>\n",
       "      <th>total_rec_int</th>\n",
       "      <th>total_rec_late_fee</th>\n",
       "      <th>recoveries</th>\n",
       "      <th>collection_recovery_fee</th>\n",
       "      <th>last_pymnt_d</th>\n",
       "      <th>last_pymnt_amnt</th>\n",
       "      <th>next_pymnt_d</th>\n",
       "      <th>last_credit_pull_d</th>\n",
       "      <th>last_fico_range_high</th>\n",
       "      <th>last_fico_range_low</th>\n",
       "      <th>collections_12_mths_ex_med</th>\n",
       "      <th>mths_since_last_major_derog</th>\n",
       "      <th>policy_code</th>\n",
       "      <th>application_type</th>\n",
       "      <th>annual_inc_joint</th>\n",
       "      <th>dti_joint</th>\n",
       "      <th>verification_status_joint</th>\n",
       "      <th>acc_now_delinq</th>\n",
       "      <th>tot_coll_amt</th>\n",
       "      <th>tot_cur_bal</th>\n",
       "      <th>open_acc_6m</th>\n",
       "      <th>open_act_il</th>\n",
       "      <th>open_il_12m</th>\n",
       "      <th>open_il_24m</th>\n",
       "      <th>mths_since_rcnt_il</th>\n",
       "      <th>total_bal_il</th>\n",
       "      <th>il_util</th>\n",
       "      <th>open_rv_12m</th>\n",
       "      <th>open_rv_24m</th>\n",
       "      <th>max_bal_bc</th>\n",
       "      <th>all_util</th>\n",
       "      <th>total_rev_hi_lim</th>\n",
       "      <th>inq_fi</th>\n",
       "      <th>total_cu_tl</th>\n",
       "      <th>inq_last_12m</th>\n",
       "      <th>acc_open_past_24mths</th>\n",
       "      <th>avg_cur_bal</th>\n",
       "      <th>bc_open_to_buy</th>\n",
       "      <th>bc_util</th>\n",
       "      <th>chargeoff_within_12_mths</th>\n",
       "      <th>delinq_amnt</th>\n",
       "      <th>mo_sin_old_il_acct</th>\n",
       "      <th>mo_sin_old_rev_tl_op</th>\n",
       "      <th>mo_sin_rcnt_rev_tl_op</th>\n",
       "      <th>mo_sin_rcnt_tl</th>\n",
       "      <th>mort_acc</th>\n",
       "      <th>mths_since_recent_bc</th>\n",
       "      <th>mths_since_recent_bc_dlq</th>\n",
       "      <th>mths_since_recent_inq</th>\n",
       "      <th>mths_since_recent_revol_delinq</th>\n",
       "      <th>num_accts_ever_120_pd</th>\n",
       "      <th>num_actv_bc_tl</th>\n",
       "      <th>num_actv_rev_tl</th>\n",
       "      <th>num_bc_sats</th>\n",
       "      <th>num_bc_tl</th>\n",
       "      <th>num_il_tl</th>\n",
       "      <th>num_op_rev_tl</th>\n",
       "      <th>num_rev_accts</th>\n",
       "      <th>num_rev_tl_bal_gt_0</th>\n",
       "      <th>num_sats</th>\n",
       "      <th>num_tl_120dpd_2m</th>\n",
       "      <th>num_tl_30dpd</th>\n",
       "      <th>num_tl_90g_dpd_24m</th>\n",
       "      <th>num_tl_op_past_12m</th>\n",
       "      <th>pct_tl_nvr_dlq</th>\n",
       "      <th>percent_bc_gt_75</th>\n",
       "      <th>pub_rec_bankruptcies</th>\n",
       "      <th>tax_liens</th>\n",
       "      <th>tot_hi_cred_lim</th>\n",
       "      <th>total_bal_ex_mort</th>\n",
       "      <th>total_bc_limit</th>\n",
       "      <th>total_il_high_credit_limit</th>\n",
       "      <th>revol_bal_joint</th>\n",
       "      <th>sec_app_fico_range_low</th>\n",
       "      <th>sec_app_fico_range_high</th>\n",
       "      <th>sec_app_earliest_cr_line</th>\n",
       "      <th>sec_app_inq_last_6mths</th>\n",
       "      <th>sec_app_mort_acc</th>\n",
       "      <th>sec_app_open_acc</th>\n",
       "      <th>sec_app_revol_util</th>\n",
       "      <th>sec_app_open_act_il</th>\n",
       "      <th>sec_app_num_rev_accts</th>\n",
       "      <th>sec_app_chargeoff_within_12_mths</th>\n",
       "      <th>sec_app_collections_12_mths_ex_med</th>\n",
       "      <th>sec_app_mths_since_last_major_derog</th>\n",
       "      <th>hardship_flag</th>\n",
       "      <th>hardship_type</th>\n",
       "      <th>hardship_reason</th>\n",
       "      <th>hardship_status</th>\n",
       "      <th>deferral_term</th>\n",
       "      <th>hardship_amount</th>\n",
       "      <th>hardship_start_date</th>\n",
       "      <th>hardship_end_date</th>\n",
       "      <th>payment_plan_start_date</th>\n",
       "      <th>hardship_length</th>\n",
       "      <th>hardship_dpd</th>\n",
       "      <th>hardship_loan_status</th>\n",
       "      <th>orig_projected_additional_accrued_interest</th>\n",
       "      <th>hardship_payoff_balance_amount</th>\n",
       "      <th>hardship_last_payment_amount</th>\n",
       "      <th>disbursement_method</th>\n",
       "      <th>debt_settlement_flag</th>\n",
       "      <th>debt_settlement_flag_date</th>\n",
       "      <th>settlement_status</th>\n",
       "      <th>settlement_date</th>\n",
       "      <th>settlement_amount</th>\n",
       "      <th>settlement_percentage</th>\n",
       "      <th>settlement_term</th>\n",
       "    </tr>\n",
       "  </thead>\n",
       "  <tbody>\n",
       "    <tr>\n",
       "      <th>677200</th>\n",
       "      <td>79432147</td>\n",
       "      <td>nan</td>\n",
       "      <td>7,000.00</td>\n",
       "      <td>7,000.00</td>\n",
       "      <td>7,000.00</td>\n",
       "      <td>36 months</td>\n",
       "      <td>9.16</td>\n",
       "      <td>223.12</td>\n",
       "      <td>B</td>\n",
       "      <td>B2</td>\n",
       "      <td>Driver</td>\n",
       "      <td>3 years</td>\n",
       "      <td>MORTGAGE</td>\n",
       "      <td>55,000.00</td>\n",
       "      <td>Not Verified</td>\n",
       "      <td>Jun-2016</td>\n",
       "      <td>Fully Paid</td>\n",
       "      <td>n</td>\n",
       "      <td>https://lendingclub.com/browse/loanDetail.action?loan_id=79432147</td>\n",
       "      <td>NaN</td>\n",
       "      <td>credit_card</td>\n",
       "      <td>Credit card refinancing</td>\n",
       "      <td>395xx</td>\n",
       "      <td>MS</td>\n",
       "      <td>9.23</td>\n",
       "      <td>0.00</td>\n",
       "      <td>Sep-2004</td>\n",
       "      <td>660.00</td>\n",
       "      <td>664.00</td>\n",
       "      <td>0.00</td>\n",
       "      <td>52.00</td>\n",
       "      <td>87.00</td>\n",
       "      <td>6.00</td>\n",
       "      <td>1.00</td>\n",
       "      <td>5,021.00</td>\n",
       "      <td>90.00</td>\n",
       "      <td>16.00</td>\n",
       "      <td>w</td>\n",
       "      <td>0.00</td>\n",
       "      <td>0.00</td>\n",
       "      <td>7,471.28</td>\n",
       "      <td>7,471.28</td>\n",
       "      <td>7,000.00</td>\n",
       "      <td>471.28</td>\n",
       "      <td>0.00</td>\n",
       "      <td>0.00</td>\n",
       "      <td>0.00</td>\n",
       "      <td>Mar-2017</td>\n",
       "      <td>5,689.88</td>\n",
       "      <td>NaN</td>\n",
       "      <td>Sep-2017</td>\n",
       "      <td>679.00</td>\n",
       "      <td>675.00</td>\n",
       "      <td>0.00</td>\n",
       "      <td>58.00</td>\n",
       "      <td>1.00</td>\n",
       "      <td>Individual</td>\n",
       "      <td>nan</td>\n",
       "      <td>nan</td>\n",
       "      <td>NaN</td>\n",
       "      <td>0.00</td>\n",
       "      <td>0.00</td>\n",
       "      <td>167,237.00</td>\n",
       "      <td>2.00</td>\n",
       "      <td>2.00</td>\n",
       "      <td>1.00</td>\n",
       "      <td>1.00</td>\n",
       "      <td>2.00</td>\n",
       "      <td>53,610.00</td>\n",
       "      <td>78.00</td>\n",
       "      <td>0.00</td>\n",
       "      <td>1.00</td>\n",
       "      <td>3,489.00</td>\n",
       "      <td>90.00</td>\n",
       "      <td>5,550.00</td>\n",
       "      <td>0.00</td>\n",
       "      <td>0.00</td>\n",
       "      <td>0.00</td>\n",
       "      <td>3.00</td>\n",
       "      <td>27,872.00</td>\n",
       "      <td>2,525.00</td>\n",
       "      <td>91.00</td>\n",
       "      <td>0.00</td>\n",
       "      <td>0.00</td>\n",
       "      <td>108.00</td>\n",
       "      <td>140.00</td>\n",
       "      <td>13.00</td>\n",
       "      <td>2.00</td>\n",
       "      <td>1.00</td>\n",
       "      <td>31.00</td>\n",
       "      <td>nan</td>\n",
       "      <td>13.00</td>\n",
       "      <td>nan</td>\n",
       "      <td>0.00</td>\n",
       "      <td>2.00</td>\n",
       "      <td>3.00</td>\n",
       "      <td>3.00</td>\n",
       "      <td>3.00</td>\n",
       "      <td>10.00</td>\n",
       "      <td>3.00</td>\n",
       "      <td>5.00</td>\n",
       "      <td>3.00</td>\n",
       "      <td>6.00</td>\n",
       "      <td>nan</td>\n",
       "      <td>0.00</td>\n",
       "      <td>0.00</td>\n",
       "      <td>1.00</td>\n",
       "      <td>88.00</td>\n",
       "      <td>100.00</td>\n",
       "      <td>1.00</td>\n",
       "      <td>0.00</td>\n",
       "      <td>183,988.00</td>\n",
       "      <td>58,631.00</td>\n",
       "      <td>5,050.00</td>\n",
       "      <td>68,502.00</td>\n",
       "      <td>nan</td>\n",
       "      <td>nan</td>\n",
       "      <td>nan</td>\n",
       "      <td>NaN</td>\n",
       "      <td>nan</td>\n",
       "      <td>nan</td>\n",
       "      <td>nan</td>\n",
       "      <td>nan</td>\n",
       "      <td>nan</td>\n",
       "      <td>nan</td>\n",
       "      <td>nan</td>\n",
       "      <td>nan</td>\n",
       "      <td>nan</td>\n",
       "      <td>N</td>\n",
       "      <td>NaN</td>\n",
       "      <td>NaN</td>\n",
       "      <td>NaN</td>\n",
       "      <td>nan</td>\n",
       "      <td>nan</td>\n",
       "      <td>NaN</td>\n",
       "      <td>NaN</td>\n",
       "      <td>NaN</td>\n",
       "      <td>nan</td>\n",
       "      <td>nan</td>\n",
       "      <td>NaN</td>\n",
       "      <td>nan</td>\n",
       "      <td>nan</td>\n",
       "      <td>nan</td>\n",
       "      <td>Cash</td>\n",
       "      <td>N</td>\n",
       "      <td>NaN</td>\n",
       "      <td>NaN</td>\n",
       "      <td>NaN</td>\n",
       "      <td>nan</td>\n",
       "      <td>nan</td>\n",
       "      <td>nan</td>\n",
       "    </tr>\n",
       "    <tr>\n",
       "      <th>1955599</th>\n",
       "      <td>89835102</td>\n",
       "      <td>nan</td>\n",
       "      <td>24,000.00</td>\n",
       "      <td>24,000.00</td>\n",
       "      <td>24,000.00</td>\n",
       "      <td>60 months</td>\n",
       "      <td>13.99</td>\n",
       "      <td>558.32</td>\n",
       "      <td>C</td>\n",
       "      <td>C3</td>\n",
       "      <td>Sales Director</td>\n",
       "      <td>2 years</td>\n",
       "      <td>MORTGAGE</td>\n",
       "      <td>120,000.00</td>\n",
       "      <td>Verified</td>\n",
       "      <td>Sep-2016</td>\n",
       "      <td>Current</td>\n",
       "      <td>n</td>\n",
       "      <td>https://lendingclub.com/browse/loanDetail.action?loan_id=89835102</td>\n",
       "      <td>NaN</td>\n",
       "      <td>credit_card</td>\n",
       "      <td>Credit card refinancing</td>\n",
       "      <td>440xx</td>\n",
       "      <td>OH</td>\n",
       "      <td>31.08</td>\n",
       "      <td>1.00</td>\n",
       "      <td>Mar-1991</td>\n",
       "      <td>675.00</td>\n",
       "      <td>679.00</td>\n",
       "      <td>1.00</td>\n",
       "      <td>23.00</td>\n",
       "      <td>nan</td>\n",
       "      <td>22.00</td>\n",
       "      <td>0.00</td>\n",
       "      <td>95,455.00</td>\n",
       "      <td>67.00</td>\n",
       "      <td>43.00</td>\n",
       "      <td>w</td>\n",
       "      <td>14,065.36</td>\n",
       "      <td>14,065.36</td>\n",
       "      <td>16,730.95</td>\n",
       "      <td>16,730.95</td>\n",
       "      <td>9,934.64</td>\n",
       "      <td>6,796.31</td>\n",
       "      <td>0.00</td>\n",
       "      <td>0.00</td>\n",
       "      <td>0.00</td>\n",
       "      <td>Mar-2019</td>\n",
       "      <td>558.32</td>\n",
       "      <td>Apr-2019</td>\n",
       "      <td>Mar-2019</td>\n",
       "      <td>779.00</td>\n",
       "      <td>775.00</td>\n",
       "      <td>0.00</td>\n",
       "      <td>nan</td>\n",
       "      <td>1.00</td>\n",
       "      <td>Individual</td>\n",
       "      <td>nan</td>\n",
       "      <td>nan</td>\n",
       "      <td>NaN</td>\n",
       "      <td>0.00</td>\n",
       "      <td>0.00</td>\n",
       "      <td>415,397.00</td>\n",
       "      <td>0.00</td>\n",
       "      <td>1.00</td>\n",
       "      <td>0.00</td>\n",
       "      <td>1.00</td>\n",
       "      <td>23.00</td>\n",
       "      <td>18,105.00</td>\n",
       "      <td>75.00</td>\n",
       "      <td>3.00</td>\n",
       "      <td>4.00</td>\n",
       "      <td>18,307.00</td>\n",
       "      <td>67.00</td>\n",
       "      <td>142,270.00</td>\n",
       "      <td>1.00</td>\n",
       "      <td>0.00</td>\n",
       "      <td>3.00</td>\n",
       "      <td>5.00</td>\n",
       "      <td>18,881.00</td>\n",
       "      <td>10,330.00</td>\n",
       "      <td>68.00</td>\n",
       "      <td>0.00</td>\n",
       "      <td>0.00</td>\n",
       "      <td>101.00</td>\n",
       "      <td>303.00</td>\n",
       "      <td>7.00</td>\n",
       "      <td>7.00</td>\n",
       "      <td>3.00</td>\n",
       "      <td>36.00</td>\n",
       "      <td>23.00</td>\n",
       "      <td>1.00</td>\n",
       "      <td>23.00</td>\n",
       "      <td>0.00</td>\n",
       "      <td>9.00</td>\n",
       "      <td>19.00</td>\n",
       "      <td>17.00</td>\n",
       "      <td>18.00</td>\n",
       "      <td>3.00</td>\n",
       "      <td>19.00</td>\n",
       "      <td>37.00</td>\n",
       "      <td>15.00</td>\n",
       "      <td>22.00</td>\n",
       "      <td>nan</td>\n",
       "      <td>0.00</td>\n",
       "      <td>0.00</td>\n",
       "      <td>3.00</td>\n",
       "      <td>95.00</td>\n",
       "      <td>55.60</td>\n",
       "      <td>0.00</td>\n",
       "      <td>0.00</td>\n",
       "      <td>488,864.00</td>\n",
       "      <td>136,713.00</td>\n",
       "      <td>92,970.00</td>\n",
       "      <td>24,034.00</td>\n",
       "      <td>nan</td>\n",
       "      <td>nan</td>\n",
       "      <td>nan</td>\n",
       "      <td>NaN</td>\n",
       "      <td>nan</td>\n",
       "      <td>nan</td>\n",
       "      <td>nan</td>\n",
       "      <td>nan</td>\n",
       "      <td>nan</td>\n",
       "      <td>nan</td>\n",
       "      <td>nan</td>\n",
       "      <td>nan</td>\n",
       "      <td>nan</td>\n",
       "      <td>N</td>\n",
       "      <td>NaN</td>\n",
       "      <td>NaN</td>\n",
       "      <td>NaN</td>\n",
       "      <td>nan</td>\n",
       "      <td>nan</td>\n",
       "      <td>NaN</td>\n",
       "      <td>NaN</td>\n",
       "      <td>NaN</td>\n",
       "      <td>nan</td>\n",
       "      <td>nan</td>\n",
       "      <td>NaN</td>\n",
       "      <td>nan</td>\n",
       "      <td>nan</td>\n",
       "      <td>nan</td>\n",
       "      <td>Cash</td>\n",
       "      <td>N</td>\n",
       "      <td>NaN</td>\n",
       "      <td>NaN</td>\n",
       "      <td>NaN</td>\n",
       "      <td>nan</td>\n",
       "      <td>nan</td>\n",
       "      <td>nan</td>\n",
       "    </tr>\n",
       "    <tr>\n",
       "      <th>2183709</th>\n",
       "      <td>94210870</td>\n",
       "      <td>nan</td>\n",
       "      <td>35,000.00</td>\n",
       "      <td>35,000.00</td>\n",
       "      <td>35,000.00</td>\n",
       "      <td>36 months</td>\n",
       "      <td>15.99</td>\n",
       "      <td>1,230.33</td>\n",
       "      <td>C</td>\n",
       "      <td>C5</td>\n",
       "      <td>Branch Manager</td>\n",
       "      <td>2 years</td>\n",
       "      <td>OWN</td>\n",
       "      <td>350,000.00</td>\n",
       "      <td>Verified</td>\n",
       "      <td>Dec-2016</td>\n",
       "      <td>Charged Off</td>\n",
       "      <td>n</td>\n",
       "      <td>https://lendingclub.com/browse/loanDetail.action?loan_id=94210870</td>\n",
       "      <td>NaN</td>\n",
       "      <td>debt_consolidation</td>\n",
       "      <td>Debt consolidation</td>\n",
       "      <td>913xx</td>\n",
       "      <td>CA</td>\n",
       "      <td>13.81</td>\n",
       "      <td>0.00</td>\n",
       "      <td>Jan-2002</td>\n",
       "      <td>670.00</td>\n",
       "      <td>674.00</td>\n",
       "      <td>1.00</td>\n",
       "      <td>nan</td>\n",
       "      <td>nan</td>\n",
       "      <td>13.00</td>\n",
       "      <td>0.00</td>\n",
       "      <td>45,221.00</td>\n",
       "      <td>89.50</td>\n",
       "      <td>35.00</td>\n",
       "      <td>w</td>\n",
       "      <td>0.00</td>\n",
       "      <td>0.00</td>\n",
       "      <td>14,767.54</td>\n",
       "      <td>14,767.54</td>\n",
       "      <td>9,868.92</td>\n",
       "      <td>4,898.62</td>\n",
       "      <td>0.00</td>\n",
       "      <td>0.00</td>\n",
       "      <td>0.00</td>\n",
       "      <td>Dec-2017</td>\n",
       "      <td>1,265.00</td>\n",
       "      <td>NaN</td>\n",
       "      <td>Nov-2018</td>\n",
       "      <td>499.00</td>\n",
       "      <td>0.00</td>\n",
       "      <td>0.00</td>\n",
       "      <td>nan</td>\n",
       "      <td>1.00</td>\n",
       "      <td>Individual</td>\n",
       "      <td>nan</td>\n",
       "      <td>nan</td>\n",
       "      <td>NaN</td>\n",
       "      <td>0.00</td>\n",
       "      <td>0.00</td>\n",
       "      <td>736,461.00</td>\n",
       "      <td>2.00</td>\n",
       "      <td>4.00</td>\n",
       "      <td>3.00</td>\n",
       "      <td>7.00</td>\n",
       "      <td>5.00</td>\n",
       "      <td>90,249.00</td>\n",
       "      <td>81.00</td>\n",
       "      <td>0.00</td>\n",
       "      <td>3.00</td>\n",
       "      <td>12,687.00</td>\n",
       "      <td>85.00</td>\n",
       "      <td>50,500.00</td>\n",
       "      <td>2.00</td>\n",
       "      <td>2.00</td>\n",
       "      <td>3.00</td>\n",
       "      <td>11.00</td>\n",
       "      <td>56,651.00</td>\n",
       "      <td>5,097.00</td>\n",
       "      <td>89.50</td>\n",
       "      <td>0.00</td>\n",
       "      <td>0.00</td>\n",
       "      <td>124.00</td>\n",
       "      <td>179.00</td>\n",
       "      <td>17.00</td>\n",
       "      <td>5.00</td>\n",
       "      <td>2.00</td>\n",
       "      <td>19.00</td>\n",
       "      <td>nan</td>\n",
       "      <td>5.00</td>\n",
       "      <td>nan</td>\n",
       "      <td>0.00</td>\n",
       "      <td>7.00</td>\n",
       "      <td>8.00</td>\n",
       "      <td>7.00</td>\n",
       "      <td>11.00</td>\n",
       "      <td>18.00</td>\n",
       "      <td>8.00</td>\n",
       "      <td>15.00</td>\n",
       "      <td>8.00</td>\n",
       "      <td>13.00</td>\n",
       "      <td>0.00</td>\n",
       "      <td>0.00</td>\n",
       "      <td>0.00</td>\n",
       "      <td>3.00</td>\n",
       "      <td>100.00</td>\n",
       "      <td>85.70</td>\n",
       "      <td>0.00</td>\n",
       "      <td>0.00</td>\n",
       "      <td>770,377.00</td>\n",
       "      <td>135,470.00</td>\n",
       "      <td>48,400.00</td>\n",
       "      <td>105,877.00</td>\n",
       "      <td>nan</td>\n",
       "      <td>nan</td>\n",
       "      <td>nan</td>\n",
       "      <td>NaN</td>\n",
       "      <td>nan</td>\n",
       "      <td>nan</td>\n",
       "      <td>nan</td>\n",
       "      <td>nan</td>\n",
       "      <td>nan</td>\n",
       "      <td>nan</td>\n",
       "      <td>nan</td>\n",
       "      <td>nan</td>\n",
       "      <td>nan</td>\n",
       "      <td>N</td>\n",
       "      <td>NaN</td>\n",
       "      <td>NaN</td>\n",
       "      <td>NaN</td>\n",
       "      <td>nan</td>\n",
       "      <td>nan</td>\n",
       "      <td>NaN</td>\n",
       "      <td>NaN</td>\n",
       "      <td>NaN</td>\n",
       "      <td>nan</td>\n",
       "      <td>nan</td>\n",
       "      <td>NaN</td>\n",
       "      <td>nan</td>\n",
       "      <td>nan</td>\n",
       "      <td>nan</td>\n",
       "      <td>Cash</td>\n",
       "      <td>N</td>\n",
       "      <td>NaN</td>\n",
       "      <td>NaN</td>\n",
       "      <td>NaN</td>\n",
       "      <td>nan</td>\n",
       "      <td>nan</td>\n",
       "      <td>nan</td>\n",
       "    </tr>\n",
       "    <tr>\n",
       "      <th>1733533</th>\n",
       "      <td>95806667</td>\n",
       "      <td>nan</td>\n",
       "      <td>1,600.00</td>\n",
       "      <td>1,600.00</td>\n",
       "      <td>1,600.00</td>\n",
       "      <td>36 months</td>\n",
       "      <td>15.99</td>\n",
       "      <td>56.25</td>\n",
       "      <td>C</td>\n",
       "      <td>C5</td>\n",
       "      <td>Licensed Sales Associate</td>\n",
       "      <td>10+ years</td>\n",
       "      <td>RENT</td>\n",
       "      <td>56,500.00</td>\n",
       "      <td>Verified</td>\n",
       "      <td>Jan-2017</td>\n",
       "      <td>Fully Paid</td>\n",
       "      <td>n</td>\n",
       "      <td>https://lendingclub.com/browse/loanDetail.action?loan_id=95806667</td>\n",
       "      <td>NaN</td>\n",
       "      <td>other</td>\n",
       "      <td>Other</td>\n",
       "      <td>959xx</td>\n",
       "      <td>CA</td>\n",
       "      <td>17.32</td>\n",
       "      <td>0.00</td>\n",
       "      <td>May-2004</td>\n",
       "      <td>700.00</td>\n",
       "      <td>704.00</td>\n",
       "      <td>1.00</td>\n",
       "      <td>56.00</td>\n",
       "      <td>nan</td>\n",
       "      <td>25.00</td>\n",
       "      <td>0.00</td>\n",
       "      <td>13,372.00</td>\n",
       "      <td>16.80</td>\n",
       "      <td>47.00</td>\n",
       "      <td>w</td>\n",
       "      <td>0.00</td>\n",
       "      <td>0.00</td>\n",
       "      <td>1,986.97</td>\n",
       "      <td>1,986.97</td>\n",
       "      <td>1,600.00</td>\n",
       "      <td>386.97</td>\n",
       "      <td>0.00</td>\n",
       "      <td>0.00</td>\n",
       "      <td>0.00</td>\n",
       "      <td>Mar-2019</td>\n",
       "      <td>634.63</td>\n",
       "      <td>NaN</td>\n",
       "      <td>Mar-2019</td>\n",
       "      <td>554.00</td>\n",
       "      <td>550.00</td>\n",
       "      <td>0.00</td>\n",
       "      <td>56.00</td>\n",
       "      <td>1.00</td>\n",
       "      <td>Individual</td>\n",
       "      <td>nan</td>\n",
       "      <td>nan</td>\n",
       "      <td>NaN</td>\n",
       "      <td>0.00</td>\n",
       "      <td>0.00</td>\n",
       "      <td>20,814.00</td>\n",
       "      <td>3.00</td>\n",
       "      <td>2.00</td>\n",
       "      <td>2.00</td>\n",
       "      <td>4.00</td>\n",
       "      <td>4.00</td>\n",
       "      <td>7,442.00</td>\n",
       "      <td>62.00</td>\n",
       "      <td>3.00</td>\n",
       "      <td>9.00</td>\n",
       "      <td>2,413.00</td>\n",
       "      <td>23.00</td>\n",
       "      <td>79,400.00</td>\n",
       "      <td>1.00</td>\n",
       "      <td>5.00</td>\n",
       "      <td>1.00</td>\n",
       "      <td>13.00</td>\n",
       "      <td>833.00</td>\n",
       "      <td>49,159.00</td>\n",
       "      <td>13.90</td>\n",
       "      <td>0.00</td>\n",
       "      <td>0.00</td>\n",
       "      <td>150.00</td>\n",
       "      <td>152.00</td>\n",
       "      <td>4.00</td>\n",
       "      <td>4.00</td>\n",
       "      <td>1.00</td>\n",
       "      <td>4.00</td>\n",
       "      <td>nan</td>\n",
       "      <td>4.00</td>\n",
       "      <td>nan</td>\n",
       "      <td>1.00</td>\n",
       "      <td>8.00</td>\n",
       "      <td>12.00</td>\n",
       "      <td>14.00</td>\n",
       "      <td>17.00</td>\n",
       "      <td>16.00</td>\n",
       "      <td>23.00</td>\n",
       "      <td>30.00</td>\n",
       "      <td>12.00</td>\n",
       "      <td>25.00</td>\n",
       "      <td>0.00</td>\n",
       "      <td>0.00</td>\n",
       "      <td>0.00</td>\n",
       "      <td>5.00</td>\n",
       "      <td>97.90</td>\n",
       "      <td>14.30</td>\n",
       "      <td>0.00</td>\n",
       "      <td>0.00</td>\n",
       "      <td>91,449.00</td>\n",
       "      <td>20,814.00</td>\n",
       "      <td>57,100.00</td>\n",
       "      <td>12,049.00</td>\n",
       "      <td>nan</td>\n",
       "      <td>nan</td>\n",
       "      <td>nan</td>\n",
       "      <td>NaN</td>\n",
       "      <td>nan</td>\n",
       "      <td>nan</td>\n",
       "      <td>nan</td>\n",
       "      <td>nan</td>\n",
       "      <td>nan</td>\n",
       "      <td>nan</td>\n",
       "      <td>nan</td>\n",
       "      <td>nan</td>\n",
       "      <td>nan</td>\n",
       "      <td>N</td>\n",
       "      <td>NaN</td>\n",
       "      <td>NaN</td>\n",
       "      <td>NaN</td>\n",
       "      <td>nan</td>\n",
       "      <td>nan</td>\n",
       "      <td>NaN</td>\n",
       "      <td>NaN</td>\n",
       "      <td>NaN</td>\n",
       "      <td>nan</td>\n",
       "      <td>nan</td>\n",
       "      <td>NaN</td>\n",
       "      <td>nan</td>\n",
       "      <td>nan</td>\n",
       "      <td>nan</td>\n",
       "      <td>Cash</td>\n",
       "      <td>N</td>\n",
       "      <td>NaN</td>\n",
       "      <td>NaN</td>\n",
       "      <td>NaN</td>\n",
       "      <td>nan</td>\n",
       "      <td>nan</td>\n",
       "      <td>nan</td>\n",
       "    </tr>\n",
       "    <tr>\n",
       "      <th>2019800</th>\n",
       "      <td>85570869</td>\n",
       "      <td>nan</td>\n",
       "      <td>8,000.00</td>\n",
       "      <td>8,000.00</td>\n",
       "      <td>8,000.00</td>\n",
       "      <td>36 months</td>\n",
       "      <td>16.99</td>\n",
       "      <td>285.19</td>\n",
       "      <td>D</td>\n",
       "      <td>D1</td>\n",
       "      <td>Teacher/ coach</td>\n",
       "      <td>3 years</td>\n",
       "      <td>MORTGAGE</td>\n",
       "      <td>75,200.00</td>\n",
       "      <td>Verified</td>\n",
       "      <td>Jul-2016</td>\n",
       "      <td>Fully Paid</td>\n",
       "      <td>n</td>\n",
       "      <td>https://lendingclub.com/browse/loanDetail.action?loan_id=85570869</td>\n",
       "      <td>NaN</td>\n",
       "      <td>home_improvement</td>\n",
       "      <td>Home improvement</td>\n",
       "      <td>760xx</td>\n",
       "      <td>TX</td>\n",
       "      <td>17.78</td>\n",
       "      <td>0.00</td>\n",
       "      <td>Apr-1985</td>\n",
       "      <td>670.00</td>\n",
       "      <td>674.00</td>\n",
       "      <td>1.00</td>\n",
       "      <td>nan</td>\n",
       "      <td>nan</td>\n",
       "      <td>15.00</td>\n",
       "      <td>0.00</td>\n",
       "      <td>30,138.00</td>\n",
       "      <td>53.00</td>\n",
       "      <td>20.00</td>\n",
       "      <td>f</td>\n",
       "      <td>0.00</td>\n",
       "      <td>0.00</td>\n",
       "      <td>10,151.08</td>\n",
       "      <td>10,151.08</td>\n",
       "      <td>8,000.00</td>\n",
       "      <td>2,151.08</td>\n",
       "      <td>0.00</td>\n",
       "      <td>0.00</td>\n",
       "      <td>0.00</td>\n",
       "      <td>Jan-2019</td>\n",
       "      <td>1,925.07</td>\n",
       "      <td>NaN</td>\n",
       "      <td>Jan-2019</td>\n",
       "      <td>654.00</td>\n",
       "      <td>650.00</td>\n",
       "      <td>0.00</td>\n",
       "      <td>nan</td>\n",
       "      <td>1.00</td>\n",
       "      <td>Individual</td>\n",
       "      <td>nan</td>\n",
       "      <td>nan</td>\n",
       "      <td>NaN</td>\n",
       "      <td>0.00</td>\n",
       "      <td>0.00</td>\n",
       "      <td>40,845.00</td>\n",
       "      <td>3.00</td>\n",
       "      <td>1.00</td>\n",
       "      <td>1.00</td>\n",
       "      <td>1.00</td>\n",
       "      <td>8.00</td>\n",
       "      <td>10,707.00</td>\n",
       "      <td>93.00</td>\n",
       "      <td>5.00</td>\n",
       "      <td>12.00</td>\n",
       "      <td>8,506.00</td>\n",
       "      <td>53.00</td>\n",
       "      <td>57,140.00</td>\n",
       "      <td>1.00</td>\n",
       "      <td>1.00</td>\n",
       "      <td>4.00</td>\n",
       "      <td>13.00</td>\n",
       "      <td>2,723.00</td>\n",
       "      <td>4,944.00</td>\n",
       "      <td>48.00</td>\n",
       "      <td>0.00</td>\n",
       "      <td>0.00</td>\n",
       "      <td>156.00</td>\n",
       "      <td>375.00</td>\n",
       "      <td>2.00</td>\n",
       "      <td>2.00</td>\n",
       "      <td>0.00</td>\n",
       "      <td>2.00</td>\n",
       "      <td>nan</td>\n",
       "      <td>0.00</td>\n",
       "      <td>nan</td>\n",
       "      <td>0.00</td>\n",
       "      <td>9.00</td>\n",
       "      <td>14.00</td>\n",
       "      <td>9.00</td>\n",
       "      <td>9.00</td>\n",
       "      <td>4.00</td>\n",
       "      <td>14.00</td>\n",
       "      <td>16.00</td>\n",
       "      <td>11.00</td>\n",
       "      <td>15.00</td>\n",
       "      <td>nan</td>\n",
       "      <td>0.00</td>\n",
       "      <td>0.00</td>\n",
       "      <td>6.00</td>\n",
       "      <td>100.00</td>\n",
       "      <td>0.00</td>\n",
       "      <td>0.00</td>\n",
       "      <td>0.00</td>\n",
       "      <td>68,640.00</td>\n",
       "      <td>40,845.00</td>\n",
       "      <td>44,500.00</td>\n",
       "      <td>11,500.00</td>\n",
       "      <td>nan</td>\n",
       "      <td>nan</td>\n",
       "      <td>nan</td>\n",
       "      <td>NaN</td>\n",
       "      <td>nan</td>\n",
       "      <td>nan</td>\n",
       "      <td>nan</td>\n",
       "      <td>nan</td>\n",
       "      <td>nan</td>\n",
       "      <td>nan</td>\n",
       "      <td>nan</td>\n",
       "      <td>nan</td>\n",
       "      <td>nan</td>\n",
       "      <td>N</td>\n",
       "      <td>NaN</td>\n",
       "      <td>NaN</td>\n",
       "      <td>NaN</td>\n",
       "      <td>nan</td>\n",
       "      <td>nan</td>\n",
       "      <td>NaN</td>\n",
       "      <td>NaN</td>\n",
       "      <td>NaN</td>\n",
       "      <td>nan</td>\n",
       "      <td>nan</td>\n",
       "      <td>NaN</td>\n",
       "      <td>nan</td>\n",
       "      <td>nan</td>\n",
       "      <td>nan</td>\n",
       "      <td>Cash</td>\n",
       "      <td>N</td>\n",
       "      <td>NaN</td>\n",
       "      <td>NaN</td>\n",
       "      <td>NaN</td>\n",
       "      <td>nan</td>\n",
       "      <td>nan</td>\n",
       "      <td>nan</td>\n",
       "    </tr>\n",
       "  </tbody>\n",
       "</table>\n",
       "</div>"
      ],
      "text/plain": [
       "               id  member_id  loan_amnt  funded_amnt  funded_amnt_inv  \\\n",
       "677200   79432147        nan   7,000.00     7,000.00         7,000.00   \n",
       "1955599  89835102        nan  24,000.00    24,000.00        24,000.00   \n",
       "2183709  94210870        nan  35,000.00    35,000.00        35,000.00   \n",
       "1733533  95806667        nan   1,600.00     1,600.00         1,600.00   \n",
       "2019800  85570869        nan   8,000.00     8,000.00         8,000.00   \n",
       "\n",
       "               term  int_rate  installment grade sub_grade  \\\n",
       "677200    36 months      9.16       223.12     B        B2   \n",
       "1955599   60 months     13.99       558.32     C        C3   \n",
       "2183709   36 months     15.99     1,230.33     C        C5   \n",
       "1733533   36 months     15.99        56.25     C        C5   \n",
       "2019800   36 months     16.99       285.19     D        D1   \n",
       "\n",
       "                        emp_title emp_length home_ownership  annual_inc  \\\n",
       "677200                     Driver    3 years       MORTGAGE   55,000.00   \n",
       "1955599            Sales Director    2 years       MORTGAGE  120,000.00   \n",
       "2183709            Branch Manager    2 years            OWN  350,000.00   \n",
       "1733533  Licensed Sales Associate  10+ years           RENT   56,500.00   \n",
       "2019800            Teacher/ coach    3 years       MORTGAGE   75,200.00   \n",
       "\n",
       "        verification_status   issue_d  loan_status pymnt_plan  \\\n",
       "677200         Not Verified  Jun-2016   Fully Paid          n   \n",
       "1955599            Verified  Sep-2016      Current          n   \n",
       "2183709            Verified  Dec-2016  Charged Off          n   \n",
       "1733533            Verified  Jan-2017   Fully Paid          n   \n",
       "2019800            Verified  Jul-2016   Fully Paid          n   \n",
       "\n",
       "                                                                       url  \\\n",
       "677200   https://lendingclub.com/browse/loanDetail.action?loan_id=79432147   \n",
       "1955599  https://lendingclub.com/browse/loanDetail.action?loan_id=89835102   \n",
       "2183709  https://lendingclub.com/browse/loanDetail.action?loan_id=94210870   \n",
       "1733533  https://lendingclub.com/browse/loanDetail.action?loan_id=95806667   \n",
       "2019800  https://lendingclub.com/browse/loanDetail.action?loan_id=85570869   \n",
       "\n",
       "        desc             purpose                    title zip_code addr_state  \\\n",
       "677200   NaN         credit_card  Credit card refinancing    395xx         MS   \n",
       "1955599  NaN         credit_card  Credit card refinancing    440xx         OH   \n",
       "2183709  NaN  debt_consolidation       Debt consolidation    913xx         CA   \n",
       "1733533  NaN               other                    Other    959xx         CA   \n",
       "2019800  NaN    home_improvement         Home improvement    760xx         TX   \n",
       "\n",
       "          dti  delinq_2yrs earliest_cr_line  fico_range_low  fico_range_high  \\\n",
       "677200   9.23         0.00         Sep-2004          660.00           664.00   \n",
       "1955599 31.08         1.00         Mar-1991          675.00           679.00   \n",
       "2183709 13.81         0.00         Jan-2002          670.00           674.00   \n",
       "1733533 17.32         0.00         May-2004          700.00           704.00   \n",
       "2019800 17.78         0.00         Apr-1985          670.00           674.00   \n",
       "\n",
       "         inq_last_6mths  mths_since_last_delinq  mths_since_last_record  \\\n",
       "677200             0.00                   52.00                   87.00   \n",
       "1955599            1.00                   23.00                     nan   \n",
       "2183709            1.00                     nan                     nan   \n",
       "1733533            1.00                   56.00                     nan   \n",
       "2019800            1.00                     nan                     nan   \n",
       "\n",
       "         open_acc  pub_rec  revol_bal  revol_util  total_acc  \\\n",
       "677200       6.00     1.00   5,021.00       90.00      16.00   \n",
       "1955599     22.00     0.00  95,455.00       67.00      43.00   \n",
       "2183709     13.00     0.00  45,221.00       89.50      35.00   \n",
       "1733533     25.00     0.00  13,372.00       16.80      47.00   \n",
       "2019800     15.00     0.00  30,138.00       53.00      20.00   \n",
       "\n",
       "        initial_list_status  out_prncp  out_prncp_inv  total_pymnt  \\\n",
       "677200                    w       0.00           0.00     7,471.28   \n",
       "1955599                   w  14,065.36      14,065.36    16,730.95   \n",
       "2183709                   w       0.00           0.00    14,767.54   \n",
       "1733533                   w       0.00           0.00     1,986.97   \n",
       "2019800                   f       0.00           0.00    10,151.08   \n",
       "\n",
       "         total_pymnt_inv  total_rec_prncp  total_rec_int  total_rec_late_fee  \\\n",
       "677200          7,471.28         7,000.00         471.28                0.00   \n",
       "1955599        16,730.95         9,934.64       6,796.31                0.00   \n",
       "2183709        14,767.54         9,868.92       4,898.62                0.00   \n",
       "1733533         1,986.97         1,600.00         386.97                0.00   \n",
       "2019800        10,151.08         8,000.00       2,151.08                0.00   \n",
       "\n",
       "         recoveries  collection_recovery_fee last_pymnt_d  last_pymnt_amnt  \\\n",
       "677200         0.00                     0.00     Mar-2017         5,689.88   \n",
       "1955599        0.00                     0.00     Mar-2019           558.32   \n",
       "2183709        0.00                     0.00     Dec-2017         1,265.00   \n",
       "1733533        0.00                     0.00     Mar-2019           634.63   \n",
       "2019800        0.00                     0.00     Jan-2019         1,925.07   \n",
       "\n",
       "        next_pymnt_d last_credit_pull_d  last_fico_range_high  \\\n",
       "677200           NaN           Sep-2017                679.00   \n",
       "1955599     Apr-2019           Mar-2019                779.00   \n",
       "2183709          NaN           Nov-2018                499.00   \n",
       "1733533          NaN           Mar-2019                554.00   \n",
       "2019800          NaN           Jan-2019                654.00   \n",
       "\n",
       "         last_fico_range_low  collections_12_mths_ex_med  \\\n",
       "677200                675.00                        0.00   \n",
       "1955599               775.00                        0.00   \n",
       "2183709                 0.00                        0.00   \n",
       "1733533               550.00                        0.00   \n",
       "2019800               650.00                        0.00   \n",
       "\n",
       "         mths_since_last_major_derog  policy_code application_type  \\\n",
       "677200                         58.00         1.00       Individual   \n",
       "1955599                          nan         1.00       Individual   \n",
       "2183709                          nan         1.00       Individual   \n",
       "1733533                        56.00         1.00       Individual   \n",
       "2019800                          nan         1.00       Individual   \n",
       "\n",
       "         annual_inc_joint  dti_joint verification_status_joint  \\\n",
       "677200                nan        nan                       NaN   \n",
       "1955599               nan        nan                       NaN   \n",
       "2183709               nan        nan                       NaN   \n",
       "1733533               nan        nan                       NaN   \n",
       "2019800               nan        nan                       NaN   \n",
       "\n",
       "         acc_now_delinq  tot_coll_amt  tot_cur_bal  open_acc_6m  open_act_il  \\\n",
       "677200             0.00          0.00   167,237.00         2.00         2.00   \n",
       "1955599            0.00          0.00   415,397.00         0.00         1.00   \n",
       "2183709            0.00          0.00   736,461.00         2.00         4.00   \n",
       "1733533            0.00          0.00    20,814.00         3.00         2.00   \n",
       "2019800            0.00          0.00    40,845.00         3.00         1.00   \n",
       "\n",
       "         open_il_12m  open_il_24m  mths_since_rcnt_il  total_bal_il  il_util  \\\n",
       "677200          1.00         1.00                2.00     53,610.00    78.00   \n",
       "1955599         0.00         1.00               23.00     18,105.00    75.00   \n",
       "2183709         3.00         7.00                5.00     90,249.00    81.00   \n",
       "1733533         2.00         4.00                4.00      7,442.00    62.00   \n",
       "2019800         1.00         1.00                8.00     10,707.00    93.00   \n",
       "\n",
       "         open_rv_12m  open_rv_24m  max_bal_bc  all_util  total_rev_hi_lim  \\\n",
       "677200          0.00         1.00    3,489.00     90.00          5,550.00   \n",
       "1955599         3.00         4.00   18,307.00     67.00        142,270.00   \n",
       "2183709         0.00         3.00   12,687.00     85.00         50,500.00   \n",
       "1733533         3.00         9.00    2,413.00     23.00         79,400.00   \n",
       "2019800         5.00        12.00    8,506.00     53.00         57,140.00   \n",
       "\n",
       "         inq_fi  total_cu_tl  inq_last_12m  acc_open_past_24mths  avg_cur_bal  \\\n",
       "677200     0.00         0.00          0.00                  3.00    27,872.00   \n",
       "1955599    1.00         0.00          3.00                  5.00    18,881.00   \n",
       "2183709    2.00         2.00          3.00                 11.00    56,651.00   \n",
       "1733533    1.00         5.00          1.00                 13.00       833.00   \n",
       "2019800    1.00         1.00          4.00                 13.00     2,723.00   \n",
       "\n",
       "         bc_open_to_buy  bc_util  chargeoff_within_12_mths  delinq_amnt  \\\n",
       "677200         2,525.00    91.00                      0.00         0.00   \n",
       "1955599       10,330.00    68.00                      0.00         0.00   \n",
       "2183709        5,097.00    89.50                      0.00         0.00   \n",
       "1733533       49,159.00    13.90                      0.00         0.00   \n",
       "2019800        4,944.00    48.00                      0.00         0.00   \n",
       "\n",
       "         mo_sin_old_il_acct  mo_sin_old_rev_tl_op  mo_sin_rcnt_rev_tl_op  \\\n",
       "677200               108.00                140.00                  13.00   \n",
       "1955599              101.00                303.00                   7.00   \n",
       "2183709              124.00                179.00                  17.00   \n",
       "1733533              150.00                152.00                   4.00   \n",
       "2019800              156.00                375.00                   2.00   \n",
       "\n",
       "         mo_sin_rcnt_tl  mort_acc  mths_since_recent_bc  \\\n",
       "677200             2.00      1.00                 31.00   \n",
       "1955599            7.00      3.00                 36.00   \n",
       "2183709            5.00      2.00                 19.00   \n",
       "1733533            4.00      1.00                  4.00   \n",
       "2019800            2.00      0.00                  2.00   \n",
       "\n",
       "         mths_since_recent_bc_dlq  mths_since_recent_inq  \\\n",
       "677200                        nan                  13.00   \n",
       "1955599                     23.00                   1.00   \n",
       "2183709                       nan                   5.00   \n",
       "1733533                       nan                   4.00   \n",
       "2019800                       nan                   0.00   \n",
       "\n",
       "         mths_since_recent_revol_delinq  num_accts_ever_120_pd  \\\n",
       "677200                              nan                   0.00   \n",
       "1955599                           23.00                   0.00   \n",
       "2183709                             nan                   0.00   \n",
       "1733533                             nan                   1.00   \n",
       "2019800                             nan                   0.00   \n",
       "\n",
       "         num_actv_bc_tl  num_actv_rev_tl  num_bc_sats  num_bc_tl  num_il_tl  \\\n",
       "677200             2.00             3.00         3.00       3.00      10.00   \n",
       "1955599            9.00            19.00        17.00      18.00       3.00   \n",
       "2183709            7.00             8.00         7.00      11.00      18.00   \n",
       "1733533            8.00            12.00        14.00      17.00      16.00   \n",
       "2019800            9.00            14.00         9.00       9.00       4.00   \n",
       "\n",
       "         num_op_rev_tl  num_rev_accts  num_rev_tl_bal_gt_0  num_sats  \\\n",
       "677200            3.00           5.00                 3.00      6.00   \n",
       "1955599          19.00          37.00                15.00     22.00   \n",
       "2183709           8.00          15.00                 8.00     13.00   \n",
       "1733533          23.00          30.00                12.00     25.00   \n",
       "2019800          14.00          16.00                11.00     15.00   \n",
       "\n",
       "         num_tl_120dpd_2m  num_tl_30dpd  num_tl_90g_dpd_24m  \\\n",
       "677200                nan          0.00                0.00   \n",
       "1955599               nan          0.00                0.00   \n",
       "2183709              0.00          0.00                0.00   \n",
       "1733533              0.00          0.00                0.00   \n",
       "2019800               nan          0.00                0.00   \n",
       "\n",
       "         num_tl_op_past_12m  pct_tl_nvr_dlq  percent_bc_gt_75  \\\n",
       "677200                 1.00           88.00            100.00   \n",
       "1955599                3.00           95.00             55.60   \n",
       "2183709                3.00          100.00             85.70   \n",
       "1733533                5.00           97.90             14.30   \n",
       "2019800                6.00          100.00              0.00   \n",
       "\n",
       "         pub_rec_bankruptcies  tax_liens  tot_hi_cred_lim  total_bal_ex_mort  \\\n",
       "677200                   1.00       0.00       183,988.00          58,631.00   \n",
       "1955599                  0.00       0.00       488,864.00         136,713.00   \n",
       "2183709                  0.00       0.00       770,377.00         135,470.00   \n",
       "1733533                  0.00       0.00        91,449.00          20,814.00   \n",
       "2019800                  0.00       0.00        68,640.00          40,845.00   \n",
       "\n",
       "         total_bc_limit  total_il_high_credit_limit  revol_bal_joint  \\\n",
       "677200         5,050.00                   68,502.00              nan   \n",
       "1955599       92,970.00                   24,034.00              nan   \n",
       "2183709       48,400.00                  105,877.00              nan   \n",
       "1733533       57,100.00                   12,049.00              nan   \n",
       "2019800       44,500.00                   11,500.00              nan   \n",
       "\n",
       "         sec_app_fico_range_low  sec_app_fico_range_high  \\\n",
       "677200                      nan                      nan   \n",
       "1955599                     nan                      nan   \n",
       "2183709                     nan                      nan   \n",
       "1733533                     nan                      nan   \n",
       "2019800                     nan                      nan   \n",
       "\n",
       "        sec_app_earliest_cr_line  sec_app_inq_last_6mths  sec_app_mort_acc  \\\n",
       "677200                       NaN                     nan               nan   \n",
       "1955599                      NaN                     nan               nan   \n",
       "2183709                      NaN                     nan               nan   \n",
       "1733533                      NaN                     nan               nan   \n",
       "2019800                      NaN                     nan               nan   \n",
       "\n",
       "         sec_app_open_acc  sec_app_revol_util  sec_app_open_act_il  \\\n",
       "677200                nan                 nan                  nan   \n",
       "1955599               nan                 nan                  nan   \n",
       "2183709               nan                 nan                  nan   \n",
       "1733533               nan                 nan                  nan   \n",
       "2019800               nan                 nan                  nan   \n",
       "\n",
       "         sec_app_num_rev_accts  sec_app_chargeoff_within_12_mths  \\\n",
       "677200                     nan                               nan   \n",
       "1955599                    nan                               nan   \n",
       "2183709                    nan                               nan   \n",
       "1733533                    nan                               nan   \n",
       "2019800                    nan                               nan   \n",
       "\n",
       "         sec_app_collections_12_mths_ex_med  \\\n",
       "677200                                  nan   \n",
       "1955599                                 nan   \n",
       "2183709                                 nan   \n",
       "1733533                                 nan   \n",
       "2019800                                 nan   \n",
       "\n",
       "         sec_app_mths_since_last_major_derog hardship_flag hardship_type  \\\n",
       "677200                                   nan             N           NaN   \n",
       "1955599                                  nan             N           NaN   \n",
       "2183709                                  nan             N           NaN   \n",
       "1733533                                  nan             N           NaN   \n",
       "2019800                                  nan             N           NaN   \n",
       "\n",
       "        hardship_reason hardship_status  deferral_term  hardship_amount  \\\n",
       "677200              NaN             NaN            nan              nan   \n",
       "1955599             NaN             NaN            nan              nan   \n",
       "2183709             NaN             NaN            nan              nan   \n",
       "1733533             NaN             NaN            nan              nan   \n",
       "2019800             NaN             NaN            nan              nan   \n",
       "\n",
       "        hardship_start_date hardship_end_date payment_plan_start_date  \\\n",
       "677200                  NaN               NaN                     NaN   \n",
       "1955599                 NaN               NaN                     NaN   \n",
       "2183709                 NaN               NaN                     NaN   \n",
       "1733533                 NaN               NaN                     NaN   \n",
       "2019800                 NaN               NaN                     NaN   \n",
       "\n",
       "         hardship_length  hardship_dpd hardship_loan_status  \\\n",
       "677200               nan           nan                  NaN   \n",
       "1955599              nan           nan                  NaN   \n",
       "2183709              nan           nan                  NaN   \n",
       "1733533              nan           nan                  NaN   \n",
       "2019800              nan           nan                  NaN   \n",
       "\n",
       "         orig_projected_additional_accrued_interest  \\\n",
       "677200                                          nan   \n",
       "1955599                                         nan   \n",
       "2183709                                         nan   \n",
       "1733533                                         nan   \n",
       "2019800                                         nan   \n",
       "\n",
       "         hardship_payoff_balance_amount  hardship_last_payment_amount  \\\n",
       "677200                              nan                           nan   \n",
       "1955599                             nan                           nan   \n",
       "2183709                             nan                           nan   \n",
       "1733533                             nan                           nan   \n",
       "2019800                             nan                           nan   \n",
       "\n",
       "        disbursement_method debt_settlement_flag debt_settlement_flag_date  \\\n",
       "677200                 Cash                    N                       NaN   \n",
       "1955599                Cash                    N                       NaN   \n",
       "2183709                Cash                    N                       NaN   \n",
       "1733533                Cash                    N                       NaN   \n",
       "2019800                Cash                    N                       NaN   \n",
       "\n",
       "        settlement_status settlement_date  settlement_amount  \\\n",
       "677200                NaN             NaN                nan   \n",
       "1955599               NaN             NaN                nan   \n",
       "2183709               NaN             NaN                nan   \n",
       "1733533               NaN             NaN                nan   \n",
       "2019800               NaN             NaN                nan   \n",
       "\n",
       "         settlement_percentage  settlement_term  \n",
       "677200                     nan              nan  \n",
       "1955599                    nan              nan  \n",
       "2183709                    nan              nan  \n",
       "1733533                    nan              nan  \n",
       "2019800                    nan              nan  "
      ]
     },
     "execution_count": 6,
     "metadata": {},
     "output_type": "execute_result"
    }
   ],
   "source": [
    "loans.head(5)"
   ]
  },
  {
   "cell_type": "code",
   "execution_count": 7,
   "metadata": {},
   "outputs": [
    {
     "data": {
      "text/plain": [
       "(22607, 151)"
      ]
     },
     "execution_count": 7,
     "metadata": {},
     "output_type": "execute_result"
    }
   ],
   "source": [
    "loans.shape"
   ]
  },
  {
   "cell_type": "code",
   "execution_count": null,
   "metadata": {},
   "outputs": [],
   "source": []
  },
  {
   "cell_type": "markdown",
   "metadata": {},
   "source": [
    "## Target Variable"
   ]
  },
  {
   "cell_type": "markdown",
   "metadata": {},
   "source": [
    "The Target Variable in this loan data is \"Loan_Status\", which we focus more on either loan status is \"Fully Paid\" or Charged Off. Will check on value counts of \"Loan_Status\" variable."
   ]
  },
  {
   "cell_type": "code",
   "execution_count": 8,
   "metadata": {},
   "outputs": [
    {
     "data": {
      "text/plain": [
       "Fully Paid                                             10845\n",
       "Current                                                 8650\n",
       "Charged Off                                             2738\n",
       "Late (31-120 days)                                       204\n",
       "In Grace Period                                           91\n",
       "Late (16-30 days)                                         45\n",
       "Does not meet the credit policy. Status:Fully Paid        26\n",
       "Does not meet the credit policy. Status:Charged Off        8\n",
       "Name: loan_status, dtype: int64"
      ]
     },
     "execution_count": 8,
     "metadata": {},
     "output_type": "execute_result"
    }
   ],
   "source": [
    "loans['loan_status'].value_counts(dropna=False) "
   ]
  },
  {
   "cell_type": "markdown",
   "metadata": {},
   "source": [
    "Will exclude the loans which status are in Current,Late (31-120 days),In Grace Period,Late (16-30 days),Does not meet the credit policy. Status:Fully Paid,Does not meet the credit policy. Status:Charged Off,Default and missing status"
   ]
  },
  {
   "cell_type": "code",
   "execution_count": 9,
   "metadata": {},
   "outputs": [],
   "source": [
    "loans = loans.loc[loans['loan_status'].isin(['Fully Paid', 'Charged Off'])] #Ignore other loan_status"
   ]
  },
  {
   "cell_type": "markdown",
   "metadata": {},
   "source": [
    "Loan_Status counts as percentages"
   ]
  },
  {
   "cell_type": "code",
   "execution_count": 10,
   "metadata": {},
   "outputs": [
    {
     "data": {
      "text/plain": [
       "Fully Paid    0.80\n",
       "Charged Off   0.20\n",
       "Name: loan_status, dtype: float64"
      ]
     },
     "execution_count": 10,
     "metadata": {},
     "output_type": "execute_result"
    }
   ],
   "source": [
    "loans['loan_status'].value_counts(normalize=True, dropna=False)"
   ]
  },
  {
   "cell_type": "markdown",
   "metadata": {},
   "source": [
    "80% are Fully Paid, 20% are Charged Off "
   ]
  },
  {
   "cell_type": "code",
   "execution_count": null,
   "metadata": {},
   "outputs": [],
   "source": []
  },
  {
   "cell_type": "markdown",
   "metadata": {},
   "source": [
    "## Data Preparation"
   ]
  },
  {
   "cell_type": "markdown",
   "metadata": {},
   "source": [
    "Drop columns with >30% data missing"
   ]
  },
  {
   "cell_type": "markdown",
   "metadata": {},
   "source": [
    "Calculate the missing data percentages of each feature"
   ]
  },
  {
   "cell_type": "code",
   "execution_count": 11,
   "metadata": {},
   "outputs": [],
   "source": [
    "missing_data = loans.isnull().mean().sort_values(ascending=False) #calculate % of missing data"
   ]
  },
  {
   "cell_type": "code",
   "execution_count": 12,
   "metadata": {},
   "outputs": [
    {
     "name": "stdout",
     "output_type": "stream",
     "text": [
      "['all_util', 'annual_inc_joint', 'debt_settlement_flag_date', 'deferral_term', 'desc', 'dti_joint', 'hardship_amount', 'hardship_dpd', 'hardship_end_date', 'hardship_last_payment_amount', 'hardship_length', 'hardship_loan_status', 'hardship_payoff_balance_amount', 'hardship_reason', 'hardship_start_date', 'hardship_status', 'hardship_type', 'il_util', 'inq_fi', 'inq_last_12m', 'max_bal_bc', 'member_id', 'mths_since_last_delinq', 'mths_since_last_major_derog', 'mths_since_last_record', 'mths_since_rcnt_il', 'mths_since_recent_bc_dlq', 'mths_since_recent_revol_delinq', 'next_pymnt_d', 'open_acc_6m', 'open_act_il', 'open_il_12m', 'open_il_24m', 'open_rv_12m', 'open_rv_24m', 'orig_projected_additional_accrued_interest', 'payment_plan_start_date', 'revol_bal_joint', 'sec_app_chargeoff_within_12_mths', 'sec_app_collections_12_mths_ex_med', 'sec_app_earliest_cr_line', 'sec_app_fico_range_high', 'sec_app_fico_range_low', 'sec_app_inq_last_6mths', 'sec_app_mort_acc', 'sec_app_mths_since_last_major_derog', 'sec_app_num_rev_accts', 'sec_app_open_acc', 'sec_app_open_act_il', 'sec_app_revol_util', 'settlement_amount', 'settlement_date', 'settlement_percentage', 'settlement_status', 'settlement_term', 'total_bal_il', 'total_cu_tl', 'verification_status_joint']\n"
     ]
    }
   ],
   "source": [
    "drop_list = sorted(list(missing_data[missing_data > 0.3].index))\n",
    "print(drop_list)"
   ]
  },
  {
   "cell_type": "code",
   "execution_count": 13,
   "metadata": {},
   "outputs": [
    {
     "data": {
      "text/plain": [
       "58"
      ]
     },
     "execution_count": 13,
     "metadata": {},
     "output_type": "execute_result"
    }
   ],
   "source": [
    "len(drop_list) #Missing data >30% columns"
   ]
  },
  {
   "cell_type": "code",
   "execution_count": 14,
   "metadata": {},
   "outputs": [],
   "source": [
    "loans.drop(labels=drop_list, axis=1, inplace=True) # Drop columns"
   ]
  },
  {
   "cell_type": "code",
   "execution_count": null,
   "metadata": {},
   "outputs": [],
   "source": []
  },
  {
   "cell_type": "markdown",
   "metadata": {},
   "source": [
    "### Keep variables needed for Investors"
   ]
  },
  {
   "cell_type": "code",
   "execution_count": 15,
   "metadata": {},
   "outputs": [],
   "source": [
    "keep_list = ['addr_state', 'annual_inc', 'application_type', 'dti', 'earliest_cr_line', 'emp_length', 'emp_title', 'fico_range_high', 'fico_range_low', 'grade', 'home_ownership', 'id', 'initial_list_status', 'installment', 'int_rate', 'issue_d', 'loan_amnt', 'loan_status', 'mort_acc', 'open_acc', 'pub_rec', 'pub_rec_bankruptcies', 'purpose', 'revol_bal', 'revol_util', 'sub_grade', 'term', 'title', 'total_acc', 'verification_status', 'zip_code']"
   ]
  },
  {
   "cell_type": "code",
   "execution_count": 16,
   "metadata": {},
   "outputs": [
    {
     "data": {
      "text/plain": [
       "31"
      ]
     },
     "execution_count": 16,
     "metadata": {},
     "output_type": "execute_result"
    }
   ],
   "source": [
    "len(keep_list)"
   ]
  },
  {
   "cell_type": "code",
   "execution_count": 17,
   "metadata": {},
   "outputs": [
    {
     "name": "stdout",
     "output_type": "stream",
     "text": [
      "['funded_amnt', 'funded_amnt_inv', 'pymnt_plan', 'url', 'delinq_2yrs', 'inq_last_6mths', 'out_prncp', 'out_prncp_inv', 'total_pymnt', 'total_pymnt_inv', 'total_rec_prncp', 'total_rec_int', 'total_rec_late_fee', 'recoveries', 'collection_recovery_fee', 'last_pymnt_d', 'last_pymnt_amnt', 'last_credit_pull_d', 'last_fico_range_high', 'last_fico_range_low', 'collections_12_mths_ex_med', 'policy_code', 'acc_now_delinq', 'tot_coll_amt', 'tot_cur_bal', 'total_rev_hi_lim', 'acc_open_past_24mths', 'avg_cur_bal', 'bc_open_to_buy', 'bc_util', 'chargeoff_within_12_mths', 'delinq_amnt', 'mo_sin_old_il_acct', 'mo_sin_old_rev_tl_op', 'mo_sin_rcnt_rev_tl_op', 'mo_sin_rcnt_tl', 'mths_since_recent_bc', 'mths_since_recent_inq', 'num_accts_ever_120_pd', 'num_actv_bc_tl', 'num_actv_rev_tl', 'num_bc_sats', 'num_bc_tl', 'num_il_tl', 'num_op_rev_tl', 'num_rev_accts', 'num_rev_tl_bal_gt_0', 'num_sats', 'num_tl_120dpd_2m', 'num_tl_30dpd', 'num_tl_90g_dpd_24m', 'num_tl_op_past_12m', 'pct_tl_nvr_dlq', 'percent_bc_gt_75', 'tax_liens', 'tot_hi_cred_lim', 'total_bal_ex_mort', 'total_bc_limit', 'total_il_high_credit_limit', 'hardship_flag', 'disbursement_method', 'debt_settlement_flag']\n"
     ]
    }
   ],
   "source": [
    "drop_list = [col for col in loans.columns if col not in keep_list]\n",
    "print(drop_list) #List remaining features not needed for investors"
   ]
  },
  {
   "cell_type": "code",
   "execution_count": 18,
   "metadata": {},
   "outputs": [
    {
     "data": {
      "text/plain": [
       "62"
      ]
     },
     "execution_count": 18,
     "metadata": {},
     "output_type": "execute_result"
    }
   ],
   "source": [
    "len(drop_list)"
   ]
  },
  {
   "cell_type": "code",
   "execution_count": 19,
   "metadata": {},
   "outputs": [],
   "source": [
    "loans.drop(labels=drop_list, axis=1, inplace=True) #Drop Features"
   ]
  },
  {
   "cell_type": "code",
   "execution_count": 20,
   "metadata": {},
   "outputs": [
    {
     "data": {
      "text/plain": [
       "(13583, 31)"
      ]
     },
     "execution_count": 20,
     "metadata": {},
     "output_type": "execute_result"
    }
   ],
   "source": [
    "loans.shape #Remaining Columns"
   ]
  },
  {
   "cell_type": "code",
   "execution_count": null,
   "metadata": {},
   "outputs": [],
   "source": []
  },
  {
   "cell_type": "markdown",
   "metadata": {},
   "source": [
    "## Exploratory Data Analysis"
   ]
  },
  {
   "cell_type": "markdown",
   "metadata": {},
   "source": [
    "Check dtypes of columns "
   ]
  },
  {
   "cell_type": "code",
   "execution_count": 21,
   "metadata": {},
   "outputs": [
    {
     "data": {
      "text/plain": [
       "id                       object\n",
       "loan_amnt               float64\n",
       "term                     object\n",
       "int_rate                float64\n",
       "installment             float64\n",
       "grade                    object\n",
       "sub_grade                object\n",
       "emp_title                object\n",
       "emp_length               object\n",
       "home_ownership           object\n",
       "annual_inc              float64\n",
       "verification_status      object\n",
       "issue_d                  object\n",
       "loan_status              object\n",
       "purpose                  object\n",
       "title                    object\n",
       "zip_code                 object\n",
       "addr_state               object\n",
       "dti                     float64\n",
       "earliest_cr_line         object\n",
       "fico_range_low          float64\n",
       "fico_range_high         float64\n",
       "open_acc                float64\n",
       "pub_rec                 float64\n",
       "revol_bal               float64\n",
       "revol_util              float64\n",
       "total_acc               float64\n",
       "initial_list_status      object\n",
       "application_type         object\n",
       "mort_acc                float64\n",
       "pub_rec_bankruptcies    float64\n",
       "dtype: object"
      ]
     },
     "execution_count": 21,
     "metadata": {},
     "output_type": "execute_result"
    }
   ],
   "source": [
    "loans.dtypes"
   ]
  },
  {
   "cell_type": "code",
   "execution_count": 22,
   "metadata": {},
   "outputs": [
    {
     "data": {
      "text/plain": [
       "['id',\n",
       " 'term',\n",
       " 'grade',\n",
       " 'sub_grade',\n",
       " 'emp_title',\n",
       " 'emp_length',\n",
       " 'home_ownership',\n",
       " 'verification_status',\n",
       " 'issue_d',\n",
       " 'loan_status',\n",
       " 'purpose',\n",
       " 'title',\n",
       " 'zip_code',\n",
       " 'addr_state',\n",
       " 'earliest_cr_line',\n",
       " 'initial_list_status',\n",
       " 'application_type']"
      ]
     },
     "execution_count": 22,
     "metadata": {},
     "output_type": "execute_result"
    }
   ],
   "source": [
    "loans.select_dtypes(include=np.object).columns.tolist() # Object data type columns"
   ]
  },
  {
   "cell_type": "code",
   "execution_count": 23,
   "metadata": {},
   "outputs": [
    {
     "data": {
      "text/plain": [
       "['loan_amnt',\n",
       " 'int_rate',\n",
       " 'installment',\n",
       " 'annual_inc',\n",
       " 'dti',\n",
       " 'fico_range_low',\n",
       " 'fico_range_high',\n",
       " 'open_acc',\n",
       " 'pub_rec',\n",
       " 'revol_bal',\n",
       " 'revol_util',\n",
       " 'total_acc',\n",
       " 'mort_acc',\n",
       " 'pub_rec_bankruptcies']"
      ]
     },
     "execution_count": 23,
     "metadata": {},
     "output_type": "execute_result"
    }
   ],
   "source": [
    "loans.select_dtypes(include=np.float).columns.tolist() # Float data type columns"
   ]
  },
  {
   "cell_type": "markdown",
   "metadata": {},
   "source": [
    "### Analyzing Categorical data"
   ]
  },
  {
   "cell_type": "markdown",
   "metadata": {},
   "source": [
    "id', 'term', 'grade', 'sub_grade', 'emp_title', 'emp_length', 'home_ownership', 'verification_status',\n",
    "'issue_d', 'loan_status', 'purpose', 'title',  'zip_code', 'addr_state',  'earliest_cr_line', 'initial_list_status',\n",
    "'application_type'"
   ]
  },
  {
   "cell_type": "markdown",
   "metadata": {},
   "source": [
    "#### Id"
   ]
  },
  {
   "cell_type": "code",
   "execution_count": 24,
   "metadata": {},
   "outputs": [
    {
     "data": {
      "text/plain": [
       "count        13583\n",
       "unique       13583\n",
       "top       63374284\n",
       "freq             1\n",
       "Name: id, dtype: int64"
      ]
     },
     "execution_count": 24,
     "metadata": {},
     "output_type": "execute_result"
    }
   ],
   "source": [
    "loans['id'].describe() #Usually ID's are unique and independent keys"
   ]
  },
  {
   "cell_type": "code",
   "execution_count": 25,
   "metadata": {},
   "outputs": [],
   "source": [
    "loans.drop('id', axis=1, inplace=True) #drop id"
   ]
  },
  {
   "cell_type": "code",
   "execution_count": null,
   "metadata": {},
   "outputs": [],
   "source": []
  },
  {
   "cell_type": "markdown",
   "metadata": {},
   "source": [
    "#### Term"
   ]
  },
  {
   "cell_type": "code",
   "execution_count": 26,
   "metadata": {},
   "outputs": [
    {
     "data": {
      "text/plain": [
       " 36 months    10396\n",
       " 60 months     3187\n",
       "Name: term, dtype: int64"
      ]
     },
     "execution_count": 26,
     "metadata": {},
     "output_type": "execute_result"
    }
   ],
   "source": [
    "loans['term'].value_counts(dropna=False)"
   ]
  },
  {
   "cell_type": "code",
   "execution_count": 27,
   "metadata": {},
   "outputs": [],
   "source": [
    "loans['term'] = loans['term'].apply(lambda s: np.int8(s.split()[0])) #convert them into numericals"
   ]
  },
  {
   "cell_type": "code",
   "execution_count": 28,
   "metadata": {},
   "outputs": [
    {
     "data": {
      "text/plain": [
       "term\n",
       "36   0.16\n",
       "60   0.33\n",
       "Name: loan_status, dtype: float64"
      ]
     },
     "execution_count": 28,
     "metadata": {},
     "output_type": "execute_result"
    }
   ],
   "source": [
    "loans.groupby('term')['loan_status'].value_counts(normalize=True).loc[:,'Charged Off']"
   ]
  },
  {
   "cell_type": "markdown",
   "metadata": {},
   "source": [
    "Charge off rates for 60 months are 2x higher than for 36 months term"
   ]
  },
  {
   "cell_type": "code",
   "execution_count": null,
   "metadata": {},
   "outputs": [],
   "source": []
  },
  {
   "cell_type": "markdown",
   "metadata": {},
   "source": [
    "#### Grade and Sub Grade"
   ]
  },
  {
   "cell_type": "code",
   "execution_count": 29,
   "metadata": {},
   "outputs": [
    {
     "name": "stdout",
     "output_type": "stream",
     "text": [
      "['A', 'B', 'C', 'D', 'E', 'F', 'G']\n"
     ]
    }
   ],
   "source": [
    "print(sorted(loans['grade'].unique()))"
   ]
  },
  {
   "cell_type": "code",
   "execution_count": 30,
   "metadata": {},
   "outputs": [
    {
     "name": "stdout",
     "output_type": "stream",
     "text": [
      "['A1', 'A2', 'A3', 'A4', 'A5', 'B1', 'B2', 'B3', 'B4', 'B5', 'C1', 'C2', 'C3', 'C4', 'C5', 'D1', 'D2', 'D3', 'D4', 'D5', 'E1', 'E2', 'E3', 'E4', 'E5', 'F1', 'F2', 'F3', 'F4', 'F5', 'G1', 'G2', 'G3', 'G4', 'G5']\n"
     ]
    }
   ],
   "source": [
    "print(sorted(loans['sub_grade'].unique()))"
   ]
  },
  {
   "cell_type": "markdown",
   "metadata": {},
   "source": [
    "Both are same, drop one column either grade or sub grade, I am dropping grade column here"
   ]
  },
  {
   "cell_type": "code",
   "execution_count": 31,
   "metadata": {},
   "outputs": [],
   "source": [
    "loans.drop('grade', axis=1, inplace=True) #Drop grade"
   ]
  },
  {
   "cell_type": "code",
   "execution_count": 32,
   "metadata": {},
   "outputs": [],
   "source": [
    "def plot_var(col_name, full_name, continuous):  # plot function\n",
    "    \"\"\"\n",
    "    Visualize a variable with and without faceting on the loan status.\n",
    "    - col_name is the variable name in the dataframe\n",
    "    - full_name is the full variable name\n",
    "    - continuous is True if the variable is continuous, False otherwise\n",
    "    \"\"\"\n",
    "    f, (ax1, ax2) = plt.subplots(nrows=1, ncols=2, figsize=(12,3), dpi=90)\n",
    "    \n",
    "    # Plot without loan status\n",
    "    if continuous:\n",
    "        sns.distplot(loans.loc[loans[col_name].notnull(), col_name], kde=False, ax=ax1)\n",
    "    else:\n",
    "        sns.countplot(loans[col_name], order=sorted(loans[col_name].unique()), color='#5975A4', saturation=1, ax=ax1)\n",
    "    ax1.set_xlabel(full_name)\n",
    "    ax1.set_ylabel('Count')\n",
    "    ax1.set_title(full_name)\n",
    "\n",
    "    # Plot with loan status\n",
    "    if continuous:\n",
    "        sns.boxplot(x=col_name, y='loan_status', data=loans, ax=ax2)\n",
    "        ax2.set_ylabel('')\n",
    "        ax2.set_title(full_name + ' by Loan Status')\n",
    "    else:\n",
    "        charge_off_rates = loans.groupby(col_name)['loan_status'].value_counts(normalize=True).loc[:,'Charged Off']\n",
    "        sns.barplot(x=charge_off_rates.index, y=charge_off_rates.values, color='#5975A4', saturation=1, ax=ax2)\n",
    "        ax2.set_ylabel('Fraction of Loans Charged-off')\n",
    "        ax2.set_title('Charge-off Rate by ' + full_name)\n",
    "    ax2.set_xlabel(full_name)\n",
    "    \n",
    "    plt.tight_layout()"
   ]
  },
  {
   "cell_type": "code",
   "execution_count": 33,
   "metadata": {},
   "outputs": [
    {
     "data": {
      "image/png": "[encoded data removed]",
      "text/plain": [
       "<Figure size 1080x270 with 2 Axes>"
      ]
     },
     "metadata": {},
     "output_type": "display_data"
    }
   ],
   "source": [
    "plot_var('sub_grade', 'Subgrade', continuous=False)"
   ]
  },
  {
   "cell_type": "markdown",
   "metadata": {},
   "source": [
    "From the above plot, we can find that charge off rates increases with sub grade"
   ]
  },
  {
   "cell_type": "code",
   "execution_count": null,
   "metadata": {},
   "outputs": [],
   "source": []
  },
  {
   "cell_type": "markdown",
   "metadata": {},
   "source": [
    "#### Employment title"
   ]
  },
  {
   "cell_type": "code",
   "execution_count": 34,
   "metadata": {},
   "outputs": [
    {
     "data": {
      "text/plain": [
       "count       12712\n",
       "unique       7969\n",
       "top       Teacher\n",
       "freq          208\n",
       "Name: emp_title, dtype: object"
      ]
     },
     "execution_count": 34,
     "metadata": {},
     "output_type": "execute_result"
    }
   ],
   "source": [
    "loans['emp_title'].describe()"
   ]
  },
  {
   "cell_type": "code",
   "execution_count": 35,
   "metadata": {},
   "outputs": [],
   "source": [
    "loans.drop(labels='emp_title', axis=1, inplace=True) #too many unique values"
   ]
  },
  {
   "cell_type": "code",
   "execution_count": null,
   "metadata": {},
   "outputs": [],
   "source": []
  },
  {
   "cell_type": "markdown",
   "metadata": {},
   "source": [
    "#### Employment length"
   ]
  },
  {
   "cell_type": "code",
   "execution_count": 36,
   "metadata": {},
   "outputs": [
    {
     "data": {
      "text/plain": [
       "1 year        932\n",
       "10+ years    4472\n",
       "2 years      1233\n",
       "3 years      1068\n",
       "4 years       827\n",
       "5 years       829\n",
       "6 years       699\n",
       "7 years       572\n",
       "8 years       616\n",
       "9 years       508\n",
       "< 1 year     1035\n",
       "NaN           792\n",
       "Name: emp_length, dtype: int64"
      ]
     },
     "execution_count": 36,
     "metadata": {},
     "output_type": "execute_result"
    }
   ],
   "source": [
    "loans['emp_length'].value_counts(dropna=False).sort_index()"
   ]
  },
  {
   "cell_type": "markdown",
   "metadata": {},
   "source": [
    "Remove years from emp_length variables and convert them into float"
   ]
  },
  {
   "cell_type": "code",
   "execution_count": 37,
   "metadata": {},
   "outputs": [],
   "source": [
    "loans['emp_length'].replace('< 1 year', '0 years', inplace=True) #Replace 0 years with 1 year"
   ]
  },
  {
   "cell_type": "code",
   "execution_count": 38,
   "metadata": {},
   "outputs": [],
   "source": [
    "loans['emp_length'].replace(to_replace='10+ years', value='10 years', inplace=True) # Replace 10+years with 10 years"
   ]
  },
  {
   "cell_type": "code",
   "execution_count": 39,
   "metadata": {},
   "outputs": [],
   "source": [
    "def emp_length_to_int(s):\n",
    "    if pd.isnull(s): \n",
    "        return s\n",
    "    else:\n",
    "        return np.int8(s.split()[0])"
   ]
  },
  {
   "cell_type": "code",
   "execution_count": 40,
   "metadata": {},
   "outputs": [],
   "source": [
    "loans['emp_length'] = loans['emp_length'].apply(emp_length_to_int)"
   ]
  },
  {
   "cell_type": "code",
   "execution_count": 41,
   "metadata": {},
   "outputs": [],
   "source": [
    "loans['emp_length'] = loans['emp_length'].fillna(loans.emp_length.median()) # fill missing values by taking median imputation"
   ]
  },
  {
   "cell_type": "code",
   "execution_count": 42,
   "metadata": {},
   "outputs": [
    {
     "data": {
      "text/plain": [
       "0.00     1035\n",
       "1.00      932\n",
       "2.00     1233\n",
       "3.00     1068\n",
       "4.00      827\n",
       "5.00      829\n",
       "6.00     1491\n",
       "7.00      572\n",
       "8.00      616\n",
       "9.00      508\n",
       "10.00    4472\n",
       "Name: emp_length, dtype: int64"
      ]
     },
     "execution_count": 42,
     "metadata": {},
     "output_type": "execute_result"
    }
   ],
   "source": [
    "loans['emp_length'].value_counts(dropna=False).sort_index()"
   ]
  },
  {
   "cell_type": "code",
   "execution_count": 43,
   "metadata": {},
   "outputs": [
    {
     "data": {
      "text/plain": [
       "emp_length\n",
       "0.00    0.19\n",
       "1.00    0.21\n",
       "2.00    0.20\n",
       "3.00    0.21\n",
       "4.00    0.23\n",
       "5.00    0.18\n",
       "6.00    0.22\n",
       "7.00    0.20\n",
       "8.00    0.20\n",
       "9.00    0.18\n",
       "10.00   0.20\n",
       "Name: loan_status, dtype: float64"
      ]
     },
     "execution_count": 43,
     "metadata": {},
     "output_type": "execute_result"
    }
   ],
   "source": [
    "loans.groupby('emp_length')['loan_status'].value_counts(normalize=True).loc[:,'Charged Off']"
   ]
  },
  {
   "cell_type": "markdown",
   "metadata": {},
   "source": [
    "Charge off rates are decreasing when employment length increases"
   ]
  },
  {
   "cell_type": "code",
   "execution_count": null,
   "metadata": {},
   "outputs": [],
   "source": []
  },
  {
   "cell_type": "markdown",
   "metadata": {},
   "source": [
    "#### Home Ownership"
   ]
  },
  {
   "cell_type": "code",
   "execution_count": 44,
   "metadata": {},
   "outputs": [
    {
     "data": {
      "text/plain": [
       "MORTGAGE    6711\n",
       "RENT        5364\n",
       "OWN         1499\n",
       "OTHER          5\n",
       "ANY            3\n",
       "NONE           1\n",
       "Name: home_ownership, dtype: int64"
      ]
     },
     "execution_count": 44,
     "metadata": {},
     "output_type": "execute_result"
    }
   ],
   "source": [
    "loans['home_ownership'].value_counts(dropna=False)"
   ]
  },
  {
   "cell_type": "markdown",
   "metadata": {},
   "source": [
    "We can merge None, Any as Other"
   ]
  },
  {
   "cell_type": "code",
   "execution_count": 45,
   "metadata": {},
   "outputs": [],
   "source": [
    "loans['home_ownership'].replace(['NONE', 'ANY'], 'OTHER', inplace=True)"
   ]
  },
  {
   "cell_type": "code",
   "execution_count": 46,
   "metadata": {},
   "outputs": [
    {
     "data": {
      "text/plain": [
       "MORTGAGE    6711\n",
       "RENT        5364\n",
       "OWN         1499\n",
       "OTHER          9\n",
       "Name: home_ownership, dtype: int64"
      ]
     },
     "execution_count": 46,
     "metadata": {},
     "output_type": "execute_result"
    }
   ],
   "source": [
    "loans['home_ownership'].value_counts(dropna=False)"
   ]
  },
  {
   "cell_type": "code",
   "execution_count": 47,
   "metadata": {},
   "outputs": [
    {
     "data": {
      "text/html": [
       "<div>\n",
       "<style scoped>\n",
       "    .dataframe tbody tr th:only-of-type {\n",
       "        vertical-align: middle;\n",
       "    }\n",
       "\n",
       "    .dataframe tbody tr th {\n",
       "        vertical-align: top;\n",
       "    }\n",
       "\n",
       "    .dataframe thead th {\n",
       "        text-align: right;\n",
       "    }\n",
       "</style>\n",
       "<table border=\"1\" class=\"dataframe\">\n",
       "  <thead>\n",
       "    <tr style=\"text-align: right;\">\n",
       "      <th>loan_status</th>\n",
       "      <th>Charged Off</th>\n",
       "      <th>Fully Paid</th>\n",
       "    </tr>\n",
       "    <tr>\n",
       "      <th>home_ownership</th>\n",
       "      <th></th>\n",
       "      <th></th>\n",
       "    </tr>\n",
       "  </thead>\n",
       "  <tbody>\n",
       "    <tr>\n",
       "      <th>MORTGAGE</th>\n",
       "      <td>1202</td>\n",
       "      <td>5509</td>\n",
       "    </tr>\n",
       "    <tr>\n",
       "      <th>OTHER</th>\n",
       "      <td>3</td>\n",
       "      <td>6</td>\n",
       "    </tr>\n",
       "    <tr>\n",
       "      <th>OWN</th>\n",
       "      <td>313</td>\n",
       "      <td>1186</td>\n",
       "    </tr>\n",
       "    <tr>\n",
       "      <th>RENT</th>\n",
       "      <td>1220</td>\n",
       "      <td>4144</td>\n",
       "    </tr>\n",
       "  </tbody>\n",
       "</table>\n",
       "</div>"
      ],
      "text/plain": [
       "loan_status     Charged Off  Fully Paid\n",
       "home_ownership                         \n",
       "MORTGAGE               1202        5509\n",
       "OTHER                     3           6\n",
       "OWN                     313        1186\n",
       "RENT                   1220        4144"
      ]
     },
     "execution_count": 47,
     "metadata": {},
     "output_type": "execute_result"
    }
   ],
   "source": [
    "home_ownership_xt = pd.crosstab(loans['home_ownership'], loans['loan_status'])\n",
    "home_ownership_xt #Cross table"
   ]
  },
  {
   "cell_type": "code",
   "execution_count": 48,
   "metadata": {},
   "outputs": [
    {
     "data": {
      "text/plain": [
       "Text(0, 0.5, 'Loan Status')"
      ]
     },
     "execution_count": 48,
     "metadata": {},
     "output_type": "execute_result"
    },
    {
     "data": {
      "image/png": "[encoded data removed]",
      "text/plain": [
       "<Figure size 432x288 with 1 Axes>"
      ]
     },
     "metadata": {},
     "output_type": "display_data"
    }
   ],
   "source": [
    "home_ownership_xt_pct = home_ownership_xt.div(home_ownership_xt.sum(1).astype(float), axis=0)\n",
    "\n",
    "home_ownership_xt_pct.plot(kind='bar', \n",
    "                   stacked=True, \n",
    "                   title='Loan status by Home Ownership')\n",
    "plt.xlabel('Home Ownership')\n",
    "plt.ylabel('Loan Status')"
   ]
  },
  {
   "cell_type": "markdown",
   "metadata": {},
   "source": [
    "Charge off rates are higher for Rent and Own home owner ship with 23% and 21% respectively"
   ]
  },
  {
   "cell_type": "code",
   "execution_count": 49,
   "metadata": {},
   "outputs": [
    {
     "data": {
      "text/plain": [
       "home_ownership\n",
       "MORTGAGE   0.18\n",
       "OTHER      0.33\n",
       "OWN        0.21\n",
       "RENT       0.23\n",
       "Name: loan_status, dtype: float64"
      ]
     },
     "execution_count": 49,
     "metadata": {},
     "output_type": "execute_result"
    }
   ],
   "source": [
    "loans.groupby('home_ownership')['loan_status'].value_counts(normalize=True).loc[:,'Charged Off']"
   ]
  },
  {
   "cell_type": "code",
   "execution_count": null,
   "metadata": {},
   "outputs": [],
   "source": []
  },
  {
   "cell_type": "markdown",
   "metadata": {},
   "source": [
    "#### Verification Status"
   ]
  },
  {
   "cell_type": "code",
   "execution_count": 50,
   "metadata": {},
   "outputs": [
    {
     "data": {
      "text/plain": [
       "verification_status\n",
       "Not Verified      0.14\n",
       "Source Verified   0.21\n",
       "Verified          0.25\n",
       "Name: loan_status, dtype: float64"
      ]
     },
     "execution_count": 50,
     "metadata": {},
     "output_type": "execute_result"
    }
   ],
   "source": [
    "loans.groupby('verification_status')['loan_status'].value_counts(normalize=True).loc[:,'Charged Off']"
   ]
  },
  {
   "cell_type": "markdown",
   "metadata": {},
   "source": [
    "Charge off rates are higher for Verified compared to other two types"
   ]
  },
  {
   "cell_type": "code",
   "execution_count": null,
   "metadata": {},
   "outputs": [],
   "source": []
  },
  {
   "cell_type": "markdown",
   "metadata": {},
   "source": [
    "#### Purpose"
   ]
  },
  {
   "cell_type": "code",
   "execution_count": 51,
   "metadata": {},
   "outputs": [
    {
     "data": {
      "text/plain": [
       "MORTGAGE    6711\n",
       "RENT        5364\n",
       "OWN         1499\n",
       "OTHER          9\n",
       "Name: home_ownership, dtype: int64"
      ]
     },
     "execution_count": 51,
     "metadata": {},
     "output_type": "execute_result"
    }
   ],
   "source": [
    "loans['home_ownership'].value_counts(dropna=False)"
   ]
  },
  {
   "cell_type": "code",
   "execution_count": 52,
   "metadata": {},
   "outputs": [
    {
     "data": {
      "text/plain": [
       "purpose\n",
       "car                  0.16\n",
       "credit_card          0.17\n",
       "debt_consolidation   0.21\n",
       "home_improvement     0.19\n",
       "house                0.16\n",
       "major_purchase       0.20\n",
       "medical              0.25\n",
       "moving               0.25\n",
       "other                0.21\n",
       "renewable_energy     0.25\n",
       "small_business       0.33\n",
       "vacation             0.15\n",
       "wedding              0.09\n",
       "Name: loan_status, dtype: float64"
      ]
     },
     "execution_count": 52,
     "metadata": {},
     "output_type": "execute_result"
    }
   ],
   "source": [
    "loans.groupby('purpose')['loan_status'].value_counts(normalize=True).loc[:,'Charged Off']"
   ]
  },
  {
   "cell_type": "code",
   "execution_count": null,
   "metadata": {},
   "outputs": [],
   "source": []
  },
  {
   "cell_type": "markdown",
   "metadata": {},
   "source": [
    "#### Title"
   ]
  },
  {
   "cell_type": "code",
   "execution_count": 53,
   "metadata": {},
   "outputs": [
    {
     "data": {
      "text/plain": [
       "count                  13418\n",
       "unique                  1164\n",
       "top       Debt consolidation\n",
       "freq                    6682\n",
       "Name: title, dtype: object"
      ]
     },
     "execution_count": 53,
     "metadata": {},
     "output_type": "execute_result"
    }
   ],
   "source": [
    "loans['title'].describe()"
   ]
  },
  {
   "cell_type": "code",
   "execution_count": 54,
   "metadata": {},
   "outputs": [
    {
     "data": {
      "text/plain": [
       "Debt consolidation                                                  0.49\n",
       "Credit card refinancing                                             0.19\n",
       "Home improvement                                                    0.06\n",
       "Other                                                               0.05\n",
       "Major purchase                                                      0.02\n",
       "NaN                                                                 0.01\n",
       "Debt Consolidation                                                  0.01\n",
       "Car financing                                                       0.01\n",
       "Medical expenses                                                    0.01\n",
       "Business                                                            0.01\n",
       "Moving and relocation                                               0.01\n",
       "Vacation                                                            0.01\n",
       "Home buying                                                         0.00\n",
       "debt consolidation                                                  0.00\n",
       "Consolidation                                                       0.00\n",
       "Debt Consolidation Loan                                             0.00\n",
       "Credit Card Consolidation                                           0.00\n",
       "Consolidation Loan                                                  0.00\n",
       "consolidation                                                       0.00\n",
       "Credit Card Refinance                                               0.00\n",
       "Credit Card Payoff                                                  0.00\n",
       "Personal                                                            0.00\n",
       "Home Improvement                                                    0.00\n",
       "Personal Loan                                                       0.00\n",
       "personal                                                            0.00\n",
       "Loan                                                                0.00\n",
       "Debt                                                                0.00\n",
       "Consolidate                                                         0.00\n",
       "Payoff                                                              0.00\n",
       "CC Consolidation                                                    0.00\n",
       "Green loan                                                          0.00\n",
       "Credit Cards                                                        0.00\n",
       "consolidate                                                         0.00\n",
       "home improvement                                                    0.00\n",
       "Debt Payoff                                                         0.00\n",
       "consolidation loan                                                  0.00\n",
       "credit card payoff                                                  0.00\n",
       "Home Improvement Loan                                               0.00\n",
       "credit card consolidation                                           0.00\n",
       "CONSOLIDATION                                                       0.00\n",
       "Consolidate Debt                                                    0.00\n",
       "Credit Card                                                         0.00\n",
       "Freedom                                                             0.00\n",
       "personal loan                                                       0.00\n",
       "DEBT CONSOLIDATION                                                  0.00\n",
       "credit card loan                                                    0.00\n",
       "Credit card refinance                                               0.00\n",
       "debt consolidation loan                                             0.00\n",
       "Lending Club                                                        0.00\n",
       "Credit Card Loan                                                    0.00\n",
       "Credit Consolidation                                                0.00\n",
       "Small Business Loan                                                 0.00\n",
       "credit card                                                         0.00\n",
       "Debt Consolidation                                                  0.00\n",
       "vacation                                                            0.00\n",
       "freedom                                                             0.00\n",
       "Credit Card Debt Consolidation                                      0.00\n",
       "Business Loan                                                       0.00\n",
       "refinance                                                           0.00\n",
       "Pool Loan                                                           0.00\n",
       "Credit card consolidation                                           0.00\n",
       "Debt Free                                                           0.00\n",
       "My Loan                                                             0.00\n",
       "Consolidation                                                       0.00\n",
       "credit card refinance                                               0.00\n",
       "Wedding Loan                                                        0.00\n",
       "Loan 1                                                              0.00\n",
       "Get out of debt                                                     0.00\n",
       "Refinance                                                           0.00\n",
       "bill consolidation                                                  0.00\n",
       "Debt consolidation                                                  0.00\n",
       "Credit Card Refinancing                                             0.00\n",
       "Consolidation loan                                                  0.00\n",
       "Bill Consolidation                                                  0.00\n",
       "Debt consolidation loan                                             0.00\n",
       "Bills                                                               0.00\n",
       "Debt free                                                           0.00\n",
       "Help                                                                0.00\n",
       "debt relief                                                         0.00\n",
       "Other Loan                                                          0.00\n",
       "Pay off credit cards                                                0.00\n",
       "Credit card payoff                                                  0.00\n",
       "2012 Loan                                                           0.00\n",
       "my loan                                                             0.00\n",
       "Wedding Expenses                                                    0.00\n",
       "CC Payoff                                                           0.00\n",
       "Major Purchase                                                      0.00\n",
       "payoff                                                              0.00\n",
       "debt consolidation                                                  0.00\n",
       "Credit Card Refinance Loan                                          0.00\n",
       "Pay off                                                             0.00\n",
       "credit cards                                                        0.00\n",
       "Credit Card Debt                                                    0.00\n",
       "pay off credit card                                                 0.00\n",
       "swimming pool                                                       0.00\n",
       "cards                                                               0.00\n",
       "Home                                                                0.00\n",
       "Medical Loan                                                        0.00\n",
       "Debt Consolidation loan                                             0.00\n",
       "Credit Card Pay Off                                                 0.00\n",
       "consolidation                                                       0.00\n",
       "Credit Card Consolidation                                           0.00\n",
       "cc payoff                                                           0.00\n",
       "DebtConsolidation                                                   0.00\n",
       "debt loan                                                           0.00\n",
       "Personal loan                                                       0.00\n",
       "Bill Loan                                                           0.00\n",
       "Debt Pay Off                                                        0.00\n",
       "Debt Loan                                                           0.00\n",
       "PERSONAL LOAN                                                       0.00\n",
       "Refinance Loan                                                      0.00\n",
       "Taxes                                                               0.00\n",
       "Debt payoff                                                         0.00\n",
       "motorcycle                                                          0.00\n",
       "Freedom Loan                                                        0.00\n",
       "Credit Payoff                                                       0.00\n",
       "Debit Consolidation                                                 0.00\n",
       "Consolidation 2012                                                  0.00\n",
       "No more debt                                                        0.00\n",
       "Home improvement loan                                               0.00\n",
       "Myloan                                                              0.00\n",
       "consolidate loan                                                    0.00\n",
       "Debt Repayment                                                      0.00\n",
       "LOAN                                                                0.00\n",
       "Ring Loan                                                           0.00\n",
       "Pay off debt                                                        0.00\n",
       "Lending Loan                                                        0.00\n",
       "Credit Card Consolidation Loan                                      0.00\n",
       "investment                                                          0.00\n",
       "Happy Days                                                          0.00\n",
       "DC Loan                                                             0.00\n",
       "Wedding                                                             0.00\n",
       "CONSOLIDATE                                                         0.00\n",
       "pay off                                                             0.00\n",
       "My loan                                                             0.00\n",
       "Debt consolodation                                                  0.00\n",
       "loan payoff                                                         0.00\n",
       "Credit card                                                         0.00\n",
       "Credit Refinancing                                                  0.00\n",
       "Loan Consolidation                                                  0.00\n",
       "Credit Card Reduction                                               0.00\n",
       "Debt Consolidate                                                    0.00\n",
       "Debt Consol.                                                        0.00\n",
       "debt                                                                0.00\n",
       "pay off debt                                                        0.00\n",
       "Out of Debt                                                         0.00\n",
       "Loan1                                                               0.00\n",
       "Get out of Debt                                                     0.00\n",
       "MYLOAN                                                              0.00\n",
       "debt free                                                           0.00\n",
       "business                                                            0.00\n",
       "Debt loan                                                           0.00\n",
       "Debt Consolidation 1                                                0.00\n",
       "improvement                                                         0.00\n",
       "Credit card debt                                                    0.00\n",
       "debtfree                                                            0.00\n",
       "My Future                                                           0.00\n",
       "Debtfree                                                            0.00\n",
       "debt considation                                                    0.00\n",
       "Moving                                                              0.00\n",
       "credit card pay off                                                 0.00\n",
       "PAY DOWN                                                            0.00\n",
       "Motorcycle loan                                                     0.00\n",
       "debt consolidating                                                  0.00\n",
       "Business Growth Loan                                                0.00\n",
       "Credit card consolidation lower interest                            0.00\n",
       "Cards-1                                                             0.00\n",
       "Debt Consolodation Loan                                             0.00\n",
       "Professional Business Loan                                          0.00\n",
       "Journey                                                             0.00\n",
       "Debt Consolidation to reduce interest                               0.00\n",
       "BYBY CREDITCARD                                                     0.00\n",
       "Fresh start                                                         0.00\n",
       "Pay Discover                                                        0.00\n",
       "Payoff Credit Cards                                                 0.00\n",
       "BOA Card                                                            0.00\n",
       "Graduate                                                            0.00\n",
       "  tying up loose ends                                               0.00\n",
       "Justifiable Accommodation                                           0.00\n",
       "Credit card refinancing loan                                        0.00\n",
       "Debt Free in 3!                                                     0.00\n",
       "Consolidation Loan                                                  0.00\n",
       "Credit card pay off                                                 0.00\n",
       "Freedom loan                                                        0.00\n",
       "Special Loan                                                        0.00\n",
       "Accounts                                                            0.00\n",
       "FUN                                                                 0.00\n",
       "debt consolidator                                                   0.00\n",
       "Times2                                                              0.00\n",
       "dimples                                                             0.00\n",
       "OPERATION 1 SUCCESS                                                 0.00\n",
       "Invest in Me!                                                       0.00\n",
       "No More Debt Baby                                                   0.00\n",
       "pay it up fast                                                      0.00\n",
       "Sidekick                                                            0.00\n",
       "Light at the end of the tunnel                                      0.00\n",
       "Bank of America Pay-Off Loan                                        0.00\n",
       "consolidar                                                          0.00\n",
       "home impruvement                                                    0.00\n",
       "Wedding Expenses Loan                                               0.00\n",
       "seeking medical help                                                0.00\n",
       "Consoldiate                                                         0.00\n",
       "bbt                                                                 0.00\n",
       "Consolidation loan\\t                                                0.00\n",
       "Lower Rate & out with plastic                                       0.00\n",
       "my kitchen                                                          0.00\n",
       "Pay off this card!                                                  0.00\n",
       "CC REFINANCE                                                        0.00\n",
       "DEBT REFI                                                           0.00\n",
       "Travel Resorts of America TNC30                                     0.00\n",
       "Consolidate cc                                                      0.00\n",
       "Credit card loan                                                    0.00\n",
       "pay off bills                                                       0.00\n",
       "Lower my rate!                                                      0.00\n",
       "Leap of Faith                                                       0.00\n",
       "Starting Fresh                                                      0.00\n",
       "first car                                                           0.00\n",
       "Disney CC                                                           0.00\n",
       "payoff Loan                                                         0.00\n",
       "HOME IMPROVEMENTS/FAMILY VACATION                                   0.00\n",
       "Lower Rate Loan                                                     0.00\n",
       "debt consalidation                                                  0.00\n",
       "Debt cons. & vacation                                               0.00\n",
       "home improvements                                                   0.00\n",
       " vacatio loan                                                       0.00\n",
       "Build a New Product Line and Website                                0.00\n",
       "Rate reduction                                                      0.00\n",
       "Payoff Loan for lower interest and pymt                             0.00\n",
       "Pay Off CC                                                          0.00\n",
       "Lending Tree pay off                                                0.00\n",
       "Credit card re-fi to lower rate                                     0.00\n",
       "Out of debt for Stanley                                             0.00\n",
       "Pay three things off                                                0.00\n",
       "cc refi                                                             0.00\n",
       "pass go collect 200 dollars                                         0.00\n",
       "2 cards                                                             0.00\n",
       "CreditCardPayoff                                                    0.00\n",
       "financial freedom                                                   0.00\n",
       "movingforwardtowork2                                                0.00\n",
       "Thank You for the help                                              0.00\n",
       "Better interest rate for credit cards                               0.00\n",
       "Backyard                                                            0.00\n",
       "free from debt                                                      0.00\n",
       "I've never missed a payment for any bill ever                       0.00\n",
       "personal payoff                                                     0.00\n",
       "regroup                                                             0.00\n",
       "Wife's turning 30 surprise birthday part                            0.00\n",
       "Interest Shrinker Loan                                              0.00\n",
       "Debt reduction                                                      0.00\n",
       "Lending Club Home Repairs                                           0.00\n",
       "Less Debt                                                           0.00\n",
       "credit                                                              0.00\n",
       "cc and lc                                                           0.00\n",
       "Deck                                                                0.00\n",
       "Eliminate my DEBT                                                   0.00\n",
       "Saving Grace                                                        0.00\n",
       "Payoff Credit Card Debt                                             0.00\n",
       "Short-term investment                                               0.00\n",
       "High interest Consolidation                                         0.00\n",
       "CC refinance                                                        0.00\n",
       "Consolidation is the solution                                       0.00\n",
       "Eliminate High Interest Credit                                      0.00\n",
       "GC CONSOLIDATION                                                    0.00\n",
       "make one payment                                                    0.00\n",
       "February Payoff                                                     0.00\n",
       "moving forward                                                      0.00\n",
       "Final Loan                                                          0.00\n",
       "Easin back into the Saddle                                          0.00\n",
       "CREDIT CARD                                                         0.00\n",
       "Establish a \"Proven Provider\" network                               0.00\n",
       "need a loan to buy my first motorcycle                              0.00\n",
       "Consolidation 2                                                     0.00\n",
       "Dream Come True                                                     0.00\n",
       "Debit Consolidation                                                 0.00\n",
       "CC REFI                                                             0.00\n",
       "Paying 28%APR on my CC- Why?                                        0.00\n",
       "Pre-Deployment Debt Consolidation                                   0.00\n",
       "Cutting up the cards                                                0.00\n",
       "lc                                                                  0.00\n",
       "Get rid of credit cards.                                            0.00\n",
       "toyota                                                              0.00\n",
       "Dental Work                                                         0.00\n",
       "debt consol                                                         0.00\n",
       "Macys Card                                                          0.00\n",
       "Pay Off                                                             0.00\n",
       "debt consoladation plus some for me                                 0.00\n",
       "Credit Refinancing Loan                                             0.00\n",
       "Personal Expense                                                    0.00\n",
       "DebtConsol                                                          0.00\n",
       "Card refi                                                           0.00\n",
       "Car payoff                                                          0.00\n",
       "Home Improvement & Debt Consolidation                               0.00\n",
       "Medical 2012                                                        0.00\n",
       "High Rate Student Debt Consolidation                                0.00\n",
       "Paying off & consolidating credit cards                             0.00\n",
       "Credit Card Consolo                                                 0.00\n",
       "Get Rid of Debt Loan                                                0.00\n",
       "payingoffandgettinghealthier                                        0.00\n",
       "No More Debt!!                                                      0.00\n",
       "braces                                                              0.00\n",
       "floor replacement                                                   0.00\n",
       "The new begining                                                    0.00\n",
       "Upgrade home                                                        0.00\n",
       "Justin Z Consolidation Loan                                         0.00\n",
       "Become debt Free                                                    0.00\n",
       "Pay off loans & save money                                          0.00\n",
       "Short-Term Business Loan                                            0.00\n",
       "Active and speedy                                                   0.00\n",
       "debt consoildation                                                  0.00\n",
       "Pay back credit card                                                0.00\n",
       "Green things                                                        0.00\n",
       "Dept Consolidation                                                  0.00\n",
       "Debt Consolidation for a Software Engineer                          0.00\n",
       "2011 - Freedom from cc debt                                         0.00\n",
       "FOR A FRESH START                                                   0.00\n",
       "Home Based Bakery                                                   0.00\n",
       "W2012                                                               0.00\n",
       "Credit card consolidation                                           0.00\n",
       "Debt Refinance                                                      0.00\n",
       "New Polaris IQ Shift Snowmobile                                     0.00\n",
       "Less Plastic Debt                                                   0.00\n",
       "Consolidation of Credit Cards                                       0.00\n",
       "debt payment                                                        0.00\n",
       "Honda                                                               0.00\n",
       "Debt consolidation refinance                                        0.00\n",
       "Free from Debt!                                                     0.00\n",
       "reduction                                                           0.00\n",
       "Credit                                                              0.00\n",
       "CARD  PAYDOWN                                                       0.00\n",
       "Consolidate Loan                                                    0.00\n",
       "Debt Consol/Moving                                                  0.00\n",
       "Mine                                                                0.00\n",
       "2011 loan                                                           0.00\n",
       "Paying off high interest card from Bank of America                  0.00\n",
       "2012 Bill Consolidation                                             0.00\n",
       "Consolidation of 2 credit cards                                     0.00\n",
       "freelife                                                            0.00\n",
       "pay off home equity loan                                            0.00\n",
       "Consolodating CC Debt - Successful Now                              0.00\n",
       "Windows                                                             0.00\n",
       "DEBT PAYOFF                                                         0.00\n",
       "Lower Rate And Term Debt Consolidation                              0.00\n",
       "Home improvements                                                   0.00\n",
       " c-notes                                                            0.00\n",
       "Home fix-up loan                                                    0.00\n",
       "Home Improvement and Repair                                         0.00\n",
       "P2P debt consolidation                                              0.00\n",
       "Librarian Needs Lower Credit Card Rate :)                           0.00\n",
       "Stable borrower getting out of debt                                 0.00\n",
       "debt down                                                           0.00\n",
       "CREDIT PAYOFF                                                       0.00\n",
       "Car Repairs                                                         0.00\n",
       "Merge and Purge                                                     0.00\n",
       "Cleaning a mess                                                     0.00\n",
       "Credit Card Killer Loan                                             0.00\n",
       "debt reconsolidation                                                0.00\n",
       "fertility treatment                                                 0.00\n",
       "Bill consolidation                                                  0.00\n",
       "dept consolidation                                                  0.00\n",
       "credit card relelief                                                0.00\n",
       "getitright                                                          0.00\n",
       "Fix My House                                                        0.00\n",
       "Credit ref                                                          0.00\n",
       "Holiday                                                             0.00\n",
       "Meet payments loan                                                  0.00\n",
       "Purchasing Engagement Ring                                          0.00\n",
       "Pay Off All                                                         0.00\n",
       "improvement                                                         0.00\n",
       "consoladate                                                         0.00\n",
       "credit consolidation                                                0.00\n",
       "Lending Club DC                                                     0.00\n",
       "LendingClubLoan                                                     0.00\n",
       "Get Out of Debt                                                     0.00\n",
       "cc's                                                                0.00\n",
       "other                                                               0.00\n",
       "Debt Consolidation/Home Improvement                                 0.00\n",
       "ATV                                                                 0.00\n",
       "A New Chapter                                                       0.00\n",
       "Good-Bye Credit Cards                                               0.00\n",
       "quick loan                                                          0.00\n",
       "Free at Last !                                                      0.00\n",
       "CC LOAN                                                             0.00\n",
       "Credit cards 2012                                                   0.00\n",
       "Dept consolidation                                                  0.00\n",
       "DEBT Consolidation                                                  0.00\n",
       "Vacation Loan                                                       0.00\n",
       "Divorce Loan                                                        0.00\n",
       "Knock out my debt! :)                                               0.00\n",
       "credit card elimination loan                                        0.00\n",
       "Home efficiency improvement loan                                    0.00\n",
       "Pool                                                                0.00\n",
       "Debt Consolidation NY                                               0.00\n",
       "Mama needs a nursery                                                0.00\n",
       "car loan                                                            0.00\n",
       "Home Improvements and CC refinancing                                0.00\n",
       "Lot Loan                                                            0.00\n",
       "My debt consolidation                                               0.00\n",
       "myloan                                                              0.00\n",
       "Loan - One Payment                                                  0.00\n",
       "1999 Suzuki GSXR 600                                                0.00\n",
       "Personal Training Business Opportunity                              0.00\n",
       "Credit Card Refi Loan                                               0.00\n",
       "bills paid                                                          0.00\n",
       "red leaves                                                          0.00\n",
       "SAVING HELP                                                         0.00\n",
       "In need of short term help!                                         0.00\n",
       "Green                                                               0.00\n",
       "My Wedding                                                          0.00\n",
       "Mike's Madone                                                       0.00\n",
       "My Debt Consolidation 2013                                          0.00\n",
       "my dream                                                            0.00\n",
       "cleaning up                                                         0.00\n",
       "Refinance LC loan                                                   0.00\n",
       "Vinyl Fencing                                                       0.00\n",
       "CC consolidation                                                    0.00\n",
       "Consolidating debt @ lower interest rate                            0.00\n",
       "Debt pay off                                                        0.00\n",
       "debt free soon                                                      0.00\n",
       "Business Debt consolidation                                         0.00\n",
       "Dept Reduction                                                      0.00\n",
       "Fix debt, finish culinary arts degree                               0.00\n",
       "DG Wedding                                                          0.00\n",
       "Debt Con                                                            0.00\n",
       "Dad's Loan                                                          0.00\n",
       "payoff of higher interest loan                                      0.00\n",
       "consoidation loan                                                   0.00\n",
       "KG AMEX                                                             0.00\n",
       "Aly Consolidation Loan                                              0.00\n",
       "Pay All                                                             0.00\n",
       "Motor Loan                                                          0.00\n",
       "Vehicle                                                             0.00\n",
       "Our Loan                                                            0.00\n",
       "no more credit cards                                                0.00\n",
       "Used Car, responsible individual                                    0.00\n",
       "Loan for Freedom                                                    0.00\n",
       "buy car, consolidate debt, cash for xmas                            0.00\n",
       "CONSOLE                                                             0.00\n",
       "2005 Honda Trike                                                    0.00\n",
       "Purpose is to pay federal income taxes                              0.00\n",
       "Pay down higher rate credit card balance                            0.00\n",
       "Car repair                                                          0.00\n",
       "CCElimination                                                       0.00\n",
       "Rolling up my existing loans                                        0.00\n",
       "Credita Card Payoff                                                 0.00\n",
       "Pay me off!                                                         0.00\n",
       "Debt consolidation fast                                             0.00\n",
       "basement repair                                                     0.00\n",
       "Dream Loan                                                          0.00\n",
       "harley                                                              0.00\n",
       "Cheaper living                                                      0.00\n",
       "card payoff                                                         0.00\n",
       "pay bills                                                           0.00\n",
       "Gm Flexcard                                                         0.00\n",
       "Emergency Fund for October/November                                 0.00\n",
       "Pay off the credit card                                             0.00\n",
       "KATHY                                                               0.00\n",
       "Credit Refinance                                                    0.00\n",
       "Credit cards  refinance                                             0.00\n",
       "Dental                                                              0.00\n",
       "new a/c                                                             0.00\n",
       "Debt Elimination and Refinance Loan                                 0.00\n",
       "releif                                                              0.00\n",
       "Fix-up old home                                                     0.00\n",
       "Weight off your shoulder                                            0.00\n",
       "credit_card Loan                                                    0.00\n",
       "Double Bass                                                         0.00\n",
       "Pay 3 credit cards                                                  0.00\n",
       "CC refinancing                                                      0.00\n",
       "cc refinance                                                        0.00\n",
       "Payoff BofA Card                                                    0.00\n",
       "Family Farm needs to buy seed, etc.                                 0.00\n",
       "getoutofdebt                                                        0.00\n",
       "med loan                                                            0.00\n",
       "HOME IMPROVEMENT                                                    0.00\n",
       "Debt Free Please!                                                   0.00\n",
       "My Consolidation                                                    0.00\n",
       "Transformers                                                        0.00\n",
       "Get out of credit debt                                              0.00\n",
       "Loan Payments                                                       0.00\n",
       "Window Loan                                                         0.00\n",
       "the loan                                                            0.00\n",
       "Business and consolidation                                          0.00\n",
       "One Payment                                                         0.00\n",
       "REPAYMENT                                                           0.00\n",
       "A New Life                                                          0.00\n",
       "debt consilidation and pay off                                      0.00\n",
       "THE NEW BATHROOM                                                    0.00\n",
       "Business Starter                                                    0.00\n",
       "credit card & car loan payoff                                       0.00\n",
       "Credit Card Debt Payoff                                             0.00\n",
       "My Classic Motor Home                                               0.00\n",
       "No More                                                             0.00\n",
       "Relocation Loan                                                     0.00\n",
       "PeaceOfMind                                                         0.00\n",
       "Pay off CC for good                                                 0.00\n",
       "Personal Consolidation                                              0.00\n",
       "Payoff Exist Loan and All Debt                                      0.00\n",
       "Credit Debt                                                         0.00\n",
       "Good advice pays off                                                0.00\n",
       "My Horrible, No, Good, Very Bad Debt                                0.00\n",
       "Med Expens                                                          0.00\n",
       "RebHar                                                              0.00\n",
       "need to reduce credit card interest rate                            0.00\n",
       "Pay off Hospital Bills                                              0.00\n",
       "life improvment loan                                                0.00\n",
       "Dept Consol                                                         0.00\n",
       "saviour                                                             0.00\n",
       "credit card/home improvement                                        0.00\n",
       "Discover                                                            0.00\n",
       "Second Chance                                                       0.00\n",
       "Paying off those credit cards FOR GOOD!                             0.00\n",
       "A little help needed                                                0.00\n",
       "debt_consolidation                                                  0.00\n",
       "Debt Consolitdation                                                 0.00\n",
       "Finish my house                                                     0.00\n",
       "Great deal on home improvements                                     0.00\n",
       "Consolidation Debt                                                  0.00\n",
       "INTEREST REDUCTION                                                  0.00\n",
       "Pay off moving expenses! Soon debt-free!                            0.00\n",
       "Buissness                                                           0.00\n",
       "consoildation                                                       0.00\n",
       "bobcat                                                              0.00\n",
       "Auto Loan                                                           0.00\n",
       "Debt Reductions                                                     0.00\n",
       "Deck & Porch Loan                                                   0.00\n",
       "smarter future                                                      0.00\n",
       "savemoney                                                           0.00\n",
       "credit card debt                                                    0.00\n",
       "Debt Consoldation                                                   0.00\n",
       "Kitchen improvement                                                 0.00\n",
       "reconciling debt                                                    0.00\n",
       "Looking to condense and consolidate                                 0.00\n",
       "Easy Pay                                                            0.00\n",
       "flooring                                                            0.00\n",
       "Recreational Family Purchase                                        0.00\n",
       "Ideal                                                               0.00\n",
       "Gun Purchase                                                        0.00\n",
       "alisa                                                               0.00\n",
       "ezpay                                                               0.00\n",
       "Relief                                                              0.00\n",
       "Consolidate my credit cards                                         0.00\n",
       "Daughter's wedding                                                  0.00\n",
       "Repair                                                              0.00\n",
       "Credit consolidation                                                0.00\n",
       "One step closer to a home!!!                                        0.00\n",
       "A loan to improve my life                                           0.00\n",
       "breathing room                                                      0.00\n",
       "Credit Card Pay off                                                 0.00\n",
       "Credit Card Relief                                                  0.00\n",
       "January 23, 2010                                                    0.00\n",
       "Lending Club2                                                       0.00\n",
       "Consolidation Loan Request                                          0.00\n",
       "CREDIT CARD PAYOFF                                                  0.00\n",
       "Home Improvemet                                                     0.00\n",
       "Bed                                                                 0.00\n",
       "Business Capital                                                    0.00\n",
       "Debt freedom                                                        0.00\n",
       "Paying off my credit cards                                          0.00\n",
       "billpay                                                             0.00\n",
       "creditcard payoff                                                   0.00\n",
       "6k loan                                                             0.00\n",
       "My final step to financial independance                             0.00\n",
       "IRS                                                                 0.00\n",
       "black bike                                                          0.00\n",
       "Personal Stimulus Package                                           0.00\n",
       "Consolidating bills                                                 0.00\n",
       "401-k payoff                                                        0.00\n",
       "Consolodator                                                        0.00\n",
       "Debt Consolidtion                                                   0.00\n",
       "Debt and Dental Consolidation Loan                                  0.00\n",
       "pay discover off                                                    0.00\n",
       "loan number 1                                                       0.00\n",
       "LOAN RE-PAYMENT                                                     0.00\n",
       "Loan for RN to BSN education                                        0.00\n",
       "RS 777 PTL                                                          0.00\n",
       "Medical                                                             0.00\n",
       "Small business  Loan                                                0.00\n",
       "Car Payoff                                                          0.00\n",
       "Graduation                                                          0.00\n",
       "Debt Consolidaton                                                   0.00\n",
       "Want to pay off high interest credit card!                          0.00\n",
       "Debt and Tax consolidation                                          0.00\n",
       "Debt Consolidation/Home Repairs                                     0.00\n",
       "Bridge                                                              0.00\n",
       "Consolidate Car Loans and Credit Cards                              0.00\n",
       "Help with paying off my credit cards                                0.00\n",
       "my debt consolidation loan                                          0.00\n",
       "Zero Debt                                                           0.00\n",
       "2013                                                                0.00\n",
       "Wedding expenses                                                    0.00\n",
       "Pay off credit card with LC's lower rate                            0.00\n",
       "personal                                                            0.00\n",
       "Home responsibilities                                               0.00\n",
       "Debt consoliation                                                   0.00\n",
       "Financially Free Loan                                               0.00\n",
       "Golf                                                                0.00\n",
       "Paying off credit cards                                             0.00\n",
       "debt consolidtion                                                   0.00\n",
       "Proven real estate investor needs funds                             0.00\n",
       "Once and for all...!                                                0.00\n",
       "Clean-up loan                                                       0.00\n",
       "refinance credit card                                               0.00\n",
       "LiveDebtFree4Me                                                     0.00\n",
       "Pay my bills                                                        0.00\n",
       "Franchise Aquistion                                                 0.00\n",
       "Get ahead Loan                                                      0.00\n",
       "debt cancilation                                                    0.00\n",
       "Debt Consolodation- Much needed!                                    0.00\n",
       "consol                                                              0.00\n",
       "card consolidation                                                  0.00\n",
       "Home improvement project                                            0.00\n",
       "help me move back home                                              0.00\n",
       "CoPay-Off                                                           0.00\n",
       "Light                                                               0.00\n",
       "debt consolodation                                                  0.00\n",
       "Bmw                                                                 0.00\n",
       "Secure Borrower                                                     0.00\n",
       "Family Medical                                                      0.00\n",
       " Wedding Loan- Sudden Budget Shortfall                              0.00\n",
       "solo                                                                0.00\n",
       "consolidating payments                                              0.00\n",
       "Relief Loan                                                         0.00\n",
       "Credit debt refi                                                    0.00\n",
       "Bill                                                                0.00\n",
       "Credit cards                                                        0.00\n",
       "Credit Card payoff                                                  0.00\n",
       "3 season room andbathroom                                           0.00\n",
       "amazing                                                             0.00\n",
       "Home Down Payment Assistance                                        0.00\n",
       "Independence                                                        0.00\n",
       "Personal loan consolidation                                         0.00\n",
       "You are better than the bank!                                       0.00\n",
       "Debt Consolodation                                                  0.00\n",
       "Credit Card Consolodation                                           0.00\n",
       "Totally Debt Free                                                   0.00\n",
       "vacation loan                                                       0.00\n",
       "consolidate1                                                        0.00\n",
       "Necessary Money                                                     0.00\n",
       "Reduction                                                           0.00\n",
       "reorganizing                                                        0.00\n",
       "Credit Card Killer                                                  0.00\n",
       "travel                                                              0.00\n",
       "Pay Off Credit Card- Lower rate                                     0.00\n",
       "Invesment                                                           0.00\n",
       "Helping Hands                                                       0.00\n",
       "Future                                                              0.00\n",
       "Repair Debt                                                         0.00\n",
       "Pay off credit cards, &  other debt                                 0.00\n",
       "Personal Debt Free Loan                                             0.00\n",
       "Relocation                                                          0.00\n",
       "CC Freedom                                                          0.00\n",
       "NEW WATER HEATER ETC.                                               0.00\n",
       "consolidatoin                                                       0.00\n",
       "Working Class Hero Stimulus                                         0.00\n",
       "better home loan                                                    0.00\n",
       "My First Lending club loan                                          0.00\n",
       "Combine                                                             0.00\n",
       "Pay off debt ( by force! )                                          0.00\n",
       "Debt Consilidation                                                  0.00\n",
       "House improvement                                                   0.00\n",
       "Reduce Monthly expenses                                             0.00\n",
       "credit cards conolidation                                           0.00\n",
       "2013 Debt Consolidation                                             0.00\n",
       "Debt Free in 5                                                      0.00\n",
       "Starting Over                                                       0.00\n",
       "House needs a little help                                           0.00\n",
       "Making things right                                                 0.00\n",
       "Pay off bills!                                                      0.00\n",
       "consolidate debt                                                    0.00\n",
       "LifeLC                                                              0.00\n",
       "2013 MAY CC PAYOFF                                                  0.00\n",
       "Small Loan                                                          0.00\n",
       "fresh start                                                         0.00\n",
       "taxloan                                                             0.00\n",
       "future freedom                                                      0.00\n",
       "CC debt                                                             0.00\n",
       "Baseball                                                            0.00\n",
       "debt consolidate tekm                                               0.00\n",
       "semi truck                                                          0.00\n",
       "Product Categories Expansion                                        0.00\n",
       "For Extra Liquidity After Refinance                                 0.00\n",
       "Dept consolidation                                                  0.00\n",
       "Elective surgery                                                    0.00\n",
       "freedom loan                                                        0.00\n",
       "remodel                                                             0.00\n",
       "My new Swimming Pool                                                0.00\n",
       "Loan 2013                                                           0.00\n",
       "get out of debt                                                     0.00\n",
       "Business 1                                                          0.00\n",
       "COnsolidate                                                         0.00\n",
       "new                                                                 0.00\n",
       "Persinnal                                                           0.00\n",
       "Engagement Ring                                                     0.00\n",
       "Boat                                                                0.00\n",
       "Home Improvement-1                                                  0.00\n",
       "Payable to me                                                       0.00\n",
       "Get rid of cc debt                                                  0.00\n",
       "Expenses for a Life Event                                           0.00\n",
       "VW                                                                  0.00\n",
       "First step on road to PhD!                                          0.00\n",
       "Bill pay loan                                                       0.00\n",
       "Italy                                                               0.00\n",
       "worry / relief                                                      0.00\n",
       "Funding                                                             0.00\n",
       "payoff2                                                             0.00\n",
       "Angie's Loan                                                        0.00\n",
       "Pay off Divorce Settlement                                          0.00\n",
       "debt be gone                                                        0.00\n",
       "Debt Cons                                                           0.00\n",
       "payoff card dept                                                    0.00\n",
       "To be debt Free!!                                                   0.00\n",
       "Pay off high interest credit cards                                  0.00\n",
       "Finaly catching up.                                                 0.00\n",
       "Legal Services                                                      0.00\n",
       "Consolidayion                                                       0.00\n",
       "Pay Bills                                                           0.00\n",
       "Jeremy's Loan                                                       0.00\n",
       "pay bill                                                            0.00\n",
       "Pay off Credit Cards                                                0.00\n",
       "HeliosCantra                                                        0.00\n",
       "Debt Removal                                                        0.00\n",
       "chrysler                                                            0.00\n",
       "Start Saving                                                        0.00\n",
       "Consolidation & Wedding Loan                                        0.00\n",
       "first loan                                                          0.00\n",
       "Saving                                                              0.00\n",
       "Personal Auto Loan                                                  0.00\n",
       "Debt Killer                                                         0.00\n",
       "Personal Loan to refinance credit card                              0.00\n",
       "Pay off debt!                                                       0.00\n",
       "Project pay down and get a car                                      0.00\n",
       "Consolidate All                                                     0.00\n",
       "getting rid of dumb credit cards                                    0.00\n",
       "No More Bills                                                       0.00\n",
       "medical loan                                                        0.00\n",
       "needed help                                                         0.00\n",
       "Debt  Consolidation                                                 0.00\n",
       "CC ReFI                                                             0.00\n",
       "Electricial Upgrade                                                 0.00\n",
       "Young Professional Seeking to Dig out of College Credit Card Debt   0.00\n",
       "Refinance at a lower rate                                           0.00\n",
       "10 vs 1                                                             0.00\n",
       "closing & realtor fees                                              0.00\n",
       "Cap One Pay Off                                                     0.00\n",
       "Seeing the light                                                    0.00\n",
       "You Helped Me Greatly                                               0.00\n",
       "All in One                                                          0.00\n",
       "pay Lowes                                                           0.00\n",
       "DCLoan                                                              0.00\n",
       "Credit card bust                                                    0.00\n",
       "Elimination Now                                                     0.00\n",
       "Blessed                                                             0.00\n",
       "DEBT CONSULATION                                                    0.00\n",
       "Finishing home improvements                                         0.00\n",
       "2005 harley                                                         0.00\n",
       "thanksgiving                                                        0.00\n",
       "One debt                                                            0.00\n",
       "major purchase                                                      0.00\n",
       "debt help                                                           0.00\n",
       "Remodel pool                                                        0.00\n",
       "renewable_energy                                                    0.00\n",
       "NEED HELP                                                           0.00\n",
       "Level 22                                                            0.00\n",
       "DCfree                                                              0.00\n",
       "Rebuilding Credit, so soon I can buy a house.                       0.00\n",
       "Credit Card Debt Consolidation                                      0.00\n",
       "1 Easy Payment at Low Rate                                          0.00\n",
       "Credit good-bye                                                     0.00\n",
       "Peace of Mind                                                       0.00\n",
       "on the road to clear                                                0.00\n",
       "allinone                                                            0.00\n",
       "home purchase down payment                                          0.00\n",
       "family vacation                                                     0.00\n",
       "loan                                                                0.00\n",
       "Consol                                                              0.00\n",
       "New Roof                                                            0.00\n",
       "Credit Card refinancing                                             0.00\n",
       "LendingClub                                                         0.00\n",
       "Consolidate Credit Cards                                            0.00\n",
       "CC Debt                                                             0.00\n",
       "Debt elimination                                                    0.00\n",
       "Archie's loan                                                       0.00\n",
       "Pay off cards                                                       0.00\n",
       "bustin' free                                                        0.00\n",
       "Break Away                                                          0.00\n",
       "REFIN                                                               0.00\n",
       "Business Expansion - Training Program                               0.00\n",
       "Short Term Loan                                                     0.00\n",
       "The Loan                                                            0.00\n",
       "My 5-year plan to being debt free!                                  0.00\n",
       "CCC_Loan                                                            0.00\n",
       "Smart Choice                                                        0.00\n",
       "basement remodel                                                    0.00\n",
       "BusinessFunding                                                     0.00\n",
       "Home Improvement Pool                                               0.00\n",
       "debtcombination                                                     0.00\n",
       "CC                                                                  0.00\n",
       "Debt Free Future                                                    0.00\n",
       "Paying Off Credit Cards                                             0.00\n",
       "debt consolidate                                                    0.00\n",
       "Hope for the future                                                 0.00\n",
       "Home Improvement - Flooring                                         0.00\n",
       "Start Fresh                                                         0.00\n",
       "debit consolidation                                                 0.00\n",
       "Debt                                                                0.00\n",
       "Payoff Debt                                                         0.00\n",
       "no credit card debt                                                 0.00\n",
       "CC Debt                                                             0.00\n",
       "Pay off personal loan                                               0.00\n",
       "NEWPOOL                                                             0.00\n",
       "Being Smart with my Finances                                        0.00\n",
       "Credit2013                                                          0.00\n",
       "Debt Freedom!                                                       0.00\n",
       "Papa                                                                0.00\n",
       "Reduce Interest Rate                                                0.00\n",
       "LENDING CLUB                                                        0.00\n",
       "emergency loan                                                      0.00\n",
       "New Stert                                                           0.00\n",
       "Major Home Purchases                                                0.00\n",
       "Backyard Remodel                                                    0.00\n",
       "option 1                                                            0.00\n",
       "Loan consolidation                                                  0.00\n",
       "personal2                                                           0.00\n",
       "CREDIT CARD/MEDICAL/STARTUP BUSINESS/                               0.00\n",
       "Car expenses                                                        0.00\n",
       "Plan Your Finance 2013                                              0.00\n",
       "leave mistakes behind                                               0.00\n",
       "Car and consolidation                                               0.00\n",
       "Pay Off Credit Cards                                                0.00\n",
       "Just to get through the month                                       0.00\n",
       "True Love Wedding                                                   0.00\n",
       "refinancecredit                                                     0.00\n",
       "onepayment                                                          0.00\n",
       "helping hand                                                        0.00\n",
       "Pay off those credit cards!                                         0.00\n",
       "Green loan for personal purpose                                     0.00\n",
       "Motorcycle                                                          0.00\n",
       "Home Build                                                          0.00\n",
       "Consolidation for Savings                                           0.00\n",
       "Pay My Bills Off                                                    0.00\n",
       "Wise Investment                                                     0.00\n",
       "Debt Conslsd                                                        0.00\n",
       "Debtconsolidation2012                                               0.00\n",
       "Relaxation oasis                                                    0.00\n",
       "Auto                                                                0.00\n",
       "debt consolidaton                                                   0.00\n",
       "Bike                                                                0.00\n",
       "Road to debt free                                                   0.00\n",
       "tax loan                                                            0.00\n",
       "new start                                                           0.00\n",
       "Payoff credit cards                                                 0.00\n",
       "Home/Debt Improvement                                               0.00\n",
       "Damon Intruder RV                                                   0.00\n",
       "Lower Rate Refinance                                                0.00\n",
       "home settlement                                                     0.00\n",
       "generalcard                                                         0.00\n",
       "debt consolidation / homeimprove                                    0.00\n",
       "Pay off High interest/Start looking at home purchase!               0.00\n",
       "Hm Improv                                                           0.00\n",
       "Payoffcards                                                         0.00\n",
       "Medical Bill/Debt Consolidation                                     0.00\n",
       "loan_1                                                              0.00\n",
       "Need a change of residence ASAP                                     0.00\n",
       "MY CONSOLIDATION                                                    0.00\n",
       "Revival Loan                                                        0.00\n",
       "Life Goal: Debt Free                                                0.00\n",
       "Payoff Debts                                                        0.00\n",
       "Credit Pay off                                                      0.00\n",
       "Paying of Credit Cards in NYC                                       0.00\n",
       "Semper Fi                                                           0.00\n",
       "Down with high interest debt                                        0.00\n",
       "pay off remaining car note and refurnish home                       0.00\n",
       "Bill pay                                                            0.00\n",
       "Repay Loans                                                         0.00\n",
       "Life Saver                                                          0.00\n",
       "Credit Card Repayment                                               0.00\n",
       " pay off credit cards and car loan                                  0.00\n",
       "Tax loan                                                            0.00\n",
       "debt consolidation, credit cards                                    0.00\n",
       "Financial Success                                                   0.00\n",
       "BMW CAR LOAN                                                        0.00\n",
       "get rid of debt                                                     0.00\n",
       "New roof and insulation                                             0.00\n",
       "Christmas loan                                                      0.00\n",
       "Ducati                                                              0.00\n",
       "Light at the End of the Tunnel                                      0.00\n",
       "Debt Consolidation - 8/1/12                                         0.00\n",
       "Refi Personal Loan                                                  0.00\n",
       "debt conslidation                                                   0.00\n",
       "xmas loan                                                           0.00\n",
       "Lower payments                                                      0.00\n",
       "DEBT REDUCTION LOAN                                                 0.00\n",
       "Combination                                                         0.00\n",
       "auto finance                                                        0.00\n",
       "personal loan consolidation                                         0.00\n",
       "Go Away Credit Cards                                                0.00\n",
       "Debt refinancing                                                    0.00\n",
       "Setting up my business                                              0.00\n",
       "RV Purchase                                                         0.00\n",
       "Website                                                             0.00\n",
       "NONE                                                                0.00\n",
       "Consolidation of High Interest Cards                                0.00\n",
       "bills                                                               0.00\n",
       "debt cosolidation                                                   0.00\n",
       "cc pay off                                                          0.00\n",
       "Plastic payoff                                                      0.00\n",
       "Stop Digging                                                        0.00\n",
       "Payoffdiscover                                                      0.00\n",
       "Credit card debt Payoff                                             0.00\n",
       "Cards                                                               0.00\n",
       "My Dream                                                            0.00\n",
       "Save Me                                                             0.00\n",
       "Payoff of 1 credit card with a lower rat                            0.00\n",
       "Removing the anchor around my neck.                                 0.00\n",
       "CreditCardLoan                                                      0.00\n",
       "Barn                                                                0.00\n",
       "Car Loan                                                            0.00\n",
       "My CORE Loan                                                        0.00\n",
       "PoolRehab                                                           0.00\n",
       "Smart Plan - 100% Debt-Free in Three Yrs                            0.00\n",
       "mfdloan2                                                            0.00\n",
       "Patio                                                               0.00\n",
       "New Beginning                                                       0.00\n",
       "Personal debt consolidation                                         0.00\n",
       "Restaurant Equipment                                                0.00\n",
       "Credit Reset                                                        0.00\n",
       "Credit Card Payoff/Consolidate                                      0.00\n",
       "Adding half bath and two bedrooms                                   0.00\n",
       "Consolidation for our future                                        0.00\n",
       "NEW BUSINESS                                                        0.00\n",
       "Credit Card Payoff Loan                                             0.00\n",
       "loan2012                                                            0.00\n",
       "GSITF:Capitlistic-Socially conscise $$$                             0.00\n",
       "Cnsolidation                                                        0.00\n",
       "connie1958                                                          0.00\n",
       "Please help me pay high APR% card off.                              0.00\n",
       "My Personal Loan                                                    0.00\n",
       "3 year plan                                                         0.00\n",
       "Debt Consolidation 2016                                             0.00\n",
       "Credit Card Payoff                                                  0.00\n",
       "Debt Elimination Plan                                               0.00\n",
       "Interest                                                            0.00\n",
       "short term loan                                                     0.00\n",
       "Credit card refi                                                    0.00\n",
       "Personal Consolidation Loan                                         0.00\n",
       "2012Consolidation                                                   0.00\n",
       "Inventory Purchase Loan                                             0.00\n",
       "Credit Cards Pay Off                                                0.00\n",
       "credit card bills                                                   0.00\n",
       "Opportunity                                                         0.00\n",
       "Debt Consolidation/Wedding                                          0.00\n",
       "Paying Things off                                                   0.00\n",
       "Money Well Spent                                                    0.00\n",
       " debt                                                               0.00\n",
       "Credit Consolidation!                                               0.00\n",
       "Pay it off                                                          0.00\n",
       "DEBT Consolidation and Home Renovation                              0.00\n",
       "Get out of debt faster                                              0.00\n",
       "Consolidate Cards                                                   0.00\n",
       "Credit Card debt                                                    0.00\n",
       "CATCH UP                                                            0.00\n",
       "Refinance/Consolidate Debt                                          0.00\n",
       "lower payments                                                      0.00\n",
       "Consolidated                                                        0.00\n",
       "Three Year Loan                                                     0.00\n",
       "home tax loan                                                       0.00\n",
       "Dental loan                                                         0.00\n",
       "Credit card refinance                                               0.00\n",
       "Short Term Credit Card Financing                                    0.00\n",
       "Payments                                                            0.00\n",
       "Moving/New Job                                                      0.00\n",
       "Arts Personal Loan                                                  0.00\n",
       "In need of car                                                      0.00\n",
       "Credit card Consolidation                                           0.00\n",
       "ccards                                                              0.00\n",
       "Loan for Debt Consolidation                                         0.00\n",
       "Credit Cards Consolidations                                         0.00\n",
       "consolidation/home repairs                                          0.00\n",
       "Credit Cards                                                        0.00\n",
       "pay down                                                            0.00\n",
       "Medical Debt Loan                                                   0.00\n",
       "No More Credit Cards                                                0.00\n",
       "dedt consolidation                                                  0.00\n",
       "Way of Life Changer                                                 0.00\n",
       "cash                                                                0.00\n",
       "Data consolidation                                                  0.00\n",
       "peace of mind                                                       0.00\n",
       "Plan to pay                                                         0.00\n",
       "newmexico                                                           0.00\n",
       "pay credit cards and son's education                                0.00\n",
       "Debt Cons.                                                          0.00\n",
       "wonderful loan                                                      0.00\n",
       "Work Car Loan                                                       0.00\n",
       "red sox                                                             0.00\n",
       "Small_Business Loan                                                 0.00\n",
       "bill payoffs                                                        0.00\n",
       "Home repair Loan                                                    0.00\n",
       "Requesting Credit Consolidation loan                                0.00\n",
       "New A/C                                                             0.00\n",
       "Credit card debt consolidation                                      0.00\n",
       "card refinance                                                      0.00\n",
       "lesseons learned                                                    0.00\n",
       "LowerRate                                                           0.00\n",
       "Home Improvement and Landscaping                                    0.00\n",
       "Last little push for our wedding                                    0.00\n",
       "floors                                                              0.00\n",
       "CONSOLIDATION LOAN                                                  0.00\n",
       "Home consolidation                                                  0.00\n",
       "rsv motor trike                                                     0.00\n",
       "consolodation                                                       0.00\n",
       "Credit Cards Refinance                                              0.00\n",
       "creditcardpayoff                                                    0.00\n",
       "Back on Track                                                       0.00\n",
       "Consolidation Wrap Up                                               0.00\n",
       "Freedom From Credit Cards                                           0.00\n",
       "Debt Conso                                                          0.00\n",
       "freedom1                                                            0.00\n",
       "Repair roof                                                         0.00\n",
       "Kitchen Remodel                                                     0.00\n",
       "Home loan                                                           0.00\n",
       "credit card                                                         0.00\n",
       "Credit Card consolidation                                           0.00\n",
       "CREDIT HELP                                                         0.00\n",
       "Engineer looking to consolidate debt                                0.00\n",
       "IRS                                                                 0.00\n",
       "Home Improvements                                                   0.00\n",
       "Debt Cosolidation                                                   0.00\n",
       "Finish fixing my house                                              0.00\n",
       "DON'T GET MAD, GET EVEN LOAN                                        0.00\n",
       "Paying Off My \"Broke Grad Student\" Debt                             0.00\n",
       "On My Way to Debt Freedom                                           0.00\n",
       "Debt remover                                                        0.00\n",
       "Paythecards                                                         0.00\n",
       "SRAMV                                                               0.00\n",
       "Team Player                                                         0.00\n",
       "Bill consolidation and home upgrades                                0.00\n",
       "Close out Credit Card accounts                                      0.00\n",
       "moving loan                                                         0.00\n",
       "Need Cash to Purchase a House                                       0.00\n",
       "Rental Property purchase                                            0.00\n",
       "help                                                                0.00\n",
       "BILL CONSOLIDATION                                                  0.00\n",
       "debt con                                                            0.00\n",
       "Small Business Expanding                                            0.00\n",
       "loansavior                                                          0.00\n",
       "payoff credit cards                                                 0.00\n",
       "Refreshing Start                                                    0.00\n",
       "Personal Loan for Consolidation                                     0.00\n",
       "Future Goals                                                        0.00\n",
       "Down to Zero                                                        0.00\n",
       "Investment Personal Loan                                            0.00\n",
       "Stress Relief                                                       0.00\n",
       "A New Start                                                         0.00\n",
       "Dent Consolidation                                                  0.00\n",
       "Two Credit Cards and a Couch                                        0.00\n",
       "Himprovement                                                        0.00\n",
       "Camper                                                              0.00\n",
       "September 2012                                                      0.00\n",
       "Reserve                                                             0.00\n",
       "Home_Improvement Loan                                               0.00\n",
       "ktm                                                                 0.00\n",
       "DEBT$                                                               0.00\n",
       "Much Needed Home Improvement                                        0.00\n",
       "Appliances                                                          0.00\n",
       "Lower Interest -May 2013                                            0.00\n",
       "My loan today                                                       0.00\n",
       "Refi                                                                0.00\n",
       "Consolidated Lending Club Loan Plus 1                               0.00\n",
       "College Summer Semester                                             0.00\n",
       "Credit Card Reconcile                                               0.00\n",
       "REFI CC Debt - QUICK PAYOFF                                         0.00\n",
       "Extra Innings                                                       0.00\n",
       "AJ Fixed Loan                                                       0.00\n",
       "Business loan                                                       0.00\n",
       "Dan Personal                                                        0.00\n",
       "Shadow vtx                                                          0.00\n",
       "powder                                                              0.00\n",
       "Start a homemade pastry business                                    0.00\n",
       "copelands debt plan                                                 0.00\n",
       "credit debt                                                         0.00\n",
       "my home                                                             0.00\n",
       "LowerMyPayments                                                     0.00\n",
       "YK Consolidation                                                    0.00\n",
       "Advantageous Capital Allocation                                     0.00\n",
       "car finance                                                         0.00\n",
       "Credit Card Assassin                                                0.00\n",
       "Engine rebuild                                                      0.00\n",
       "pay debts                                                           0.00\n",
       "Help Me Help You Loan                                               0.00\n",
       "Dentist                                                             0.00\n",
       "p loan                                                              0.00\n",
       "Consolidation loan                                                  0.00\n",
       "Credit Card Debt Pay-Off                                            0.00\n",
       "wedding fund                                                        0.00\n",
       "CREDIT CARDCONSOLIDATE                                              0.00\n",
       "Home Repair Loan                                                    0.00\n",
       "Reduce debt loan                                                    0.00\n",
       "The Remodel that Keeps on Giving!                                   0.00\n",
       "Home Project                                                        0.00\n",
       "Consolid. credit cards & small loan                                 0.00\n",
       "Helen                                                               0.00\n",
       "Wedding                                                             0.00\n",
       "SW Refinance                                                        0.00\n",
       "Backyard waterfall and koi pond                                     0.00\n",
       "Consolidation 1                                                     0.00\n",
       "high intrest laon payoff                                            0.00\n",
       "Essential                                                           0.00\n",
       "Dept Loan                                                           0.00\n",
       "consolidate my bills                                                0.00\n",
       "start up business loan                                              0.00\n",
       "Credit Cards and Loan Consolidation                                 0.00\n",
       "debt consolidatiion                                                 0.00\n",
       "Pay the Bills                                                       0.00\n",
       "HAPPY-GO-LUCKY                                                      0.00\n",
       "africa                                                              0.00\n",
       "Home emprovement                                                    0.00\n",
       "house payment                                                       0.00\n",
       "Home Improvement (Basement)                                         0.00\n",
       "credit card refinace                                                0.00\n",
       "fix roof and septic system                                          0.00\n",
       "debt payoff                                                         0.00\n",
       "CITIDISCCONSOLIDATION                                               0.00\n",
       "Small Business                                                      0.00\n",
       "Expense Loan                                                        0.00\n",
       "Eliminate Credit Card Debt                                          0.00\n",
       " Consolidation Loan                                                 0.00\n",
       "Debt clear                                                          0.00\n",
       "Short Term Investment                                               0.00\n",
       "Debt refinance                                                      0.00\n",
       "Jason's plan to start right                                         0.00\n",
       "Loan for Me                                                         0.00\n",
       "Debt Consol                                                         0.00\n",
       "Credit Card Free To Success                                         0.00\n",
       "CC Loan                                                             0.00\n",
       "Debt Away                                                           0.00\n",
       "Portugal Vacation 2012                                              0.00\n",
       " PAYMENT                                                            0.00\n",
       "HVAC Purchase/Debt Consolidation                                    0.00\n",
       "Help!                                                               0.00\n",
       "Free from debt                                                      0.00\n",
       "pay cards                                                           0.00\n",
       "Lending Club Loan                                                   0.00\n",
       "Seeking Liquidity Before Bonus Season                               0.00\n",
       "Start of Better Future                                              0.00\n",
       "Happy House                                                         0.00\n",
       "CC delete                                                           0.00\n",
       "Pay Credit Cards                                                    0.00\n",
       "Personal Debt Payoff                                                0.00\n",
       "payoff bills                                                        0.00\n",
       "Loan to Eliminate Higher Interest Debt                              0.00\n",
       "New Life                                                            0.00\n",
       "Consolidate high interest credit debt                               0.00\n",
       "Summer 2010 credit card refinance                                   0.00\n",
       "Credit Card Payoffs                                                 0.00\n",
       "PAY CREDIT CARDS                                                    0.00\n",
       "rid of cc debt                                                      0.00\n",
       "Paying off totaled car for a newer one                              0.00\n",
       "Getting my Life in Order Consolidation                              0.00\n",
       "Pay off debt before going to school FT                              0.00\n",
       "Credit Card Consolidatiom                                           0.00\n",
       "ProcessConsolidation                                                0.00\n",
       "trike                                                               0.00\n",
       "credit card refinancing                                             0.00\n",
       "Invest in a business with a track record                            0.00\n",
       "debt payments                                                       0.00\n",
       "Name: title, dtype: float64"
      ]
     },
     "execution_count": 54,
     "metadata": {},
     "output_type": "execute_result"
    }
   ],
   "source": [
    "loans['title'].value_counts(normalize=True, dropna=False)"
   ]
  },
  {
   "cell_type": "markdown",
   "metadata": {},
   "source": [
    "Purpose and Title are quite similar so we can drop either one column"
   ]
  },
  {
   "cell_type": "code",
   "execution_count": 55,
   "metadata": {},
   "outputs": [],
   "source": [
    "loans.drop('title', axis=1, inplace=True)"
   ]
  },
  {
   "cell_type": "code",
   "execution_count": null,
   "metadata": {},
   "outputs": [],
   "source": []
  },
  {
   "cell_type": "code",
   "execution_count": null,
   "metadata": {},
   "outputs": [],
   "source": []
  },
  {
   "cell_type": "markdown",
   "metadata": {},
   "source": [
    "#### Zip code and Address state "
   ]
  },
  {
   "cell_type": "code",
   "execution_count": 56,
   "metadata": {},
   "outputs": [
    {
     "data": {
      "text/plain": [
       "count     13583\n",
       "unique      816\n",
       "top       945xx\n",
       "freq        168\n",
       "Name: zip_code, dtype: object"
      ]
     },
     "execution_count": 56,
     "metadata": {},
     "output_type": "execute_result"
    }
   ],
   "source": [
    "loans['zip_code'].describe()"
   ]
  },
  {
   "cell_type": "code",
   "execution_count": 57,
   "metadata": {},
   "outputs": [
    {
     "data": {
      "text/plain": [
       "1929746    NY\n",
       "1056839    AZ\n",
       "44390      NE\n",
       "125418     MD\n",
       "1293336    NY\n",
       "Name: addr_state, dtype: object"
      ]
     },
     "execution_count": 57,
     "metadata": {},
     "output_type": "execute_result"
    }
   ],
   "source": [
    "loans['addr_state'].sample(5)"
   ]
  },
  {
   "cell_type": "code",
   "execution_count": 58,
   "metadata": {},
   "outputs": [
    {
     "data": {
      "text/plain": [
       "50"
      ]
     },
     "execution_count": 58,
     "metadata": {},
     "output_type": "execute_result"
    }
   ],
   "source": [
    "loans['addr_state'].nunique()"
   ]
  },
  {
   "cell_type": "markdown",
   "metadata": {},
   "source": [
    "Zip code and address are quite similar which tells about address of applicant, so we will drop one column with more unique values"
   ]
  },
  {
   "cell_type": "code",
   "execution_count": 59,
   "metadata": {},
   "outputs": [
    {
     "data": {
      "text/plain": [
       "addr_state\n",
       "WY   0.04\n",
       "ID   0.06\n",
       "MT   0.07\n",
       "NH   0.10\n",
       "ME   0.11\n",
       "DC   0.11\n",
       "OR   0.12\n",
       "CO   0.15\n",
       "WA   0.15\n",
       "IL   0.16\n",
       "UT   0.17\n",
       "OK   0.17\n",
       "SC   0.17\n",
       "KY   0.17\n",
       "CT   0.17\n",
       "NM   0.18\n",
       "WV   0.18\n",
       "KS   0.19\n",
       "OH   0.19\n",
       "AR   0.19\n",
       "NJ   0.19\n",
       "MN   0.19\n",
       "RI   0.19\n",
       "AZ   0.19\n",
       "AK   0.19\n",
       "IN   0.20\n",
       "TX   0.20\n",
       "CA   0.20\n",
       "PA   0.20\n",
       "VA   0.20\n",
       "DE   0.21\n",
       "WI   0.21\n",
       "NC   0.22\n",
       "GA   0.22\n",
       "NY   0.22\n",
       "TN   0.22\n",
       "MO   0.22\n",
       "FL   0.22\n",
       "LA   0.23\n",
       "VT   0.23\n",
       "HI   0.23\n",
       "MI   0.24\n",
       "AL   0.24\n",
       "MA   0.24\n",
       "NV   0.25\n",
       "ND   0.25\n",
       "MD   0.26\n",
       "MS   0.29\n",
       "SD   0.30\n",
       "NE   0.36\n",
       "Name: loan_status, dtype: float64"
      ]
     },
     "execution_count": 59,
     "metadata": {},
     "output_type": "execute_result"
    }
   ],
   "source": [
    "loans.groupby('addr_state')['loan_status'].value_counts(normalize=True).loc[:,'Charged Off'].sort_values()"
   ]
  },
  {
   "cell_type": "markdown",
   "metadata": {},
   "source": [
    "MS state having highest charge off rates with 26%"
   ]
  },
  {
   "cell_type": "code",
   "execution_count": 60,
   "metadata": {},
   "outputs": [],
   "source": [
    "loans.drop(labels='zip_code', axis=1, inplace=True)"
   ]
  },
  {
   "cell_type": "code",
   "execution_count": null,
   "metadata": {},
   "outputs": [],
   "source": []
  },
  {
   "cell_type": "markdown",
   "metadata": {},
   "source": [
    "#### Initial list status"
   ]
  },
  {
   "cell_type": "code",
   "execution_count": 61,
   "metadata": {},
   "outputs": [
    {
     "data": {
      "text/plain": [
       "count     13583\n",
       "unique        2\n",
       "top           w\n",
       "freq       7919\n",
       "Name: initial_list_status, dtype: object"
      ]
     },
     "execution_count": 61,
     "metadata": {},
     "output_type": "execute_result"
    }
   ],
   "source": [
    "loans['initial_list_status'].describe()"
   ]
  },
  {
   "cell_type": "code",
   "execution_count": 62,
   "metadata": {},
   "outputs": [
    {
     "data": {
      "image/png": "[encoded data removed]",
      "text/plain": [
       "<Figure size 1080x270 with 2 Axes>"
      ]
     },
     "metadata": {},
     "output_type": "display_data"
    }
   ],
   "source": [
    "plot_var('initial_list_status', 'Initial List Status', continuous=False)"
   ]
  },
  {
   "cell_type": "markdown",
   "metadata": {},
   "source": [
    "Charge off rates for \"w\" and \"f\" status are similar with 20%"
   ]
  },
  {
   "cell_type": "code",
   "execution_count": null,
   "metadata": {},
   "outputs": [],
   "source": []
  },
  {
   "cell_type": "markdown",
   "metadata": {},
   "source": [
    "#### Application type"
   ]
  },
  {
   "cell_type": "code",
   "execution_count": 63,
   "metadata": {},
   "outputs": [
    {
     "data": {
      "text/plain": [
       "Individual   0.98\n",
       "Joint App    0.02\n",
       "Name: application_type, dtype: float64"
      ]
     },
     "execution_count": 63,
     "metadata": {},
     "output_type": "execute_result"
    }
   ],
   "source": [
    "loans['application_type'].value_counts(normalize=True)"
   ]
  },
  {
   "cell_type": "code",
   "execution_count": 64,
   "metadata": {},
   "outputs": [
    {
     "data": {
      "text/plain": [
       "application_type\n",
       "Individual   0.20\n",
       "Joint App    0.29\n",
       "Name: loan_status, dtype: float64"
      ]
     },
     "execution_count": 64,
     "metadata": {},
     "output_type": "execute_result"
    }
   ],
   "source": [
    "loans.groupby('application_type')['loan_status'].value_counts(normalize=True).loc[:,'Charged Off']"
   ]
  },
  {
   "cell_type": "markdown",
   "metadata": {},
   "source": [
    "2% Loan applicants are Joint application types which are having 25% of charge off rates "
   ]
  },
  {
   "cell_type": "code",
   "execution_count": null,
   "metadata": {},
   "outputs": [],
   "source": []
  },
  {
   "cell_type": "markdown",
   "metadata": {},
   "source": [
    "### Analyzing Numerical Data"
   ]
  },
  {
   "cell_type": "markdown",
   "metadata": {},
   "source": [
    "#### Loan amount"
   ]
  },
  {
   "cell_type": "code",
   "execution_count": 65,
   "metadata": {},
   "outputs": [
    {
     "data": {
      "text/plain": [
       "count   13,583.00\n",
       "mean    14,457.96\n",
       "std      8,812.54\n",
       "min        950.00\n",
       "25%      7,800.00\n",
       "50%     12,000.00\n",
       "75%     20,000.00\n",
       "max     40,000.00\n",
       "Name: loan_amnt, dtype: float64"
      ]
     },
     "execution_count": 65,
     "metadata": {},
     "output_type": "execute_result"
    }
   ],
   "source": [
    "loans['loan_amnt'].describe()"
   ]
  },
  {
   "cell_type": "code",
   "execution_count": 66,
   "metadata": {},
   "outputs": [],
   "source": [
    "loans['loan_amnt'] = loans['loan_amnt'].apply(lambda x: np.log10(x+1)) #applying log10 to calculate numerical value"
   ]
  },
  {
   "cell_type": "code",
   "execution_count": 67,
   "metadata": {},
   "outputs": [
    {
     "data": {
      "text/html": [
       "<div>\n",
       "<style scoped>\n",
       "    .dataframe tbody tr th:only-of-type {\n",
       "        vertical-align: middle;\n",
       "    }\n",
       "\n",
       "    .dataframe tbody tr th {\n",
       "        vertical-align: top;\n",
       "    }\n",
       "\n",
       "    .dataframe thead th {\n",
       "        text-align: right;\n",
       "    }\n",
       "</style>\n",
       "<table border=\"1\" class=\"dataframe\">\n",
       "  <thead>\n",
       "    <tr style=\"text-align: right;\">\n",
       "      <th></th>\n",
       "      <th>count</th>\n",
       "      <th>mean</th>\n",
       "      <th>std</th>\n",
       "      <th>min</th>\n",
       "      <th>25%</th>\n",
       "      <th>50%</th>\n",
       "      <th>75%</th>\n",
       "      <th>max</th>\n",
       "    </tr>\n",
       "    <tr>\n",
       "      <th>loan_status</th>\n",
       "      <th></th>\n",
       "      <th></th>\n",
       "      <th></th>\n",
       "      <th></th>\n",
       "      <th></th>\n",
       "      <th></th>\n",
       "      <th></th>\n",
       "      <th></th>\n",
       "    </tr>\n",
       "  </thead>\n",
       "  <tbody>\n",
       "    <tr>\n",
       "      <th>Charged Off</th>\n",
       "      <td>2,738.00</td>\n",
       "      <td>4.12</td>\n",
       "      <td>0.30</td>\n",
       "      <td>3.00</td>\n",
       "      <td>3.95</td>\n",
       "      <td>4.17</td>\n",
       "      <td>4.34</td>\n",
       "      <td>4.60</td>\n",
       "    </tr>\n",
       "    <tr>\n",
       "      <th>Fully Paid</th>\n",
       "      <td>10,845.00</td>\n",
       "      <td>4.06</td>\n",
       "      <td>0.31</td>\n",
       "      <td>2.98</td>\n",
       "      <td>3.87</td>\n",
       "      <td>4.08</td>\n",
       "      <td>4.30</td>\n",
       "      <td>4.60</td>\n",
       "    </tr>\n",
       "  </tbody>\n",
       "</table>\n",
       "</div>"
      ],
      "text/plain": [
       "                count  mean  std  min  25%  50%  75%  max\n",
       "loan_status                                              \n",
       "Charged Off  2,738.00  4.12 0.30 3.00 3.95 4.17 4.34 4.60\n",
       "Fully Paid  10,845.00  4.06 0.31 2.98 3.87 4.08 4.30 4.60"
      ]
     },
     "execution_count": 67,
     "metadata": {},
     "output_type": "execute_result"
    }
   ],
   "source": [
    "loans.groupby('loan_status')['loan_amnt'].describe()"
   ]
  },
  {
   "cell_type": "code",
   "execution_count": null,
   "metadata": {},
   "outputs": [],
   "source": []
  },
  {
   "cell_type": "markdown",
   "metadata": {},
   "source": [
    "#### Interest Rate"
   ]
  },
  {
   "cell_type": "code",
   "execution_count": 68,
   "metadata": {},
   "outputs": [
    {
     "data": {
      "text/plain": [
       "count   13,583.00\n",
       "mean        13.16\n",
       "std          4.76\n",
       "min          5.31\n",
       "25%          9.67\n",
       "50%         12.69\n",
       "75%         15.99\n",
       "max         30.99\n",
       "Name: int_rate, dtype: float64"
      ]
     },
     "execution_count": 68,
     "metadata": {},
     "output_type": "execute_result"
    }
   ],
   "source": [
    "loans['int_rate'].describe()"
   ]
  },
  {
   "cell_type": "code",
   "execution_count": 69,
   "metadata": {},
   "outputs": [
    {
     "data": {
      "text/html": [
       "<div>\n",
       "<style scoped>\n",
       "    .dataframe tbody tr th:only-of-type {\n",
       "        vertical-align: middle;\n",
       "    }\n",
       "\n",
       "    .dataframe tbody tr th {\n",
       "        vertical-align: top;\n",
       "    }\n",
       "\n",
       "    .dataframe thead th {\n",
       "        text-align: right;\n",
       "    }\n",
       "</style>\n",
       "<table border=\"1\" class=\"dataframe\">\n",
       "  <thead>\n",
       "    <tr style=\"text-align: right;\">\n",
       "      <th></th>\n",
       "      <th>count</th>\n",
       "      <th>mean</th>\n",
       "      <th>std</th>\n",
       "      <th>min</th>\n",
       "      <th>25%</th>\n",
       "      <th>50%</th>\n",
       "      <th>75%</th>\n",
       "      <th>max</th>\n",
       "    </tr>\n",
       "    <tr>\n",
       "      <th>loan_status</th>\n",
       "      <th></th>\n",
       "      <th></th>\n",
       "      <th></th>\n",
       "      <th></th>\n",
       "      <th></th>\n",
       "      <th></th>\n",
       "      <th></th>\n",
       "      <th></th>\n",
       "    </tr>\n",
       "  </thead>\n",
       "  <tbody>\n",
       "    <tr>\n",
       "      <th>Charged Off</th>\n",
       "      <td>2,738.00</td>\n",
       "      <td>15.76</td>\n",
       "      <td>4.93</td>\n",
       "      <td>5.31</td>\n",
       "      <td>12.49</td>\n",
       "      <td>15.05</td>\n",
       "      <td>18.97</td>\n",
       "      <td>30.99</td>\n",
       "    </tr>\n",
       "    <tr>\n",
       "      <th>Fully Paid</th>\n",
       "      <td>10,845.00</td>\n",
       "      <td>12.51</td>\n",
       "      <td>4.49</td>\n",
       "      <td>5.31</td>\n",
       "      <td>9.16</td>\n",
       "      <td>11.99</td>\n",
       "      <td>15.05</td>\n",
       "      <td>30.99</td>\n",
       "    </tr>\n",
       "  </tbody>\n",
       "</table>\n",
       "</div>"
      ],
      "text/plain": [
       "                count  mean  std  min   25%   50%   75%   max\n",
       "loan_status                                                  \n",
       "Charged Off  2,738.00 15.76 4.93 5.31 12.49 15.05 18.97 30.99\n",
       "Fully Paid  10,845.00 12.51 4.49 5.31  9.16 11.99 15.05 30.99"
      ]
     },
     "execution_count": 69,
     "metadata": {},
     "output_type": "execute_result"
    }
   ],
   "source": [
    "loans.groupby('loan_status')['int_rate'].describe()"
   ]
  },
  {
   "cell_type": "code",
   "execution_count": 70,
   "metadata": {},
   "outputs": [
    {
     "data": {
      "text/html": [
       "<div>\n",
       "<style scoped>\n",
       "    .dataframe tbody tr th:only-of-type {\n",
       "        vertical-align: middle;\n",
       "    }\n",
       "\n",
       "    .dataframe tbody tr th {\n",
       "        vertical-align: top;\n",
       "    }\n",
       "\n",
       "    .dataframe thead th {\n",
       "        text-align: right;\n",
       "    }\n",
       "</style>\n",
       "<table border=\"1\" class=\"dataframe\">\n",
       "  <thead>\n",
       "    <tr style=\"text-align: right;\">\n",
       "      <th></th>\n",
       "      <th>count</th>\n",
       "      <th>mean</th>\n",
       "      <th>std</th>\n",
       "      <th>min</th>\n",
       "      <th>25%</th>\n",
       "      <th>50%</th>\n",
       "      <th>75%</th>\n",
       "      <th>max</th>\n",
       "    </tr>\n",
       "    <tr>\n",
       "      <th>purpose</th>\n",
       "      <th></th>\n",
       "      <th></th>\n",
       "      <th></th>\n",
       "      <th></th>\n",
       "      <th></th>\n",
       "      <th></th>\n",
       "      <th></th>\n",
       "      <th></th>\n",
       "    </tr>\n",
       "  </thead>\n",
       "  <tbody>\n",
       "    <tr>\n",
       "      <th>car</th>\n",
       "      <td>173.00</td>\n",
       "      <td>11.41</td>\n",
       "      <td>4.63</td>\n",
       "      <td>5.32</td>\n",
       "      <td>7.62</td>\n",
       "      <td>10.75</td>\n",
       "      <td>13.67</td>\n",
       "      <td>25.34</td>\n",
       "    </tr>\n",
       "    <tr>\n",
       "      <th>credit_card</th>\n",
       "      <td>2,974.00</td>\n",
       "      <td>11.62</td>\n",
       "      <td>4.21</td>\n",
       "      <td>5.31</td>\n",
       "      <td>8.18</td>\n",
       "      <td>10.99</td>\n",
       "      <td>13.99</td>\n",
       "      <td>30.84</td>\n",
       "    </tr>\n",
       "    <tr>\n",
       "      <th>debt_consolidation</th>\n",
       "      <td>7,884.00</td>\n",
       "      <td>13.60</td>\n",
       "      <td>4.73</td>\n",
       "      <td>5.31</td>\n",
       "      <td>10.15</td>\n",
       "      <td>13.11</td>\n",
       "      <td>16.29</td>\n",
       "      <td>30.99</td>\n",
       "    </tr>\n",
       "    <tr>\n",
       "      <th>educational</th>\n",
       "      <td>1.00</td>\n",
       "      <td>11.14</td>\n",
       "      <td>nan</td>\n",
       "      <td>11.14</td>\n",
       "      <td>11.14</td>\n",
       "      <td>11.14</td>\n",
       "      <td>11.14</td>\n",
       "      <td>11.14</td>\n",
       "    </tr>\n",
       "    <tr>\n",
       "      <th>home_improvement</th>\n",
       "      <td>901.00</td>\n",
       "      <td>13.05</td>\n",
       "      <td>4.86</td>\n",
       "      <td>5.31</td>\n",
       "      <td>9.49</td>\n",
       "      <td>12.74</td>\n",
       "      <td>15.99</td>\n",
       "      <td>30.89</td>\n",
       "    </tr>\n",
       "    <tr>\n",
       "      <th>house</th>\n",
       "      <td>69.00</td>\n",
       "      <td>15.17</td>\n",
       "      <td>5.41</td>\n",
       "      <td>5.32</td>\n",
       "      <td>10.99</td>\n",
       "      <td>15.61</td>\n",
       "      <td>18.84</td>\n",
       "      <td>25.80</td>\n",
       "    </tr>\n",
       "    <tr>\n",
       "      <th>major_purchase</th>\n",
       "      <td>284.00</td>\n",
       "      <td>12.20</td>\n",
       "      <td>5.10</td>\n",
       "      <td>5.32</td>\n",
       "      <td>7.90</td>\n",
       "      <td>11.47</td>\n",
       "      <td>15.24</td>\n",
       "      <td>30.94</td>\n",
       "    </tr>\n",
       "    <tr>\n",
       "      <th>medical</th>\n",
       "      <td>143.00</td>\n",
       "      <td>14.82</td>\n",
       "      <td>4.70</td>\n",
       "      <td>5.31</td>\n",
       "      <td>11.49</td>\n",
       "      <td>14.49</td>\n",
       "      <td>17.57</td>\n",
       "      <td>30.65</td>\n",
       "    </tr>\n",
       "    <tr>\n",
       "      <th>moving</th>\n",
       "      <td>102.00</td>\n",
       "      <td>14.13</td>\n",
       "      <td>5.25</td>\n",
       "      <td>5.32</td>\n",
       "      <td>10.49</td>\n",
       "      <td>13.53</td>\n",
       "      <td>16.99</td>\n",
       "      <td>29.49</td>\n",
       "    </tr>\n",
       "    <tr>\n",
       "      <th>other</th>\n",
       "      <td>769.00</td>\n",
       "      <td>14.45</td>\n",
       "      <td>5.14</td>\n",
       "      <td>5.32</td>\n",
       "      <td>11.14</td>\n",
       "      <td>13.67</td>\n",
       "      <td>17.57</td>\n",
       "      <td>30.99</td>\n",
       "    </tr>\n",
       "    <tr>\n",
       "      <th>renewable_energy</th>\n",
       "      <td>12.00</td>\n",
       "      <td>14.87</td>\n",
       "      <td>6.17</td>\n",
       "      <td>6.49</td>\n",
       "      <td>10.84</td>\n",
       "      <td>14.21</td>\n",
       "      <td>17.13</td>\n",
       "      <td>27.88</td>\n",
       "    </tr>\n",
       "    <tr>\n",
       "      <th>small_business</th>\n",
       "      <td>153.00</td>\n",
       "      <td>15.41</td>\n",
       "      <td>4.93</td>\n",
       "      <td>5.32</td>\n",
       "      <td>12.12</td>\n",
       "      <td>14.99</td>\n",
       "      <td>18.54</td>\n",
       "      <td>30.79</td>\n",
       "    </tr>\n",
       "    <tr>\n",
       "      <th>vacation</th>\n",
       "      <td>95.00</td>\n",
       "      <td>13.15</td>\n",
       "      <td>4.20</td>\n",
       "      <td>5.32</td>\n",
       "      <td>9.96</td>\n",
       "      <td>13.33</td>\n",
       "      <td>16.21</td>\n",
       "      <td>24.99</td>\n",
       "    </tr>\n",
       "    <tr>\n",
       "      <th>wedding</th>\n",
       "      <td>23.00</td>\n",
       "      <td>11.34</td>\n",
       "      <td>4.39</td>\n",
       "      <td>5.42</td>\n",
       "      <td>7.89</td>\n",
       "      <td>9.99</td>\n",
       "      <td>14.23</td>\n",
       "      <td>20.49</td>\n",
       "    </tr>\n",
       "  </tbody>\n",
       "</table>\n",
       "</div>"
      ],
      "text/plain": [
       "                      count  mean  std   min   25%   50%   75%   max\n",
       "purpose                                                             \n",
       "car                  173.00 11.41 4.63  5.32  7.62 10.75 13.67 25.34\n",
       "credit_card        2,974.00 11.62 4.21  5.31  8.18 10.99 13.99 30.84\n",
       "debt_consolidation 7,884.00 13.60 4.73  5.31 10.15 13.11 16.29 30.99\n",
       "educational            1.00 11.14  nan 11.14 11.14 11.14 11.14 11.14\n",
       "home_improvement     901.00 13.05 4.86  5.31  9.49 12.74 15.99 30.89\n",
       "house                 69.00 15.17 5.41  5.32 10.99 15.61 18.84 25.80\n",
       "major_purchase       284.00 12.20 5.10  5.32  7.90 11.47 15.24 30.94\n",
       "medical              143.00 14.82 4.70  5.31 11.49 14.49 17.57 30.65\n",
       "moving               102.00 14.13 5.25  5.32 10.49 13.53 16.99 29.49\n",
       "other                769.00 14.45 5.14  5.32 11.14 13.67 17.57 30.99\n",
       "renewable_energy      12.00 14.87 6.17  6.49 10.84 14.21 17.13 27.88\n",
       "small_business       153.00 15.41 4.93  5.32 12.12 14.99 18.54 30.79\n",
       "vacation              95.00 13.15 4.20  5.32  9.96 13.33 16.21 24.99\n",
       "wedding               23.00 11.34 4.39  5.42  7.89  9.99 14.23 20.49"
      ]
     },
     "execution_count": 70,
     "metadata": {},
     "output_type": "execute_result"
    }
   ],
   "source": [
    "loans.groupby('purpose')['int_rate'].describe()"
   ]
  },
  {
   "cell_type": "code",
   "execution_count": 71,
   "metadata": {},
   "outputs": [
    {
     "data": {
      "text/html": [
       "<div>\n",
       "<style scoped>\n",
       "    .dataframe tbody tr th:only-of-type {\n",
       "        vertical-align: middle;\n",
       "    }\n",
       "\n",
       "    .dataframe tbody tr th {\n",
       "        vertical-align: top;\n",
       "    }\n",
       "\n",
       "    .dataframe thead th {\n",
       "        text-align: right;\n",
       "    }\n",
       "</style>\n",
       "<table border=\"1\" class=\"dataframe\">\n",
       "  <thead>\n",
       "    <tr style=\"text-align: right;\">\n",
       "      <th></th>\n",
       "      <th>count</th>\n",
       "      <th>mean</th>\n",
       "      <th>std</th>\n",
       "      <th>min</th>\n",
       "      <th>25%</th>\n",
       "      <th>50%</th>\n",
       "      <th>75%</th>\n",
       "      <th>max</th>\n",
       "    </tr>\n",
       "    <tr>\n",
       "      <th>sub_grade</th>\n",
       "      <th></th>\n",
       "      <th></th>\n",
       "      <th></th>\n",
       "      <th></th>\n",
       "      <th></th>\n",
       "      <th></th>\n",
       "      <th></th>\n",
       "      <th></th>\n",
       "    </tr>\n",
       "  </thead>\n",
       "  <tbody>\n",
       "    <tr>\n",
       "      <th>A1</th>\n",
       "      <td>471.00</td>\n",
       "      <td>5.57</td>\n",
       "      <td>0.34</td>\n",
       "      <td>5.31</td>\n",
       "      <td>5.32</td>\n",
       "      <td>5.32</td>\n",
       "      <td>6.03</td>\n",
       "      <td>7.05</td>\n",
       "    </tr>\n",
       "    <tr>\n",
       "      <th>A2</th>\n",
       "      <td>391.00</td>\n",
       "      <td>6.52</td>\n",
       "      <td>0.31</td>\n",
       "      <td>5.79</td>\n",
       "      <td>6.24</td>\n",
       "      <td>6.49</td>\n",
       "      <td>6.62</td>\n",
       "      <td>7.40</td>\n",
       "    </tr>\n",
       "    <tr>\n",
       "      <th>A3</th>\n",
       "      <td>380.00</td>\n",
       "      <td>7.14</td>\n",
       "      <td>0.33</td>\n",
       "      <td>6.68</td>\n",
       "      <td>6.89</td>\n",
       "      <td>6.99</td>\n",
       "      <td>7.59</td>\n",
       "      <td>8.00</td>\n",
       "    </tr>\n",
       "    <tr>\n",
       "      <th>A4</th>\n",
       "      <td>579.00</td>\n",
       "      <td>7.51</td>\n",
       "      <td>0.34</td>\n",
       "      <td>6.54</td>\n",
       "      <td>7.26</td>\n",
       "      <td>7.49</td>\n",
       "      <td>7.90</td>\n",
       "      <td>9.32</td>\n",
       "    </tr>\n",
       "    <tr>\n",
       "      <th>A5</th>\n",
       "      <td>664.00</td>\n",
       "      <td>8.19</td>\n",
       "      <td>0.42</td>\n",
       "      <td>6.00</td>\n",
       "      <td>7.89</td>\n",
       "      <td>7.97</td>\n",
       "      <td>8.39</td>\n",
       "      <td>9.63</td>\n",
       "    </tr>\n",
       "    <tr>\n",
       "      <th>B1</th>\n",
       "      <td>692.00</td>\n",
       "      <td>8.95</td>\n",
       "      <td>0.73</td>\n",
       "      <td>6.00</td>\n",
       "      <td>8.24</td>\n",
       "      <td>8.67</td>\n",
       "      <td>9.67</td>\n",
       "      <td>11.14</td>\n",
       "    </tr>\n",
       "    <tr>\n",
       "      <th>B2</th>\n",
       "      <td>792.00</td>\n",
       "      <td>9.94</td>\n",
       "      <td>0.73</td>\n",
       "      <td>9.16</td>\n",
       "      <td>9.17</td>\n",
       "      <td>9.93</td>\n",
       "      <td>10.53</td>\n",
       "      <td>11.48</td>\n",
       "    </tr>\n",
       "    <tr>\n",
       "      <th>B3</th>\n",
       "      <td>847.00</td>\n",
       "      <td>10.72</td>\n",
       "      <td>0.83</td>\n",
       "      <td>9.62</td>\n",
       "      <td>9.99</td>\n",
       "      <td>10.49</td>\n",
       "      <td>11.39</td>\n",
       "      <td>12.12</td>\n",
       "    </tr>\n",
       "    <tr>\n",
       "      <th>B4</th>\n",
       "      <td>808.00</td>\n",
       "      <td>11.49</td>\n",
       "      <td>0.81</td>\n",
       "      <td>6.00</td>\n",
       "      <td>10.99</td>\n",
       "      <td>10.99</td>\n",
       "      <td>11.67</td>\n",
       "      <td>13.11</td>\n",
       "    </tr>\n",
       "    <tr>\n",
       "      <th>B5</th>\n",
       "      <td>772.00</td>\n",
       "      <td>12.00</td>\n",
       "      <td>0.79</td>\n",
       "      <td>10.36</td>\n",
       "      <td>11.49</td>\n",
       "      <td>11.53</td>\n",
       "      <td>12.49</td>\n",
       "      <td>14.09</td>\n",
       "    </tr>\n",
       "    <tr>\n",
       "      <th>C1</th>\n",
       "      <td>843.00</td>\n",
       "      <td>12.79</td>\n",
       "      <td>0.71</td>\n",
       "      <td>11.99</td>\n",
       "      <td>12.29</td>\n",
       "      <td>12.62</td>\n",
       "      <td>12.99</td>\n",
       "      <td>14.33</td>\n",
       "    </tr>\n",
       "    <tr>\n",
       "      <th>C2</th>\n",
       "      <td>794.00</td>\n",
       "      <td>13.38</td>\n",
       "      <td>0.74</td>\n",
       "      <td>10.59</td>\n",
       "      <td>12.69</td>\n",
       "      <td>13.35</td>\n",
       "      <td>13.59</td>\n",
       "      <td>15.31</td>\n",
       "    </tr>\n",
       "    <tr>\n",
       "      <th>C3</th>\n",
       "      <td>773.00</td>\n",
       "      <td>14.00</td>\n",
       "      <td>0.73</td>\n",
       "      <td>12.98</td>\n",
       "      <td>13.33</td>\n",
       "      <td>13.98</td>\n",
       "      <td>14.08</td>\n",
       "      <td>15.80</td>\n",
       "    </tr>\n",
       "    <tr>\n",
       "      <th>C4</th>\n",
       "      <td>768.00</td>\n",
       "      <td>14.72</td>\n",
       "      <td>0.78</td>\n",
       "      <td>11.97</td>\n",
       "      <td>13.99</td>\n",
       "      <td>14.49</td>\n",
       "      <td>15.05</td>\n",
       "      <td>16.29</td>\n",
       "    </tr>\n",
       "    <tr>\n",
       "      <th>C5</th>\n",
       "      <td>671.00</td>\n",
       "      <td>15.51</td>\n",
       "      <td>0.77</td>\n",
       "      <td>13.72</td>\n",
       "      <td>14.92</td>\n",
       "      <td>15.59</td>\n",
       "      <td>16.01</td>\n",
       "      <td>17.27</td>\n",
       "    </tr>\n",
       "    <tr>\n",
       "      <th>D1</th>\n",
       "      <td>494.00</td>\n",
       "      <td>16.43</td>\n",
       "      <td>0.84</td>\n",
       "      <td>14.11</td>\n",
       "      <td>15.61</td>\n",
       "      <td>16.29</td>\n",
       "      <td>16.99</td>\n",
       "      <td>17.97</td>\n",
       "    </tr>\n",
       "    <tr>\n",
       "      <th>D2</th>\n",
       "      <td>471.00</td>\n",
       "      <td>17.18</td>\n",
       "      <td>0.91</td>\n",
       "      <td>13.67</td>\n",
       "      <td>16.55</td>\n",
       "      <td>17.27</td>\n",
       "      <td>17.99</td>\n",
       "      <td>18.94</td>\n",
       "    </tr>\n",
       "    <tr>\n",
       "      <th>D3</th>\n",
       "      <td>381.00</td>\n",
       "      <td>17.94</td>\n",
       "      <td>1.05</td>\n",
       "      <td>15.28</td>\n",
       "      <td>16.99</td>\n",
       "      <td>18.25</td>\n",
       "      <td>18.99</td>\n",
       "      <td>19.92</td>\n",
       "    </tr>\n",
       "    <tr>\n",
       "      <th>D4</th>\n",
       "      <td>358.00</td>\n",
       "      <td>18.56</td>\n",
       "      <td>1.11</td>\n",
       "      <td>15.05</td>\n",
       "      <td>17.57</td>\n",
       "      <td>18.92</td>\n",
       "      <td>19.52</td>\n",
       "      <td>20.89</td>\n",
       "    </tr>\n",
       "    <tr>\n",
       "      <th>D5</th>\n",
       "      <td>264.00</td>\n",
       "      <td>19.40</td>\n",
       "      <td>1.59</td>\n",
       "      <td>15.37</td>\n",
       "      <td>17.86</td>\n",
       "      <td>19.53</td>\n",
       "      <td>21.45</td>\n",
       "      <td>22.35</td>\n",
       "    </tr>\n",
       "    <tr>\n",
       "      <th>E1</th>\n",
       "      <td>261.00</td>\n",
       "      <td>19.71</td>\n",
       "      <td>1.81</td>\n",
       "      <td>15.95</td>\n",
       "      <td>18.25</td>\n",
       "      <td>18.99</td>\n",
       "      <td>20.99</td>\n",
       "      <td>23.40</td>\n",
       "    </tr>\n",
       "    <tr>\n",
       "      <th>E2</th>\n",
       "      <td>200.00</td>\n",
       "      <td>20.59</td>\n",
       "      <td>2.21</td>\n",
       "      <td>6.00</td>\n",
       "      <td>18.84</td>\n",
       "      <td>20.49</td>\n",
       "      <td>21.54</td>\n",
       "      <td>24.37</td>\n",
       "    </tr>\n",
       "    <tr>\n",
       "      <th>E3</th>\n",
       "      <td>191.00</td>\n",
       "      <td>21.13</td>\n",
       "      <td>2.10</td>\n",
       "      <td>17.04</td>\n",
       "      <td>19.52</td>\n",
       "      <td>20.20</td>\n",
       "      <td>22.40</td>\n",
       "      <td>25.34</td>\n",
       "    </tr>\n",
       "    <tr>\n",
       "      <th>E4</th>\n",
       "      <td>155.00</td>\n",
       "      <td>22.00</td>\n",
       "      <td>2.16</td>\n",
       "      <td>14.38</td>\n",
       "      <td>20.49</td>\n",
       "      <td>21.97</td>\n",
       "      <td>23.10</td>\n",
       "      <td>26.31</td>\n",
       "    </tr>\n",
       "    <tr>\n",
       "      <th>E5</th>\n",
       "      <td>147.00</td>\n",
       "      <td>23.10</td>\n",
       "      <td>2.01</td>\n",
       "      <td>17.88</td>\n",
       "      <td>21.82</td>\n",
       "      <td>22.45</td>\n",
       "      <td>25.29</td>\n",
       "      <td>27.27</td>\n",
       "    </tr>\n",
       "    <tr>\n",
       "      <th>F1</th>\n",
       "      <td>96.00</td>\n",
       "      <td>23.72</td>\n",
       "      <td>2.42</td>\n",
       "      <td>17.80</td>\n",
       "      <td>22.33</td>\n",
       "      <td>23.13</td>\n",
       "      <td>23.55</td>\n",
       "      <td>28.72</td>\n",
       "    </tr>\n",
       "    <tr>\n",
       "      <th>F2</th>\n",
       "      <td>87.00</td>\n",
       "      <td>24.85</td>\n",
       "      <td>2.25</td>\n",
       "      <td>21.28</td>\n",
       "      <td>23.99</td>\n",
       "      <td>24.08</td>\n",
       "      <td>24.11</td>\n",
       "      <td>29.69</td>\n",
       "    </tr>\n",
       "    <tr>\n",
       "      <th>F3</th>\n",
       "      <td>65.00</td>\n",
       "      <td>24.97</td>\n",
       "      <td>2.36</td>\n",
       "      <td>18.99</td>\n",
       "      <td>23.99</td>\n",
       "      <td>24.50</td>\n",
       "      <td>24.99</td>\n",
       "      <td>30.17</td>\n",
       "    </tr>\n",
       "    <tr>\n",
       "      <th>F4</th>\n",
       "      <td>43.00</td>\n",
       "      <td>25.50</td>\n",
       "      <td>2.55</td>\n",
       "      <td>18.91</td>\n",
       "      <td>24.99</td>\n",
       "      <td>24.99</td>\n",
       "      <td>26.14</td>\n",
       "      <td>30.65</td>\n",
       "    </tr>\n",
       "    <tr>\n",
       "      <th>F5</th>\n",
       "      <td>44.00</td>\n",
       "      <td>26.56</td>\n",
       "      <td>2.34</td>\n",
       "      <td>21.74</td>\n",
       "      <td>25.28</td>\n",
       "      <td>26.06</td>\n",
       "      <td>27.79</td>\n",
       "      <td>30.75</td>\n",
       "    </tr>\n",
       "    <tr>\n",
       "      <th>G1</th>\n",
       "      <td>27.00</td>\n",
       "      <td>27.49</td>\n",
       "      <td>2.74</td>\n",
       "      <td>19.82</td>\n",
       "      <td>25.80</td>\n",
       "      <td>26.77</td>\n",
       "      <td>30.79</td>\n",
       "      <td>30.79</td>\n",
       "    </tr>\n",
       "    <tr>\n",
       "      <th>G2</th>\n",
       "      <td>22.00</td>\n",
       "      <td>27.91</td>\n",
       "      <td>2.41</td>\n",
       "      <td>24.83</td>\n",
       "      <td>25.83</td>\n",
       "      <td>28.14</td>\n",
       "      <td>30.84</td>\n",
       "      <td>30.84</td>\n",
       "    </tr>\n",
       "    <tr>\n",
       "      <th>G3</th>\n",
       "      <td>16.00</td>\n",
       "      <td>28.06</td>\n",
       "      <td>2.05</td>\n",
       "      <td>25.89</td>\n",
       "      <td>25.89</td>\n",
       "      <td>27.88</td>\n",
       "      <td>29.98</td>\n",
       "      <td>30.89</td>\n",
       "    </tr>\n",
       "    <tr>\n",
       "      <th>G4</th>\n",
       "      <td>4.00</td>\n",
       "      <td>29.70</td>\n",
       "      <td>2.48</td>\n",
       "      <td>25.99</td>\n",
       "      <td>29.70</td>\n",
       "      <td>30.94</td>\n",
       "      <td>30.94</td>\n",
       "      <td>30.94</td>\n",
       "    </tr>\n",
       "    <tr>\n",
       "      <th>G5</th>\n",
       "      <td>12.00</td>\n",
       "      <td>27.21</td>\n",
       "      <td>3.04</td>\n",
       "      <td>21.21</td>\n",
       "      <td>26.06</td>\n",
       "      <td>26.06</td>\n",
       "      <td>29.49</td>\n",
       "      <td>30.99</td>\n",
       "    </tr>\n",
       "  </tbody>\n",
       "</table>\n",
       "</div>"
      ],
      "text/plain": [
       "           count  mean  std   min   25%   50%   75%   max\n",
       "sub_grade                                                \n",
       "A1        471.00  5.57 0.34  5.31  5.32  5.32  6.03  7.05\n",
       "A2        391.00  6.52 0.31  5.79  6.24  6.49  6.62  7.40\n",
       "A3        380.00  7.14 0.33  6.68  6.89  6.99  7.59  8.00\n",
       "A4        579.00  7.51 0.34  6.54  7.26  7.49  7.90  9.32\n",
       "A5        664.00  8.19 0.42  6.00  7.89  7.97  8.39  9.63\n",
       "B1        692.00  8.95 0.73  6.00  8.24  8.67  9.67 11.14\n",
       "B2        792.00  9.94 0.73  9.16  9.17  9.93 10.53 11.48\n",
       "B3        847.00 10.72 0.83  9.62  9.99 10.49 11.39 12.12\n",
       "B4        808.00 11.49 0.81  6.00 10.99 10.99 11.67 13.11\n",
       "B5        772.00 12.00 0.79 10.36 11.49 11.53 12.49 14.09\n",
       "C1        843.00 12.79 0.71 11.99 12.29 12.62 12.99 14.33\n",
       "C2        794.00 13.38 0.74 10.59 12.69 13.35 13.59 15.31\n",
       "C3        773.00 14.00 0.73 12.98 13.33 13.98 14.08 15.80\n",
       "C4        768.00 14.72 0.78 11.97 13.99 14.49 15.05 16.29\n",
       "C5        671.00 15.51 0.77 13.72 14.92 15.59 16.01 17.27\n",
       "D1        494.00 16.43 0.84 14.11 15.61 16.29 16.99 17.97\n",
       "D2        471.00 17.18 0.91 13.67 16.55 17.27 17.99 18.94\n",
       "D3        381.00 17.94 1.05 15.28 16.99 18.25 18.99 19.92\n",
       "D4        358.00 18.56 1.11 15.05 17.57 18.92 19.52 20.89\n",
       "D5        264.00 19.40 1.59 15.37 17.86 19.53 21.45 22.35\n",
       "E1        261.00 19.71 1.81 15.95 18.25 18.99 20.99 23.40\n",
       "E2        200.00 20.59 2.21  6.00 18.84 20.49 21.54 24.37\n",
       "E3        191.00 21.13 2.10 17.04 19.52 20.20 22.40 25.34\n",
       "E4        155.00 22.00 2.16 14.38 20.49 21.97 23.10 26.31\n",
       "E5        147.00 23.10 2.01 17.88 21.82 22.45 25.29 27.27\n",
       "F1         96.00 23.72 2.42 17.80 22.33 23.13 23.55 28.72\n",
       "F2         87.00 24.85 2.25 21.28 23.99 24.08 24.11 29.69\n",
       "F3         65.00 24.97 2.36 18.99 23.99 24.50 24.99 30.17\n",
       "F4         43.00 25.50 2.55 18.91 24.99 24.99 26.14 30.65\n",
       "F5         44.00 26.56 2.34 21.74 25.28 26.06 27.79 30.75\n",
       "G1         27.00 27.49 2.74 19.82 25.80 26.77 30.79 30.79\n",
       "G2         22.00 27.91 2.41 24.83 25.83 28.14 30.84 30.84\n",
       "G3         16.00 28.06 2.05 25.89 25.89 27.88 29.98 30.89\n",
       "G4          4.00 29.70 2.48 25.99 29.70 30.94 30.94 30.94\n",
       "G5         12.00 27.21 3.04 21.21 26.06 26.06 29.49 30.99"
      ]
     },
     "execution_count": 71,
     "metadata": {},
     "output_type": "execute_result"
    }
   ],
   "source": [
    "loans.groupby('sub_grade')['int_rate'].describe()"
   ]
  },
  {
   "cell_type": "code",
   "execution_count": null,
   "metadata": {},
   "outputs": [],
   "source": []
  },
  {
   "cell_type": "markdown",
   "metadata": {},
   "source": [
    "#### Installment"
   ]
  },
  {
   "cell_type": "code",
   "execution_count": 72,
   "metadata": {},
   "outputs": [
    {
     "data": {
      "text/plain": [
       "count   13,583.00\n",
       "mean       440.05\n",
       "std        265.61\n",
       "min         30.33\n",
       "25%        246.88\n",
       "50%        372.71\n",
       "75%        587.69\n",
       "max      1,479.87\n",
       "Name: installment, dtype: float64"
      ]
     },
     "execution_count": 72,
     "metadata": {},
     "output_type": "execute_result"
    }
   ],
   "source": [
    "loans['installment'].describe()"
   ]
  },
  {
   "cell_type": "code",
   "execution_count": 73,
   "metadata": {},
   "outputs": [
    {
     "data": {
      "text/html": [
       "<div>\n",
       "<style scoped>\n",
       "    .dataframe tbody tr th:only-of-type {\n",
       "        vertical-align: middle;\n",
       "    }\n",
       "\n",
       "    .dataframe tbody tr th {\n",
       "        vertical-align: top;\n",
       "    }\n",
       "\n",
       "    .dataframe thead th {\n",
       "        text-align: right;\n",
       "    }\n",
       "</style>\n",
       "<table border=\"1\" class=\"dataframe\">\n",
       "  <thead>\n",
       "    <tr style=\"text-align: right;\">\n",
       "      <th></th>\n",
       "      <th>count</th>\n",
       "      <th>mean</th>\n",
       "      <th>std</th>\n",
       "      <th>min</th>\n",
       "      <th>25%</th>\n",
       "      <th>50%</th>\n",
       "      <th>75%</th>\n",
       "      <th>max</th>\n",
       "    </tr>\n",
       "    <tr>\n",
       "      <th>loan_status</th>\n",
       "      <th></th>\n",
       "      <th></th>\n",
       "      <th></th>\n",
       "      <th></th>\n",
       "      <th></th>\n",
       "      <th></th>\n",
       "      <th></th>\n",
       "      <th></th>\n",
       "    </tr>\n",
       "  </thead>\n",
       "  <tbody>\n",
       "    <tr>\n",
       "      <th>Charged Off</th>\n",
       "      <td>2,738.00</td>\n",
       "      <td>478.04</td>\n",
       "      <td>276.43</td>\n",
       "      <td>31.88</td>\n",
       "      <td>275.40</td>\n",
       "      <td>406.24</td>\n",
       "      <td>641.53</td>\n",
       "      <td>1,479.87</td>\n",
       "    </tr>\n",
       "    <tr>\n",
       "      <th>Fully Paid</th>\n",
       "      <td>10,845.00</td>\n",
       "      <td>430.46</td>\n",
       "      <td>261.95</td>\n",
       "      <td>30.33</td>\n",
       "      <td>239.56</td>\n",
       "      <td>364.73</td>\n",
       "      <td>573.97</td>\n",
       "      <td>1,451.12</td>\n",
       "    </tr>\n",
       "  </tbody>\n",
       "</table>\n",
       "</div>"
      ],
      "text/plain": [
       "                count   mean    std   min    25%    50%    75%      max\n",
       "loan_status                                                            \n",
       "Charged Off  2,738.00 478.04 276.43 31.88 275.40 406.24 641.53 1,479.87\n",
       "Fully Paid  10,845.00 430.46 261.95 30.33 239.56 364.73 573.97 1,451.12"
      ]
     },
     "execution_count": 73,
     "metadata": {},
     "output_type": "execute_result"
    }
   ],
   "source": [
    "loans.groupby('loan_status')['installment'].describe()"
   ]
  },
  {
   "cell_type": "code",
   "execution_count": null,
   "metadata": {},
   "outputs": [],
   "source": []
  },
  {
   "cell_type": "markdown",
   "metadata": {},
   "source": [
    "#### Annual Income"
   ]
  },
  {
   "cell_type": "code",
   "execution_count": 74,
   "metadata": {},
   "outputs": [
    {
     "data": {
      "text/plain": [
       "count      13,583.00\n",
       "mean       76,682.01\n",
       "std        54,904.87\n",
       "min             0.00\n",
       "25%        46,000.00\n",
       "50%        65,000.00\n",
       "75%        90,142.50\n",
       "max     1,300,000.00\n",
       "Name: annual_inc, dtype: float64"
      ]
     },
     "execution_count": 74,
     "metadata": {},
     "output_type": "execute_result"
    }
   ],
   "source": [
    "loans['annual_inc'].describe()"
   ]
  },
  {
   "cell_type": "code",
   "execution_count": 75,
   "metadata": {},
   "outputs": [],
   "source": [
    "loans['log_annual_inc'] = loans['annual_inc'].apply(lambda x: np.log10(x+1))"
   ]
  },
  {
   "cell_type": "code",
   "execution_count": 76,
   "metadata": {},
   "outputs": [],
   "source": [
    "loans.drop('annual_inc', axis=1, inplace=True)"
   ]
  },
  {
   "cell_type": "code",
   "execution_count": 77,
   "metadata": {},
   "outputs": [
    {
     "data": {
      "text/plain": [
       "count   13,583.00\n",
       "mean         4.82\n",
       "std          0.24\n",
       "min          0.00\n",
       "25%          4.66\n",
       "50%          4.81\n",
       "75%          4.95\n",
       "max          6.11\n",
       "Name: log_annual_inc, dtype: float64"
      ]
     },
     "execution_count": 77,
     "metadata": {},
     "output_type": "execute_result"
    }
   ],
   "source": [
    "loans['log_annual_inc'].describe()"
   ]
  },
  {
   "cell_type": "code",
   "execution_count": 78,
   "metadata": {},
   "outputs": [
    {
     "data": {
      "text/html": [
       "<div>\n",
       "<style scoped>\n",
       "    .dataframe tbody tr th:only-of-type {\n",
       "        vertical-align: middle;\n",
       "    }\n",
       "\n",
       "    .dataframe tbody tr th {\n",
       "        vertical-align: top;\n",
       "    }\n",
       "\n",
       "    .dataframe thead th {\n",
       "        text-align: right;\n",
       "    }\n",
       "</style>\n",
       "<table border=\"1\" class=\"dataframe\">\n",
       "  <thead>\n",
       "    <tr style=\"text-align: right;\">\n",
       "      <th></th>\n",
       "      <th>count</th>\n",
       "      <th>mean</th>\n",
       "      <th>std</th>\n",
       "      <th>min</th>\n",
       "      <th>25%</th>\n",
       "      <th>50%</th>\n",
       "      <th>75%</th>\n",
       "      <th>max</th>\n",
       "    </tr>\n",
       "    <tr>\n",
       "      <th>loan_status</th>\n",
       "      <th></th>\n",
       "      <th></th>\n",
       "      <th></th>\n",
       "      <th></th>\n",
       "      <th></th>\n",
       "      <th></th>\n",
       "      <th></th>\n",
       "      <th></th>\n",
       "    </tr>\n",
       "  </thead>\n",
       "  <tbody>\n",
       "    <tr>\n",
       "      <th>Charged Off</th>\n",
       "      <td>2,738.00</td>\n",
       "      <td>4.79</td>\n",
       "      <td>0.24</td>\n",
       "      <td>2.70</td>\n",
       "      <td>4.65</td>\n",
       "      <td>4.78</td>\n",
       "      <td>4.93</td>\n",
       "      <td>5.74</td>\n",
       "    </tr>\n",
       "    <tr>\n",
       "      <th>Fully Paid</th>\n",
       "      <td>10,845.00</td>\n",
       "      <td>4.82</td>\n",
       "      <td>0.24</td>\n",
       "      <td>0.00</td>\n",
       "      <td>4.67</td>\n",
       "      <td>4.81</td>\n",
       "      <td>4.97</td>\n",
       "      <td>6.11</td>\n",
       "    </tr>\n",
       "  </tbody>\n",
       "</table>\n",
       "</div>"
      ],
      "text/plain": [
       "                count  mean  std  min  25%  50%  75%  max\n",
       "loan_status                                              \n",
       "Charged Off  2,738.00  4.79 0.24 2.70 4.65 4.78 4.93 5.74\n",
       "Fully Paid  10,845.00  4.82 0.24 0.00 4.67 4.81 4.97 6.11"
      ]
     },
     "execution_count": 78,
     "metadata": {},
     "output_type": "execute_result"
    }
   ],
   "source": [
    "loans.groupby('loan_status')['log_annual_inc'].describe()"
   ]
  },
  {
   "cell_type": "code",
   "execution_count": null,
   "metadata": {},
   "outputs": [],
   "source": []
  },
  {
   "cell_type": "markdown",
   "metadata": {},
   "source": [
    "#### Debt to Income ratio"
   ]
  },
  {
   "cell_type": "code",
   "execution_count": 79,
   "metadata": {},
   "outputs": [
    {
     "data": {
      "text/plain": [
       "count   13,582.00\n",
       "mean        18.32\n",
       "std         14.20\n",
       "min          0.00\n",
       "25%         11.85\n",
       "50%         17.62\n",
       "75%         24.05\n",
       "max        999.00\n",
       "Name: dti, dtype: float64"
      ]
     },
     "execution_count": 79,
     "metadata": {},
     "output_type": "execute_result"
    }
   ],
   "source": [
    "loans['dti'].describe()"
   ]
  },
  {
   "cell_type": "code",
   "execution_count": 80,
   "metadata": {},
   "outputs": [
    {
     "data": {
      "text/html": [
       "<div>\n",
       "<style scoped>\n",
       "    .dataframe tbody tr th:only-of-type {\n",
       "        vertical-align: middle;\n",
       "    }\n",
       "\n",
       "    .dataframe tbody tr th {\n",
       "        vertical-align: top;\n",
       "    }\n",
       "\n",
       "    .dataframe thead th {\n",
       "        text-align: right;\n",
       "    }\n",
       "</style>\n",
       "<table border=\"1\" class=\"dataframe\">\n",
       "  <thead>\n",
       "    <tr style=\"text-align: right;\">\n",
       "      <th></th>\n",
       "      <th>count</th>\n",
       "      <th>mean</th>\n",
       "      <th>std</th>\n",
       "      <th>min</th>\n",
       "      <th>25%</th>\n",
       "      <th>50%</th>\n",
       "      <th>75%</th>\n",
       "      <th>max</th>\n",
       "    </tr>\n",
       "    <tr>\n",
       "      <th>loan_status</th>\n",
       "      <th></th>\n",
       "      <th></th>\n",
       "      <th></th>\n",
       "      <th></th>\n",
       "      <th></th>\n",
       "      <th></th>\n",
       "      <th></th>\n",
       "      <th></th>\n",
       "    </tr>\n",
       "  </thead>\n",
       "  <tbody>\n",
       "    <tr>\n",
       "      <th>Charged Off</th>\n",
       "      <td>2,738.00</td>\n",
       "      <td>20.62</td>\n",
       "      <td>26.59</td>\n",
       "      <td>0.00</td>\n",
       "      <td>13.43</td>\n",
       "      <td>19.59</td>\n",
       "      <td>26.20</td>\n",
       "      <td>999.00</td>\n",
       "    </tr>\n",
       "    <tr>\n",
       "      <th>Fully Paid</th>\n",
       "      <td>10,844.00</td>\n",
       "      <td>17.74</td>\n",
       "      <td>8.51</td>\n",
       "      <td>0.00</td>\n",
       "      <td>11.50</td>\n",
       "      <td>17.06</td>\n",
       "      <td>23.47</td>\n",
       "      <td>97.00</td>\n",
       "    </tr>\n",
       "  </tbody>\n",
       "</table>\n",
       "</div>"
      ],
      "text/plain": [
       "                count  mean   std  min   25%   50%   75%    max\n",
       "loan_status                                                    \n",
       "Charged Off  2,738.00 20.62 26.59 0.00 13.43 19.59 26.20 999.00\n",
       "Fully Paid  10,844.00 17.74  8.51 0.00 11.50 17.06 23.47  97.00"
      ]
     },
     "execution_count": 80,
     "metadata": {},
     "output_type": "execute_result"
    }
   ],
   "source": [
    "loans.groupby('loan_status')['dti'].describe()"
   ]
  },
  {
   "cell_type": "code",
   "execution_count": null,
   "metadata": {},
   "outputs": [],
   "source": []
  },
  {
   "cell_type": "markdown",
   "metadata": {},
   "source": [
    "#### FICO range"
   ]
  },
  {
   "cell_type": "code",
   "execution_count": 81,
   "metadata": {},
   "outputs": [
    {
     "data": {
      "text/html": [
       "<div>\n",
       "<style scoped>\n",
       "    .dataframe tbody tr th:only-of-type {\n",
       "        vertical-align: middle;\n",
       "    }\n",
       "\n",
       "    .dataframe tbody tr th {\n",
       "        vertical-align: top;\n",
       "    }\n",
       "\n",
       "    .dataframe thead th {\n",
       "        text-align: right;\n",
       "    }\n",
       "</style>\n",
       "<table border=\"1\" class=\"dataframe\">\n",
       "  <thead>\n",
       "    <tr style=\"text-align: right;\">\n",
       "      <th></th>\n",
       "      <th>fico_range_low</th>\n",
       "      <th>fico_range_high</th>\n",
       "    </tr>\n",
       "  </thead>\n",
       "  <tbody>\n",
       "    <tr>\n",
       "      <th>count</th>\n",
       "      <td>13,583.00</td>\n",
       "      <td>13,583.00</td>\n",
       "    </tr>\n",
       "    <tr>\n",
       "      <th>mean</th>\n",
       "      <td>696.46</td>\n",
       "      <td>700.46</td>\n",
       "    </tr>\n",
       "    <tr>\n",
       "      <th>std</th>\n",
       "      <td>32.21</td>\n",
       "      <td>32.21</td>\n",
       "    </tr>\n",
       "    <tr>\n",
       "      <th>min</th>\n",
       "      <td>660.00</td>\n",
       "      <td>664.00</td>\n",
       "    </tr>\n",
       "    <tr>\n",
       "      <th>25%</th>\n",
       "      <td>670.00</td>\n",
       "      <td>674.00</td>\n",
       "    </tr>\n",
       "    <tr>\n",
       "      <th>50%</th>\n",
       "      <td>690.00</td>\n",
       "      <td>694.00</td>\n",
       "    </tr>\n",
       "    <tr>\n",
       "      <th>75%</th>\n",
       "      <td>710.00</td>\n",
       "      <td>714.00</td>\n",
       "    </tr>\n",
       "    <tr>\n",
       "      <th>max</th>\n",
       "      <td>845.00</td>\n",
       "      <td>850.00</td>\n",
       "    </tr>\n",
       "  </tbody>\n",
       "</table>\n",
       "</div>"
      ],
      "text/plain": [
       "       fico_range_low  fico_range_high\n",
       "count       13,583.00        13,583.00\n",
       "mean           696.46           700.46\n",
       "std             32.21            32.21\n",
       "min            660.00           664.00\n",
       "25%            670.00           674.00\n",
       "50%            690.00           694.00\n",
       "75%            710.00           714.00\n",
       "max            845.00           850.00"
      ]
     },
     "execution_count": 81,
     "metadata": {},
     "output_type": "execute_result"
    }
   ],
   "source": [
    "loans[['fico_range_low', 'fico_range_high']].describe()"
   ]
  },
  {
   "cell_type": "code",
   "execution_count": 82,
   "metadata": {},
   "outputs": [
    {
     "data": {
      "text/html": [
       "<div>\n",
       "<style scoped>\n",
       "    .dataframe tbody tr th:only-of-type {\n",
       "        vertical-align: middle;\n",
       "    }\n",
       "\n",
       "    .dataframe tbody tr th {\n",
       "        vertical-align: top;\n",
       "    }\n",
       "\n",
       "    .dataframe thead th {\n",
       "        text-align: right;\n",
       "    }\n",
       "</style>\n",
       "<table border=\"1\" class=\"dataframe\">\n",
       "  <thead>\n",
       "    <tr style=\"text-align: right;\">\n",
       "      <th></th>\n",
       "      <th>fico_range_low</th>\n",
       "      <th>fico_range_high</th>\n",
       "    </tr>\n",
       "  </thead>\n",
       "  <tbody>\n",
       "    <tr>\n",
       "      <th>fico_range_low</th>\n",
       "      <td>1.00</td>\n",
       "      <td>1.00</td>\n",
       "    </tr>\n",
       "    <tr>\n",
       "      <th>fico_range_high</th>\n",
       "      <td>1.00</td>\n",
       "      <td>1.00</td>\n",
       "    </tr>\n",
       "  </tbody>\n",
       "</table>\n",
       "</div>"
      ],
      "text/plain": [
       "                 fico_range_low  fico_range_high\n",
       "fico_range_low             1.00             1.00\n",
       "fico_range_high            1.00             1.00"
      ]
     },
     "execution_count": 82,
     "metadata": {},
     "output_type": "execute_result"
    }
   ],
   "source": [
    "loans[['fico_range_low','fico_range_high']].corr() #Calculating correlation"
   ]
  },
  {
   "cell_type": "code",
   "execution_count": 83,
   "metadata": {},
   "outputs": [],
   "source": [
    "loans['fico_score'] = 0.5*loans['fico_range_low'] + 0.5*loans['fico_range_high']"
   ]
  },
  {
   "cell_type": "code",
   "execution_count": 84,
   "metadata": {},
   "outputs": [],
   "source": [
    "loans.drop(['fico_range_high', 'fico_range_low'], axis=1, inplace=True)"
   ]
  },
  {
   "cell_type": "code",
   "execution_count": 85,
   "metadata": {},
   "outputs": [
    {
     "data": {
      "text/html": [
       "<div>\n",
       "<style scoped>\n",
       "    .dataframe tbody tr th:only-of-type {\n",
       "        vertical-align: middle;\n",
       "    }\n",
       "\n",
       "    .dataframe tbody tr th {\n",
       "        vertical-align: top;\n",
       "    }\n",
       "\n",
       "    .dataframe thead th {\n",
       "        text-align: right;\n",
       "    }\n",
       "</style>\n",
       "<table border=\"1\" class=\"dataframe\">\n",
       "  <thead>\n",
       "    <tr style=\"text-align: right;\">\n",
       "      <th></th>\n",
       "      <th>count</th>\n",
       "      <th>mean</th>\n",
       "      <th>std</th>\n",
       "      <th>min</th>\n",
       "      <th>25%</th>\n",
       "      <th>50%</th>\n",
       "      <th>75%</th>\n",
       "      <th>max</th>\n",
       "    </tr>\n",
       "    <tr>\n",
       "      <th>loan_status</th>\n",
       "      <th></th>\n",
       "      <th></th>\n",
       "      <th></th>\n",
       "      <th></th>\n",
       "      <th></th>\n",
       "      <th></th>\n",
       "      <th></th>\n",
       "      <th></th>\n",
       "    </tr>\n",
       "  </thead>\n",
       "  <tbody>\n",
       "    <tr>\n",
       "      <th>Charged Off</th>\n",
       "      <td>2,738.00</td>\n",
       "      <td>690.00</td>\n",
       "      <td>25.99</td>\n",
       "      <td>662.00</td>\n",
       "      <td>672.00</td>\n",
       "      <td>682.00</td>\n",
       "      <td>702.00</td>\n",
       "      <td>837.00</td>\n",
       "    </tr>\n",
       "    <tr>\n",
       "      <th>Fully Paid</th>\n",
       "      <td>10,845.00</td>\n",
       "      <td>700.60</td>\n",
       "      <td>33.26</td>\n",
       "      <td>662.00</td>\n",
       "      <td>677.00</td>\n",
       "      <td>692.00</td>\n",
       "      <td>717.00</td>\n",
       "      <td>847.50</td>\n",
       "    </tr>\n",
       "  </tbody>\n",
       "</table>\n",
       "</div>"
      ],
      "text/plain": [
       "                count   mean   std    min    25%    50%    75%    max\n",
       "loan_status                                                          \n",
       "Charged Off  2,738.00 690.00 25.99 662.00 672.00 682.00 702.00 837.00\n",
       "Fully Paid  10,845.00 700.60 33.26 662.00 677.00 692.00 717.00 847.50"
      ]
     },
     "execution_count": 85,
     "metadata": {},
     "output_type": "execute_result"
    }
   ],
   "source": [
    "loans.groupby('loan_status')['fico_score'].describe()"
   ]
  },
  {
   "cell_type": "code",
   "execution_count": null,
   "metadata": {},
   "outputs": [],
   "source": []
  },
  {
   "cell_type": "markdown",
   "metadata": {},
   "source": [
    "#### Open credit lines and Total accounts"
   ]
  },
  {
   "cell_type": "code",
   "execution_count": 86,
   "metadata": {},
   "outputs": [
    {
     "data": {
      "text/html": [
       "<div>\n",
       "<style scoped>\n",
       "    .dataframe tbody tr th:only-of-type {\n",
       "        vertical-align: middle;\n",
       "    }\n",
       "\n",
       "    .dataframe tbody tr th {\n",
       "        vertical-align: top;\n",
       "    }\n",
       "\n",
       "    .dataframe thead th {\n",
       "        text-align: right;\n",
       "    }\n",
       "</style>\n",
       "<table border=\"1\" class=\"dataframe\">\n",
       "  <thead>\n",
       "    <tr style=\"text-align: right;\">\n",
       "      <th></th>\n",
       "      <th>open_acc</th>\n",
       "      <th>total_acc</th>\n",
       "    </tr>\n",
       "  </thead>\n",
       "  <tbody>\n",
       "    <tr>\n",
       "      <th>open_acc</th>\n",
       "      <td>1.00</td>\n",
       "      <td>0.70</td>\n",
       "    </tr>\n",
       "    <tr>\n",
       "      <th>total_acc</th>\n",
       "      <td>0.70</td>\n",
       "      <td>1.00</td>\n",
       "    </tr>\n",
       "  </tbody>\n",
       "</table>\n",
       "</div>"
      ],
      "text/plain": [
       "           open_acc  total_acc\n",
       "open_acc       1.00       0.70\n",
       "total_acc      0.70       1.00"
      ]
     },
     "execution_count": 86,
     "metadata": {},
     "output_type": "execute_result"
    }
   ],
   "source": [
    "loans[['open_acc','total_acc']].corr()"
   ]
  },
  {
   "cell_type": "code",
   "execution_count": 87,
   "metadata": {},
   "outputs": [
    {
     "data": {
      "text/html": [
       "<div>\n",
       "<style scoped>\n",
       "    .dataframe tbody tr th:only-of-type {\n",
       "        vertical-align: middle;\n",
       "    }\n",
       "\n",
       "    .dataframe tbody tr th {\n",
       "        vertical-align: top;\n",
       "    }\n",
       "\n",
       "    .dataframe thead th {\n",
       "        text-align: right;\n",
       "    }\n",
       "</style>\n",
       "<table border=\"1\" class=\"dataframe\">\n",
       "  <thead>\n",
       "    <tr style=\"text-align: right;\">\n",
       "      <th></th>\n",
       "      <th>count</th>\n",
       "      <th>mean</th>\n",
       "      <th>std</th>\n",
       "      <th>min</th>\n",
       "      <th>25%</th>\n",
       "      <th>50%</th>\n",
       "      <th>75%</th>\n",
       "      <th>max</th>\n",
       "    </tr>\n",
       "    <tr>\n",
       "      <th>loan_status</th>\n",
       "      <th></th>\n",
       "      <th></th>\n",
       "      <th></th>\n",
       "      <th></th>\n",
       "      <th></th>\n",
       "      <th></th>\n",
       "      <th></th>\n",
       "      <th></th>\n",
       "    </tr>\n",
       "  </thead>\n",
       "  <tbody>\n",
       "    <tr>\n",
       "      <th>Charged Off</th>\n",
       "      <td>2,738.00</td>\n",
       "      <td>11.85</td>\n",
       "      <td>5.71</td>\n",
       "      <td>1.00</td>\n",
       "      <td>8.00</td>\n",
       "      <td>11.00</td>\n",
       "      <td>14.00</td>\n",
       "      <td>75.00</td>\n",
       "    </tr>\n",
       "    <tr>\n",
       "      <th>Fully Paid</th>\n",
       "      <td>10,845.00</td>\n",
       "      <td>11.48</td>\n",
       "      <td>5.41</td>\n",
       "      <td>1.00</td>\n",
       "      <td>8.00</td>\n",
       "      <td>11.00</td>\n",
       "      <td>14.00</td>\n",
       "      <td>79.00</td>\n",
       "    </tr>\n",
       "  </tbody>\n",
       "</table>\n",
       "</div>"
      ],
      "text/plain": [
       "                count  mean  std  min  25%   50%   75%   max\n",
       "loan_status                                                 \n",
       "Charged Off  2,738.00 11.85 5.71 1.00 8.00 11.00 14.00 75.00\n",
       "Fully Paid  10,845.00 11.48 5.41 1.00 8.00 11.00 14.00 79.00"
      ]
     },
     "execution_count": 87,
     "metadata": {},
     "output_type": "execute_result"
    }
   ],
   "source": [
    "loans.groupby('loan_status')['open_acc'].describe()"
   ]
  },
  {
   "cell_type": "code",
   "execution_count": 88,
   "metadata": {},
   "outputs": [],
   "source": [
    "loans['acc_ratio'] = loans['open_acc'] / loans['total_acc']"
   ]
  },
  {
   "cell_type": "code",
   "execution_count": 89,
   "metadata": {},
   "outputs": [],
   "source": [
    "loans.drop(['total_acc','open_acc'], axis=1, inplace=True)"
   ]
  },
  {
   "cell_type": "markdown",
   "metadata": {},
   "source": [
    "#### Public records and Public records brankrupticies"
   ]
  },
  {
   "cell_type": "code",
   "execution_count": null,
   "metadata": {},
   "outputs": [],
   "source": []
  },
  {
   "cell_type": "code",
   "execution_count": 90,
   "metadata": {},
   "outputs": [
    {
     "data": {
      "text/html": [
       "<div>\n",
       "<style scoped>\n",
       "    .dataframe tbody tr th:only-of-type {\n",
       "        vertical-align: middle;\n",
       "    }\n",
       "\n",
       "    .dataframe tbody tr th {\n",
       "        vertical-align: top;\n",
       "    }\n",
       "\n",
       "    .dataframe thead th {\n",
       "        text-align: right;\n",
       "    }\n",
       "</style>\n",
       "<table border=\"1\" class=\"dataframe\">\n",
       "  <thead>\n",
       "    <tr style=\"text-align: right;\">\n",
       "      <th></th>\n",
       "      <th>pub_rec</th>\n",
       "      <th>pub_rec_bankruptcies</th>\n",
       "    </tr>\n",
       "  </thead>\n",
       "  <tbody>\n",
       "    <tr>\n",
       "      <th>pub_rec</th>\n",
       "      <td>1.00</td>\n",
       "      <td>0.64</td>\n",
       "    </tr>\n",
       "    <tr>\n",
       "      <th>pub_rec_bankruptcies</th>\n",
       "      <td>0.64</td>\n",
       "      <td>1.00</td>\n",
       "    </tr>\n",
       "  </tbody>\n",
       "</table>\n",
       "</div>"
      ],
      "text/plain": [
       "                      pub_rec  pub_rec_bankruptcies\n",
       "pub_rec                  1.00                  0.64\n",
       "pub_rec_bankruptcies     0.64                  1.00"
      ]
     },
     "execution_count": 90,
     "metadata": {},
     "output_type": "execute_result"
    }
   ],
   "source": [
    "loans[['pub_rec','pub_rec_bankruptcies']].corr()"
   ]
  },
  {
   "cell_type": "code",
   "execution_count": 91,
   "metadata": {},
   "outputs": [
    {
     "data": {
      "text/html": [
       "<div>\n",
       "<style scoped>\n",
       "    .dataframe tbody tr th:only-of-type {\n",
       "        vertical-align: middle;\n",
       "    }\n",
       "\n",
       "    .dataframe tbody tr th {\n",
       "        vertical-align: top;\n",
       "    }\n",
       "\n",
       "    .dataframe thead th {\n",
       "        text-align: right;\n",
       "    }\n",
       "</style>\n",
       "<table border=\"1\" class=\"dataframe\">\n",
       "  <thead>\n",
       "    <tr style=\"text-align: right;\">\n",
       "      <th></th>\n",
       "      <th>count</th>\n",
       "      <th>mean</th>\n",
       "      <th>std</th>\n",
       "      <th>min</th>\n",
       "      <th>25%</th>\n",
       "      <th>50%</th>\n",
       "      <th>75%</th>\n",
       "      <th>max</th>\n",
       "    </tr>\n",
       "    <tr>\n",
       "      <th>loan_status</th>\n",
       "      <th></th>\n",
       "      <th></th>\n",
       "      <th></th>\n",
       "      <th></th>\n",
       "      <th></th>\n",
       "      <th></th>\n",
       "      <th></th>\n",
       "      <th></th>\n",
       "    </tr>\n",
       "  </thead>\n",
       "  <tbody>\n",
       "    <tr>\n",
       "      <th>Charged Off</th>\n",
       "      <td>2,738.00</td>\n",
       "      <td>0.24</td>\n",
       "      <td>0.61</td>\n",
       "      <td>0.00</td>\n",
       "      <td>0.00</td>\n",
       "      <td>0.00</td>\n",
       "      <td>0.00</td>\n",
       "      <td>11.00</td>\n",
       "    </tr>\n",
       "    <tr>\n",
       "      <th>Fully Paid</th>\n",
       "      <td>10,845.00</td>\n",
       "      <td>0.21</td>\n",
       "      <td>0.60</td>\n",
       "      <td>0.00</td>\n",
       "      <td>0.00</td>\n",
       "      <td>0.00</td>\n",
       "      <td>0.00</td>\n",
       "      <td>20.00</td>\n",
       "    </tr>\n",
       "  </tbody>\n",
       "</table>\n",
       "</div>"
      ],
      "text/plain": [
       "                count  mean  std  min  25%  50%  75%   max\n",
       "loan_status                                               \n",
       "Charged Off  2,738.00  0.24 0.61 0.00 0.00 0.00 0.00 11.00\n",
       "Fully Paid  10,845.00  0.21 0.60 0.00 0.00 0.00 0.00 20.00"
      ]
     },
     "execution_count": 91,
     "metadata": {},
     "output_type": "execute_result"
    }
   ],
   "source": [
    "loans.groupby('loan_status')['pub_rec'].describe()"
   ]
  },
  {
   "cell_type": "code",
   "execution_count": 92,
   "metadata": {},
   "outputs": [
    {
     "data": {
      "text/plain": [
       "0.00    11919\n",
       "1.00     1560\n",
       "2.00       76\n",
       "3.00       18\n",
       "4.00        3\n",
       "5.00        2\n",
       "Name: pub_rec_bankruptcies, dtype: int64"
      ]
     },
     "execution_count": 92,
     "metadata": {},
     "output_type": "execute_result"
    }
   ],
   "source": [
    "loans['pub_rec_bankruptcies'].value_counts().sort_index()"
   ]
  },
  {
   "cell_type": "code",
   "execution_count": 93,
   "metadata": {},
   "outputs": [
    {
     "data": {
      "image/png": "[encoded data removed]",
      "text/plain": [
       "<Figure size 1080x270 with 2 Axes>"
      ]
     },
     "metadata": {},
     "output_type": "display_data"
    }
   ],
   "source": [
    "plot_var('pub_rec_bankruptcies', 'Public Record Bankruptcies', continuous=False)"
   ]
  },
  {
   "cell_type": "code",
   "execution_count": 94,
   "metadata": {},
   "outputs": [],
   "source": [
    "loans.drop('pub_rec', axis=1, inplace=True)"
   ]
  },
  {
   "cell_type": "code",
   "execution_count": null,
   "metadata": {},
   "outputs": [],
   "source": []
  },
  {
   "cell_type": "markdown",
   "metadata": {},
   "source": [
    "#### Revolving balance"
   ]
  },
  {
   "cell_type": "code",
   "execution_count": 95,
   "metadata": {},
   "outputs": [
    {
     "data": {
      "text/plain": [
       "count    13,583.00\n",
       "mean     16,178.01\n",
       "std      23,100.86\n",
       "min           0.00\n",
       "25%       5,950.50\n",
       "50%      11,196.00\n",
       "75%      19,664.50\n",
       "max     824,328.00\n",
       "Name: revol_bal, dtype: float64"
      ]
     },
     "execution_count": 95,
     "metadata": {},
     "output_type": "execute_result"
    }
   ],
   "source": [
    "loans['revol_bal'].describe()"
   ]
  },
  {
   "cell_type": "code",
   "execution_count": 96,
   "metadata": {},
   "outputs": [],
   "source": [
    "loans['log_revol_bal'] = loans['revol_bal'].apply(lambda x: np.log10(x+1))"
   ]
  },
  {
   "cell_type": "code",
   "execution_count": 97,
   "metadata": {},
   "outputs": [],
   "source": [
    "loans.drop('revol_bal', axis=1, inplace=True)"
   ]
  },
  {
   "cell_type": "code",
   "execution_count": null,
   "metadata": {},
   "outputs": [],
   "source": []
  },
  {
   "cell_type": "markdown",
   "metadata": {},
   "source": [
    "#### Revolving util"
   ]
  },
  {
   "cell_type": "code",
   "execution_count": 98,
   "metadata": {},
   "outputs": [
    {
     "data": {
      "text/plain": [
       "count   13,572.00\n",
       "mean        51.74\n",
       "std         24.83\n",
       "min          0.00\n",
       "25%         33.30\n",
       "50%         51.80\n",
       "75%         71.20\n",
       "max        154.30\n",
       "Name: revol_util, dtype: float64"
      ]
     },
     "execution_count": 98,
     "metadata": {},
     "output_type": "execute_result"
    }
   ],
   "source": [
    "loans['revol_util'].describe()"
   ]
  },
  {
   "cell_type": "code",
   "execution_count": 99,
   "metadata": {},
   "outputs": [
    {
     "data": {
      "text/html": [
       "<div>\n",
       "<style scoped>\n",
       "    .dataframe tbody tr th:only-of-type {\n",
       "        vertical-align: middle;\n",
       "    }\n",
       "\n",
       "    .dataframe tbody tr th {\n",
       "        vertical-align: top;\n",
       "    }\n",
       "\n",
       "    .dataframe thead th {\n",
       "        text-align: right;\n",
       "    }\n",
       "</style>\n",
       "<table border=\"1\" class=\"dataframe\">\n",
       "  <thead>\n",
       "    <tr style=\"text-align: right;\">\n",
       "      <th></th>\n",
       "      <th>revol_util</th>\n",
       "      <th>fico_score</th>\n",
       "    </tr>\n",
       "  </thead>\n",
       "  <tbody>\n",
       "    <tr>\n",
       "      <th>revol_util</th>\n",
       "      <td>1.00</td>\n",
       "      <td>-0.47</td>\n",
       "    </tr>\n",
       "    <tr>\n",
       "      <th>fico_score</th>\n",
       "      <td>-0.47</td>\n",
       "      <td>1.00</td>\n",
       "    </tr>\n",
       "  </tbody>\n",
       "</table>\n",
       "</div>"
      ],
      "text/plain": [
       "            revol_util  fico_score\n",
       "revol_util        1.00       -0.47\n",
       "fico_score       -0.47        1.00"
      ]
     },
     "execution_count": 99,
     "metadata": {},
     "output_type": "execute_result"
    }
   ],
   "source": [
    "loans[['revol_util','fico_score']].corr()"
   ]
  },
  {
   "cell_type": "code",
   "execution_count": 100,
   "metadata": {},
   "outputs": [
    {
     "data": {
      "text/html": [
       "<div>\n",
       "<style scoped>\n",
       "    .dataframe tbody tr th:only-of-type {\n",
       "        vertical-align: middle;\n",
       "    }\n",
       "\n",
       "    .dataframe tbody tr th {\n",
       "        vertical-align: top;\n",
       "    }\n",
       "\n",
       "    .dataframe thead th {\n",
       "        text-align: right;\n",
       "    }\n",
       "</style>\n",
       "<table border=\"1\" class=\"dataframe\">\n",
       "  <thead>\n",
       "    <tr style=\"text-align: right;\">\n",
       "      <th></th>\n",
       "      <th>count</th>\n",
       "      <th>mean</th>\n",
       "      <th>std</th>\n",
       "      <th>min</th>\n",
       "      <th>25%</th>\n",
       "      <th>50%</th>\n",
       "      <th>75%</th>\n",
       "      <th>max</th>\n",
       "    </tr>\n",
       "    <tr>\n",
       "      <th>loan_status</th>\n",
       "      <th></th>\n",
       "      <th></th>\n",
       "      <th></th>\n",
       "      <th></th>\n",
       "      <th></th>\n",
       "      <th></th>\n",
       "      <th></th>\n",
       "      <th></th>\n",
       "    </tr>\n",
       "  </thead>\n",
       "  <tbody>\n",
       "    <tr>\n",
       "      <th>Charged Off</th>\n",
       "      <td>2,735.00</td>\n",
       "      <td>55.10</td>\n",
       "      <td>24.20</td>\n",
       "      <td>0.00</td>\n",
       "      <td>37.90</td>\n",
       "      <td>56.80</td>\n",
       "      <td>74.05</td>\n",
       "      <td>145.00</td>\n",
       "    </tr>\n",
       "    <tr>\n",
       "      <th>Fully Paid</th>\n",
       "      <td>10,837.00</td>\n",
       "      <td>50.90</td>\n",
       "      <td>24.92</td>\n",
       "      <td>0.00</td>\n",
       "      <td>32.30</td>\n",
       "      <td>50.70</td>\n",
       "      <td>70.30</td>\n",
       "      <td>154.30</td>\n",
       "    </tr>\n",
       "  </tbody>\n",
       "</table>\n",
       "</div>"
      ],
      "text/plain": [
       "                count  mean   std  min   25%   50%   75%    max\n",
       "loan_status                                                    \n",
       "Charged Off  2,735.00 55.10 24.20 0.00 37.90 56.80 74.05 145.00\n",
       "Fully Paid  10,837.00 50.90 24.92 0.00 32.30 50.70 70.30 154.30"
      ]
     },
     "execution_count": 100,
     "metadata": {},
     "output_type": "execute_result"
    }
   ],
   "source": [
    "loans.groupby('loan_status')['revol_util'].describe()"
   ]
  },
  {
   "cell_type": "code",
   "execution_count": null,
   "metadata": {},
   "outputs": [],
   "source": []
  },
  {
   "cell_type": "markdown",
   "metadata": {},
   "source": [
    "#### Mortgage account"
   ]
  },
  {
   "cell_type": "code",
   "execution_count": 101,
   "metadata": {},
   "outputs": [
    {
     "data": {
      "text/plain": [
       "count   13,114.00\n",
       "mean         1.68\n",
       "std          2.01\n",
       "min          0.00\n",
       "25%          0.00\n",
       "50%          1.00\n",
       "75%          3.00\n",
       "max         24.00\n",
       "Name: mort_acc, dtype: float64"
      ]
     },
     "execution_count": 101,
     "metadata": {},
     "output_type": "execute_result"
    }
   ],
   "source": [
    "loans['mort_acc'].describe()"
   ]
  },
  {
   "cell_type": "code",
   "execution_count": 102,
   "metadata": {},
   "outputs": [
    {
     "data": {
      "text/html": [
       "<div>\n",
       "<style scoped>\n",
       "    .dataframe tbody tr th:only-of-type {\n",
       "        vertical-align: middle;\n",
       "    }\n",
       "\n",
       "    .dataframe tbody tr th {\n",
       "        vertical-align: top;\n",
       "    }\n",
       "\n",
       "    .dataframe thead th {\n",
       "        text-align: right;\n",
       "    }\n",
       "</style>\n",
       "<table border=\"1\" class=\"dataframe\">\n",
       "  <thead>\n",
       "    <tr style=\"text-align: right;\">\n",
       "      <th></th>\n",
       "      <th>count</th>\n",
       "      <th>mean</th>\n",
       "      <th>std</th>\n",
       "      <th>min</th>\n",
       "      <th>25%</th>\n",
       "      <th>50%</th>\n",
       "      <th>75%</th>\n",
       "      <th>max</th>\n",
       "    </tr>\n",
       "    <tr>\n",
       "      <th>loan_status</th>\n",
       "      <th></th>\n",
       "      <th></th>\n",
       "      <th></th>\n",
       "      <th></th>\n",
       "      <th></th>\n",
       "      <th></th>\n",
       "      <th></th>\n",
       "      <th></th>\n",
       "    </tr>\n",
       "  </thead>\n",
       "  <tbody>\n",
       "    <tr>\n",
       "      <th>Charged Off</th>\n",
       "      <td>2,681.00</td>\n",
       "      <td>1.40</td>\n",
       "      <td>1.82</td>\n",
       "      <td>0.00</td>\n",
       "      <td>0.00</td>\n",
       "      <td>1.00</td>\n",
       "      <td>2.00</td>\n",
       "      <td>12.00</td>\n",
       "    </tr>\n",
       "    <tr>\n",
       "      <th>Fully Paid</th>\n",
       "      <td>10,433.00</td>\n",
       "      <td>1.75</td>\n",
       "      <td>2.05</td>\n",
       "      <td>0.00</td>\n",
       "      <td>0.00</td>\n",
       "      <td>1.00</td>\n",
       "      <td>3.00</td>\n",
       "      <td>24.00</td>\n",
       "    </tr>\n",
       "  </tbody>\n",
       "</table>\n",
       "</div>"
      ],
      "text/plain": [
       "                count  mean  std  min  25%  50%  75%   max\n",
       "loan_status                                               \n",
       "Charged Off  2,681.00  1.40 1.82 0.00 0.00 1.00 2.00 12.00\n",
       "Fully Paid  10,433.00  1.75 2.05 0.00 0.00 1.00 3.00 24.00"
      ]
     },
     "execution_count": 102,
     "metadata": {},
     "output_type": "execute_result"
    }
   ],
   "source": [
    "loans.groupby('loan_status')['mort_acc'].describe()"
   ]
  },
  {
   "cell_type": "code",
   "execution_count": null,
   "metadata": {},
   "outputs": [],
   "source": []
  },
  {
   "cell_type": "markdown",
   "metadata": {},
   "source": [
    "### Date type columns"
   ]
  },
  {
   "cell_type": "code",
   "execution_count": 103,
   "metadata": {},
   "outputs": [
    {
     "data": {
      "text/plain": [
       "156406     Aug-2015\n",
       "505658     Jan-2018\n",
       "2178879    Dec-2016\n",
       "688105     May-2016\n",
       "1197635    Sep-2014\n",
       "Name: issue_d, dtype: object"
      ]
     },
     "execution_count": 103,
     "metadata": {},
     "output_type": "execute_result"
    }
   ],
   "source": [
    "loans['issue_d'].sample(5)"
   ]
  },
  {
   "cell_type": "code",
   "execution_count": 104,
   "metadata": {},
   "outputs": [
    {
     "data": {
      "text/plain": [
       "1224893    Apr-1993\n",
       "713076     Sep-1998\n",
       "2022411    Oct-2007\n",
       "1331536    Dec-2002\n",
       "466749     Mar-1995\n",
       "Name: earliest_cr_line, dtype: object"
      ]
     },
     "execution_count": 104,
     "metadata": {},
     "output_type": "execute_result"
    }
   ],
   "source": [
    "loans['earliest_cr_line'].sample(5)"
   ]
  },
  {
   "cell_type": "code",
   "execution_count": 105,
   "metadata": {},
   "outputs": [
    {
     "data": {
      "text/plain": [
       "False"
      ]
     },
     "execution_count": 105,
     "metadata": {},
     "output_type": "execute_result"
    }
   ],
   "source": [
    "loans['earliest_cr_line'].isnull().any()"
   ]
  },
  {
   "cell_type": "code",
   "execution_count": 106,
   "metadata": {},
   "outputs": [
    {
     "data": {
      "text/plain": [
       "False"
      ]
     },
     "execution_count": 106,
     "metadata": {},
     "output_type": "execute_result"
    }
   ],
   "source": [
    "loans['issue_d'].isnull().any()"
   ]
  },
  {
   "cell_type": "code",
   "execution_count": 107,
   "metadata": {},
   "outputs": [],
   "source": [
    "loans['issue_d'] = pd.to_datetime(loans['issue_d'])"
   ]
  },
  {
   "cell_type": "code",
   "execution_count": 108,
   "metadata": {},
   "outputs": [
    {
     "data": {
      "text/plain": [
       "Text(0.5, 1.0, 'Loans Funded per Year')"
      ]
     },
     "execution_count": 108,
     "metadata": {},
     "output_type": "execute_result"
    },
    {
     "data": {
      "image/png": "[encoded data removed]",
      "text/plain": [
       "<Figure size 540x270 with 1 Axes>"
      ]
     },
     "metadata": {},
     "output_type": "display_data"
    }
   ],
   "source": [
    "plt.figure(figsize=(6,3), dpi=90)\n",
    "loans['issue_d'].dt.year.value_counts().sort_index().plot.bar(color='darkblue')\n",
    "plt.xlabel('Year')\n",
    "plt.ylabel('Number of Loans Funded')\n",
    "plt.title('Loans Funded per Year')"
   ]
  },
  {
   "cell_type": "code",
   "execution_count": 109,
   "metadata": {},
   "outputs": [],
   "source": [
    "loans['earliest_cr_line'] = pd.to_datetime(loans['earliest_cr_line'])"
   ]
  },
  {
   "cell_type": "markdown",
   "metadata": {},
   "source": [
    "Calculate number of days between issue date and earliest credit lines, so that we know the days of applicant with the bank"
   ]
  },
  {
   "cell_type": "code",
   "execution_count": 110,
   "metadata": {},
   "outputs": [],
   "source": [
    "loans['days_from_issue_to_earliest_cr'] = (loans['issue_d'] - loans['earliest_cr_line']).apply(lambda x: x.days)"
   ]
  },
  {
   "cell_type": "code",
   "execution_count": 111,
   "metadata": {},
   "outputs": [
    {
     "data": {
      "text/plain": [
       "1132860     4567\n",
       "1106045     2922\n",
       "1761815    10806\n",
       "217532      8888\n",
       "931707      7213\n",
       "Name: days_from_issue_to_earliest_cr, dtype: int64"
      ]
     },
     "execution_count": 111,
     "metadata": {},
     "output_type": "execute_result"
    }
   ],
   "source": [
    "loans['days_from_issue_to_earliest_cr'].sample(5)"
   ]
  },
  {
   "cell_type": "code",
   "execution_count": 112,
   "metadata": {},
   "outputs": [
    {
     "data": {
      "text/plain": [
       "count   13,583.00\n",
       "mean         0.20\n",
       "std          0.40\n",
       "min          0.00\n",
       "25%          0.00\n",
       "50%          0.00\n",
       "75%          0.00\n",
       "max          1.00\n",
       "Name: target, dtype: float64"
      ]
     },
     "execution_count": 112,
     "metadata": {},
     "output_type": "execute_result"
    }
   ],
   "source": [
    "loans['target'] = (loans['loan_status'] == 'Charged Off').astype(int)\n",
    "loans['target'].describe()"
   ]
  },
  {
   "cell_type": "code",
   "execution_count": 113,
   "metadata": {},
   "outputs": [],
   "source": [
    "_df = loans.groupby('days_from_issue_to_earliest_cr')['target'].mean().reset_index()"
   ]
  },
  {
   "cell_type": "code",
   "execution_count": 114,
   "metadata": {},
   "outputs": [
    {
     "data": {
      "text/plain": [
       "<AxesSubplot:xlabel='days_from_issue_to_earliest_cr', ylabel='target'>"
      ]
     },
     "execution_count": 114,
     "metadata": {},
     "output_type": "execute_result"
    },
    {
     "data": {
      "image/png": "[encoded data removed]",
      "text/plain": [
       "<Figure size 432x288 with 1 Axes>"
      ]
     },
     "metadata": {},
     "output_type": "display_data"
    }
   ],
   "source": [
    "sns.scatterplot(x='days_from_issue_to_earliest_cr', y='target', data=_df)"
   ]
  },
  {
   "cell_type": "code",
   "execution_count": 115,
   "metadata": {},
   "outputs": [
    {
     "data": {
      "text/html": [
       "<div>\n",
       "<style scoped>\n",
       "    .dataframe tbody tr th:only-of-type {\n",
       "        vertical-align: middle;\n",
       "    }\n",
       "\n",
       "    .dataframe tbody tr th {\n",
       "        vertical-align: top;\n",
       "    }\n",
       "\n",
       "    .dataframe thead th {\n",
       "        text-align: right;\n",
       "    }\n",
       "</style>\n",
       "<table border=\"1\" class=\"dataframe\">\n",
       "  <thead>\n",
       "    <tr style=\"text-align: right;\">\n",
       "      <th></th>\n",
       "      <th>days_from_issue_to_earliest_cr</th>\n",
       "      <th>target</th>\n",
       "    </tr>\n",
       "  </thead>\n",
       "  <tbody>\n",
       "    <tr>\n",
       "      <th>days_from_issue_to_earliest_cr</th>\n",
       "      <td>1.00</td>\n",
       "      <td>-0.05</td>\n",
       "    </tr>\n",
       "    <tr>\n",
       "      <th>target</th>\n",
       "      <td>-0.05</td>\n",
       "      <td>1.00</td>\n",
       "    </tr>\n",
       "  </tbody>\n",
       "</table>\n",
       "</div>"
      ],
      "text/plain": [
       "                                days_from_issue_to_earliest_cr  target\n",
       "days_from_issue_to_earliest_cr                            1.00   -0.05\n",
       "target                                                   -0.05    1.00"
      ]
     },
     "execution_count": 115,
     "metadata": {},
     "output_type": "execute_result"
    }
   ],
   "source": [
    "_df.corr()"
   ]
  },
  {
   "cell_type": "code",
   "execution_count": 116,
   "metadata": {},
   "outputs": [],
   "source": [
    "loans.drop(['target','earliest_cr_line'],axis=1,inplace=True)"
   ]
  },
  {
   "cell_type": "code",
   "execution_count": null,
   "metadata": {},
   "outputs": [],
   "source": []
  },
  {
   "cell_type": "markdown",
   "metadata": {},
   "source": [
    "#### More Pre preprocessing"
   ]
  },
  {
   "cell_type": "markdown",
   "metadata": {},
   "source": [
    "Convert charge off in loan status as 0/1 indicator"
   ]
  },
  {
   "cell_type": "code",
   "execution_count": 117,
   "metadata": {},
   "outputs": [],
   "source": [
    "loans['charged_off'] = (loans['loan_status'] == 'Charged Off').apply(np.uint8)\n",
    "loans.drop('loan_status', axis=1, inplace=True)"
   ]
  },
  {
   "cell_type": "code",
   "execution_count": 118,
   "metadata": {},
   "outputs": [],
   "source": [
    "\n",
    "missing_fractions = loans.isnull().mean().sort_values(ascending=False) # Fraction of data missing for each variable"
   ]
  },
  {
   "cell_type": "code",
   "execution_count": 119,
   "metadata": {},
   "outputs": [
    {
     "name": "stdout",
     "output_type": "stream",
     "text": [
      "mort_acc               0.03\n",
      "revol_util             0.00\n",
      "pub_rec_bankruptcies   0.00\n",
      "dti                    0.00\n",
      "dtype: float64\n"
     ]
    }
   ],
   "source": [
    "\n",
    "print(missing_fractions[missing_fractions > 0]) # Print variables that are missing data"
   ]
  },
  {
   "cell_type": "code",
   "execution_count": 120,
   "metadata": {},
   "outputs": [
    {
     "name": "stdout",
     "output_type": "stream",
     "text": [
      "Index(['loan_amnt', 'term', 'int_rate', 'installment', 'sub_grade',\n",
      "       'emp_length', 'home_ownership', 'verification_status', 'issue_d',\n",
      "       'purpose', 'addr_state', 'dti', 'revol_util', 'initial_list_status',\n",
      "       'application_type', 'mort_acc', 'pub_rec_bankruptcies',\n",
      "       'log_annual_inc', 'fico_score', 'acc_ratio', 'log_revol_bal',\n",
      "       'days_from_issue_to_earliest_cr', 'charged_off'],\n",
      "      dtype='object')\n"
     ]
    }
   ],
   "source": [
    "\n",
    "print(loans.columns)"
   ]
  },
  {
   "cell_type": "markdown",
   "metadata": {},
   "source": [
    "Create dummy variables for categorical data"
   ]
  },
  {
   "cell_type": "code",
   "execution_count": 121,
   "metadata": {},
   "outputs": [],
   "source": [
    "loans = pd.get_dummies(loans, columns=['sub_grade', 'home_ownership', 'verification_status', 'purpose', 'addr_state', 'initial_list_status','application_type'], drop_first=True)\n",
    "\n"
   ]
  },
  {
   "cell_type": "code",
   "execution_count": 122,
   "metadata": {},
   "outputs": [
    {
     "data": {
      "text/plain": [
       "(13583, 119)"
      ]
     },
     "execution_count": 122,
     "metadata": {},
     "output_type": "execute_result"
    }
   ],
   "source": [
    "loans.shape"
   ]
  },
  {
   "cell_type": "code",
   "execution_count": null,
   "metadata": {},
   "outputs": [],
   "source": []
  },
  {
   "cell_type": "code",
   "execution_count": 123,
   "metadata": {},
   "outputs": [],
   "source": [
    "import pyarrow.feather as feather\n",
    "feather.write_feather(loans,'./loans_modelling_data')"
   ]
  }
 ],
 "metadata": {
  "kernelspec": {
   "display_name": "Python 3",
   "language": "python",
   "name": "python3"
  },
  "language_info": {
   "codemirror_mode": {
    "name": "ipython",
    "version": 3
   },
   "file_extension": ".py",
   "mimetype": "text/x-python",
   "name": "python",
   "nbconvert_exporter": "python",
   "pygments_lexer": "ipython3",
   "version": "3.7.9"
  }
 },
 "nbformat": 4,
 "nbformat_minor": 4
}
